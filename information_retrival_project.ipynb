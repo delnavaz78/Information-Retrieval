{
  "nbformat": 4,
  "nbformat_minor": 0,
  "metadata": {
    "colab": {
      "provenance": [],
      "gpuType": "T4"
    },
    "kernelspec": {
      "name": "python3",
      "display_name": "Python 3"
    },
    "language_info": {
      "name": "python"
    },
    "widgets": {
      "application/vnd.jupyter.widget-state+json": {
        "214b6f9af7c24a1f835778e300f3a6bd": {
          "model_module": "@jupyter-widgets/controls",
          "model_name": "HBoxModel",
          "model_module_version": "1.5.0",
          "state": {
            "_dom_classes": [],
            "_model_module": "@jupyter-widgets/controls",
            "_model_module_version": "1.5.0",
            "_model_name": "HBoxModel",
            "_view_count": null,
            "_view_module": "@jupyter-widgets/controls",
            "_view_module_version": "1.5.0",
            "_view_name": "HBoxView",
            "box_style": "",
            "children": [
              "IPY_MODEL_4074ebac76ea411d8f864de01d041311",
              "IPY_MODEL_a91c827c53ca42e0ace43a5a31fba233",
              "IPY_MODEL_e0fbc80849f14e6088309c85e52ed073"
            ],
            "layout": "IPY_MODEL_855846aec5d64156b7a973077d421b05"
          }
        },
        "4074ebac76ea411d8f864de01d041311": {
          "model_module": "@jupyter-widgets/controls",
          "model_name": "HTMLModel",
          "model_module_version": "1.5.0",
          "state": {
            "_dom_classes": [],
            "_model_module": "@jupyter-widgets/controls",
            "_model_module_version": "1.5.0",
            "_model_name": "HTMLModel",
            "_view_count": null,
            "_view_module": "@jupyter-widgets/controls",
            "_view_module_version": "1.5.0",
            "_view_name": "HTMLView",
            "description": "",
            "description_tooltip": null,
            "layout": "IPY_MODEL_3c1578b5cc51424c9184cdb810364d8f",
            "placeholder": "​",
            "style": "IPY_MODEL_ccf6ea926efe4a4f957d3e1712a26ba6",
            "value": "tokenizer_config.json: 100%"
          }
        },
        "a91c827c53ca42e0ace43a5a31fba233": {
          "model_module": "@jupyter-widgets/controls",
          "model_name": "FloatProgressModel",
          "model_module_version": "1.5.0",
          "state": {
            "_dom_classes": [],
            "_model_module": "@jupyter-widgets/controls",
            "_model_module_version": "1.5.0",
            "_model_name": "FloatProgressModel",
            "_view_count": null,
            "_view_module": "@jupyter-widgets/controls",
            "_view_module_version": "1.5.0",
            "_view_name": "ProgressView",
            "bar_style": "success",
            "description": "",
            "description_tooltip": null,
            "layout": "IPY_MODEL_d1b8f898f0974084977e0efda328e5de",
            "max": 48,
            "min": 0,
            "orientation": "horizontal",
            "style": "IPY_MODEL_9229016b8bef48c8bca85e4bbd04dcf7",
            "value": 48
          }
        },
        "e0fbc80849f14e6088309c85e52ed073": {
          "model_module": "@jupyter-widgets/controls",
          "model_name": "HTMLModel",
          "model_module_version": "1.5.0",
          "state": {
            "_dom_classes": [],
            "_model_module": "@jupyter-widgets/controls",
            "_model_module_version": "1.5.0",
            "_model_name": "HTMLModel",
            "_view_count": null,
            "_view_module": "@jupyter-widgets/controls",
            "_view_module_version": "1.5.0",
            "_view_name": "HTMLView",
            "description": "",
            "description_tooltip": null,
            "layout": "IPY_MODEL_543ba4a30c1a45528a4ee987e3e35cda",
            "placeholder": "​",
            "style": "IPY_MODEL_06d91b7dd8ae45bab3a14b1622430c0f",
            "value": " 48.0/48.0 [00:00&lt;00:00, 5.17kB/s]"
          }
        },
        "855846aec5d64156b7a973077d421b05": {
          "model_module": "@jupyter-widgets/base",
          "model_name": "LayoutModel",
          "model_module_version": "1.2.0",
          "state": {
            "_model_module": "@jupyter-widgets/base",
            "_model_module_version": "1.2.0",
            "_model_name": "LayoutModel",
            "_view_count": null,
            "_view_module": "@jupyter-widgets/base",
            "_view_module_version": "1.2.0",
            "_view_name": "LayoutView",
            "align_content": null,
            "align_items": null,
            "align_self": null,
            "border": null,
            "bottom": null,
            "display": null,
            "flex": null,
            "flex_flow": null,
            "grid_area": null,
            "grid_auto_columns": null,
            "grid_auto_flow": null,
            "grid_auto_rows": null,
            "grid_column": null,
            "grid_gap": null,
            "grid_row": null,
            "grid_template_areas": null,
            "grid_template_columns": null,
            "grid_template_rows": null,
            "height": null,
            "justify_content": null,
            "justify_items": null,
            "left": null,
            "margin": null,
            "max_height": null,
            "max_width": null,
            "min_height": null,
            "min_width": null,
            "object_fit": null,
            "object_position": null,
            "order": null,
            "overflow": null,
            "overflow_x": null,
            "overflow_y": null,
            "padding": null,
            "right": null,
            "top": null,
            "visibility": null,
            "width": null
          }
        },
        "3c1578b5cc51424c9184cdb810364d8f": {
          "model_module": "@jupyter-widgets/base",
          "model_name": "LayoutModel",
          "model_module_version": "1.2.0",
          "state": {
            "_model_module": "@jupyter-widgets/base",
            "_model_module_version": "1.2.0",
            "_model_name": "LayoutModel",
            "_view_count": null,
            "_view_module": "@jupyter-widgets/base",
            "_view_module_version": "1.2.0",
            "_view_name": "LayoutView",
            "align_content": null,
            "align_items": null,
            "align_self": null,
            "border": null,
            "bottom": null,
            "display": null,
            "flex": null,
            "flex_flow": null,
            "grid_area": null,
            "grid_auto_columns": null,
            "grid_auto_flow": null,
            "grid_auto_rows": null,
            "grid_column": null,
            "grid_gap": null,
            "grid_row": null,
            "grid_template_areas": null,
            "grid_template_columns": null,
            "grid_template_rows": null,
            "height": null,
            "justify_content": null,
            "justify_items": null,
            "left": null,
            "margin": null,
            "max_height": null,
            "max_width": null,
            "min_height": null,
            "min_width": null,
            "object_fit": null,
            "object_position": null,
            "order": null,
            "overflow": null,
            "overflow_x": null,
            "overflow_y": null,
            "padding": null,
            "right": null,
            "top": null,
            "visibility": null,
            "width": null
          }
        },
        "ccf6ea926efe4a4f957d3e1712a26ba6": {
          "model_module": "@jupyter-widgets/controls",
          "model_name": "DescriptionStyleModel",
          "model_module_version": "1.5.0",
          "state": {
            "_model_module": "@jupyter-widgets/controls",
            "_model_module_version": "1.5.0",
            "_model_name": "DescriptionStyleModel",
            "_view_count": null,
            "_view_module": "@jupyter-widgets/base",
            "_view_module_version": "1.2.0",
            "_view_name": "StyleView",
            "description_width": ""
          }
        },
        "d1b8f898f0974084977e0efda328e5de": {
          "model_module": "@jupyter-widgets/base",
          "model_name": "LayoutModel",
          "model_module_version": "1.2.0",
          "state": {
            "_model_module": "@jupyter-widgets/base",
            "_model_module_version": "1.2.0",
            "_model_name": "LayoutModel",
            "_view_count": null,
            "_view_module": "@jupyter-widgets/base",
            "_view_module_version": "1.2.0",
            "_view_name": "LayoutView",
            "align_content": null,
            "align_items": null,
            "align_self": null,
            "border": null,
            "bottom": null,
            "display": null,
            "flex": null,
            "flex_flow": null,
            "grid_area": null,
            "grid_auto_columns": null,
            "grid_auto_flow": null,
            "grid_auto_rows": null,
            "grid_column": null,
            "grid_gap": null,
            "grid_row": null,
            "grid_template_areas": null,
            "grid_template_columns": null,
            "grid_template_rows": null,
            "height": null,
            "justify_content": null,
            "justify_items": null,
            "left": null,
            "margin": null,
            "max_height": null,
            "max_width": null,
            "min_height": null,
            "min_width": null,
            "object_fit": null,
            "object_position": null,
            "order": null,
            "overflow": null,
            "overflow_x": null,
            "overflow_y": null,
            "padding": null,
            "right": null,
            "top": null,
            "visibility": null,
            "width": null
          }
        },
        "9229016b8bef48c8bca85e4bbd04dcf7": {
          "model_module": "@jupyter-widgets/controls",
          "model_name": "ProgressStyleModel",
          "model_module_version": "1.5.0",
          "state": {
            "_model_module": "@jupyter-widgets/controls",
            "_model_module_version": "1.5.0",
            "_model_name": "ProgressStyleModel",
            "_view_count": null,
            "_view_module": "@jupyter-widgets/base",
            "_view_module_version": "1.2.0",
            "_view_name": "StyleView",
            "bar_color": null,
            "description_width": ""
          }
        },
        "543ba4a30c1a45528a4ee987e3e35cda": {
          "model_module": "@jupyter-widgets/base",
          "model_name": "LayoutModel",
          "model_module_version": "1.2.0",
          "state": {
            "_model_module": "@jupyter-widgets/base",
            "_model_module_version": "1.2.0",
            "_model_name": "LayoutModel",
            "_view_count": null,
            "_view_module": "@jupyter-widgets/base",
            "_view_module_version": "1.2.0",
            "_view_name": "LayoutView",
            "align_content": null,
            "align_items": null,
            "align_self": null,
            "border": null,
            "bottom": null,
            "display": null,
            "flex": null,
            "flex_flow": null,
            "grid_area": null,
            "grid_auto_columns": null,
            "grid_auto_flow": null,
            "grid_auto_rows": null,
            "grid_column": null,
            "grid_gap": null,
            "grid_row": null,
            "grid_template_areas": null,
            "grid_template_columns": null,
            "grid_template_rows": null,
            "height": null,
            "justify_content": null,
            "justify_items": null,
            "left": null,
            "margin": null,
            "max_height": null,
            "max_width": null,
            "min_height": null,
            "min_width": null,
            "object_fit": null,
            "object_position": null,
            "order": null,
            "overflow": null,
            "overflow_x": null,
            "overflow_y": null,
            "padding": null,
            "right": null,
            "top": null,
            "visibility": null,
            "width": null
          }
        },
        "06d91b7dd8ae45bab3a14b1622430c0f": {
          "model_module": "@jupyter-widgets/controls",
          "model_name": "DescriptionStyleModel",
          "model_module_version": "1.5.0",
          "state": {
            "_model_module": "@jupyter-widgets/controls",
            "_model_module_version": "1.5.0",
            "_model_name": "DescriptionStyleModel",
            "_view_count": null,
            "_view_module": "@jupyter-widgets/base",
            "_view_module_version": "1.2.0",
            "_view_name": "StyleView",
            "description_width": ""
          }
        },
        "cadae4943cc448e8880914640800f608": {
          "model_module": "@jupyter-widgets/controls",
          "model_name": "HBoxModel",
          "model_module_version": "1.5.0",
          "state": {
            "_dom_classes": [],
            "_model_module": "@jupyter-widgets/controls",
            "_model_module_version": "1.5.0",
            "_model_name": "HBoxModel",
            "_view_count": null,
            "_view_module": "@jupyter-widgets/controls",
            "_view_module_version": "1.5.0",
            "_view_name": "HBoxView",
            "box_style": "",
            "children": [
              "IPY_MODEL_49152f6c2f7f4144b0857f5922d00ada",
              "IPY_MODEL_d750d90a40de4029b078fe5940c5e49f",
              "IPY_MODEL_ba0a585aee114b06a04000723211c9db"
            ],
            "layout": "IPY_MODEL_0a4f39ce472d4c97ab32fc41509b1b84"
          }
        },
        "49152f6c2f7f4144b0857f5922d00ada": {
          "model_module": "@jupyter-widgets/controls",
          "model_name": "HTMLModel",
          "model_module_version": "1.5.0",
          "state": {
            "_dom_classes": [],
            "_model_module": "@jupyter-widgets/controls",
            "_model_module_version": "1.5.0",
            "_model_name": "HTMLModel",
            "_view_count": null,
            "_view_module": "@jupyter-widgets/controls",
            "_view_module_version": "1.5.0",
            "_view_name": "HTMLView",
            "description": "",
            "description_tooltip": null,
            "layout": "IPY_MODEL_4b47f2801db949398b4b2c8140175e8a",
            "placeholder": "​",
            "style": "IPY_MODEL_410463fe6cda4410ab9aaec684bda1e3",
            "value": "vocab.txt: 100%"
          }
        },
        "d750d90a40de4029b078fe5940c5e49f": {
          "model_module": "@jupyter-widgets/controls",
          "model_name": "FloatProgressModel",
          "model_module_version": "1.5.0",
          "state": {
            "_dom_classes": [],
            "_model_module": "@jupyter-widgets/controls",
            "_model_module_version": "1.5.0",
            "_model_name": "FloatProgressModel",
            "_view_count": null,
            "_view_module": "@jupyter-widgets/controls",
            "_view_module_version": "1.5.0",
            "_view_name": "ProgressView",
            "bar_style": "success",
            "description": "",
            "description_tooltip": null,
            "layout": "IPY_MODEL_63a904000c6540b395262adc4d5896e3",
            "max": 231508,
            "min": 0,
            "orientation": "horizontal",
            "style": "IPY_MODEL_da614eef1418462ab320f8227d608295",
            "value": 231508
          }
        },
        "ba0a585aee114b06a04000723211c9db": {
          "model_module": "@jupyter-widgets/controls",
          "model_name": "HTMLModel",
          "model_module_version": "1.5.0",
          "state": {
            "_dom_classes": [],
            "_model_module": "@jupyter-widgets/controls",
            "_model_module_version": "1.5.0",
            "_model_name": "HTMLModel",
            "_view_count": null,
            "_view_module": "@jupyter-widgets/controls",
            "_view_module_version": "1.5.0",
            "_view_name": "HTMLView",
            "description": "",
            "description_tooltip": null,
            "layout": "IPY_MODEL_77a28d890377425c92d75bf134926f7f",
            "placeholder": "​",
            "style": "IPY_MODEL_25f12aad58ee4ab185df3535610c18db",
            "value": " 232k/232k [00:00&lt;00:00, 7.28MB/s]"
          }
        },
        "0a4f39ce472d4c97ab32fc41509b1b84": {
          "model_module": "@jupyter-widgets/base",
          "model_name": "LayoutModel",
          "model_module_version": "1.2.0",
          "state": {
            "_model_module": "@jupyter-widgets/base",
            "_model_module_version": "1.2.0",
            "_model_name": "LayoutModel",
            "_view_count": null,
            "_view_module": "@jupyter-widgets/base",
            "_view_module_version": "1.2.0",
            "_view_name": "LayoutView",
            "align_content": null,
            "align_items": null,
            "align_self": null,
            "border": null,
            "bottom": null,
            "display": null,
            "flex": null,
            "flex_flow": null,
            "grid_area": null,
            "grid_auto_columns": null,
            "grid_auto_flow": null,
            "grid_auto_rows": null,
            "grid_column": null,
            "grid_gap": null,
            "grid_row": null,
            "grid_template_areas": null,
            "grid_template_columns": null,
            "grid_template_rows": null,
            "height": null,
            "justify_content": null,
            "justify_items": null,
            "left": null,
            "margin": null,
            "max_height": null,
            "max_width": null,
            "min_height": null,
            "min_width": null,
            "object_fit": null,
            "object_position": null,
            "order": null,
            "overflow": null,
            "overflow_x": null,
            "overflow_y": null,
            "padding": null,
            "right": null,
            "top": null,
            "visibility": null,
            "width": null
          }
        },
        "4b47f2801db949398b4b2c8140175e8a": {
          "model_module": "@jupyter-widgets/base",
          "model_name": "LayoutModel",
          "model_module_version": "1.2.0",
          "state": {
            "_model_module": "@jupyter-widgets/base",
            "_model_module_version": "1.2.0",
            "_model_name": "LayoutModel",
            "_view_count": null,
            "_view_module": "@jupyter-widgets/base",
            "_view_module_version": "1.2.0",
            "_view_name": "LayoutView",
            "align_content": null,
            "align_items": null,
            "align_self": null,
            "border": null,
            "bottom": null,
            "display": null,
            "flex": null,
            "flex_flow": null,
            "grid_area": null,
            "grid_auto_columns": null,
            "grid_auto_flow": null,
            "grid_auto_rows": null,
            "grid_column": null,
            "grid_gap": null,
            "grid_row": null,
            "grid_template_areas": null,
            "grid_template_columns": null,
            "grid_template_rows": null,
            "height": null,
            "justify_content": null,
            "justify_items": null,
            "left": null,
            "margin": null,
            "max_height": null,
            "max_width": null,
            "min_height": null,
            "min_width": null,
            "object_fit": null,
            "object_position": null,
            "order": null,
            "overflow": null,
            "overflow_x": null,
            "overflow_y": null,
            "padding": null,
            "right": null,
            "top": null,
            "visibility": null,
            "width": null
          }
        },
        "410463fe6cda4410ab9aaec684bda1e3": {
          "model_module": "@jupyter-widgets/controls",
          "model_name": "DescriptionStyleModel",
          "model_module_version": "1.5.0",
          "state": {
            "_model_module": "@jupyter-widgets/controls",
            "_model_module_version": "1.5.0",
            "_model_name": "DescriptionStyleModel",
            "_view_count": null,
            "_view_module": "@jupyter-widgets/base",
            "_view_module_version": "1.2.0",
            "_view_name": "StyleView",
            "description_width": ""
          }
        },
        "63a904000c6540b395262adc4d5896e3": {
          "model_module": "@jupyter-widgets/base",
          "model_name": "LayoutModel",
          "model_module_version": "1.2.0",
          "state": {
            "_model_module": "@jupyter-widgets/base",
            "_model_module_version": "1.2.0",
            "_model_name": "LayoutModel",
            "_view_count": null,
            "_view_module": "@jupyter-widgets/base",
            "_view_module_version": "1.2.0",
            "_view_name": "LayoutView",
            "align_content": null,
            "align_items": null,
            "align_self": null,
            "border": null,
            "bottom": null,
            "display": null,
            "flex": null,
            "flex_flow": null,
            "grid_area": null,
            "grid_auto_columns": null,
            "grid_auto_flow": null,
            "grid_auto_rows": null,
            "grid_column": null,
            "grid_gap": null,
            "grid_row": null,
            "grid_template_areas": null,
            "grid_template_columns": null,
            "grid_template_rows": null,
            "height": null,
            "justify_content": null,
            "justify_items": null,
            "left": null,
            "margin": null,
            "max_height": null,
            "max_width": null,
            "min_height": null,
            "min_width": null,
            "object_fit": null,
            "object_position": null,
            "order": null,
            "overflow": null,
            "overflow_x": null,
            "overflow_y": null,
            "padding": null,
            "right": null,
            "top": null,
            "visibility": null,
            "width": null
          }
        },
        "da614eef1418462ab320f8227d608295": {
          "model_module": "@jupyter-widgets/controls",
          "model_name": "ProgressStyleModel",
          "model_module_version": "1.5.0",
          "state": {
            "_model_module": "@jupyter-widgets/controls",
            "_model_module_version": "1.5.0",
            "_model_name": "ProgressStyleModel",
            "_view_count": null,
            "_view_module": "@jupyter-widgets/base",
            "_view_module_version": "1.2.0",
            "_view_name": "StyleView",
            "bar_color": null,
            "description_width": ""
          }
        },
        "77a28d890377425c92d75bf134926f7f": {
          "model_module": "@jupyter-widgets/base",
          "model_name": "LayoutModel",
          "model_module_version": "1.2.0",
          "state": {
            "_model_module": "@jupyter-widgets/base",
            "_model_module_version": "1.2.0",
            "_model_name": "LayoutModel",
            "_view_count": null,
            "_view_module": "@jupyter-widgets/base",
            "_view_module_version": "1.2.0",
            "_view_name": "LayoutView",
            "align_content": null,
            "align_items": null,
            "align_self": null,
            "border": null,
            "bottom": null,
            "display": null,
            "flex": null,
            "flex_flow": null,
            "grid_area": null,
            "grid_auto_columns": null,
            "grid_auto_flow": null,
            "grid_auto_rows": null,
            "grid_column": null,
            "grid_gap": null,
            "grid_row": null,
            "grid_template_areas": null,
            "grid_template_columns": null,
            "grid_template_rows": null,
            "height": null,
            "justify_content": null,
            "justify_items": null,
            "left": null,
            "margin": null,
            "max_height": null,
            "max_width": null,
            "min_height": null,
            "min_width": null,
            "object_fit": null,
            "object_position": null,
            "order": null,
            "overflow": null,
            "overflow_x": null,
            "overflow_y": null,
            "padding": null,
            "right": null,
            "top": null,
            "visibility": null,
            "width": null
          }
        },
        "25f12aad58ee4ab185df3535610c18db": {
          "model_module": "@jupyter-widgets/controls",
          "model_name": "DescriptionStyleModel",
          "model_module_version": "1.5.0",
          "state": {
            "_model_module": "@jupyter-widgets/controls",
            "_model_module_version": "1.5.0",
            "_model_name": "DescriptionStyleModel",
            "_view_count": null,
            "_view_module": "@jupyter-widgets/base",
            "_view_module_version": "1.2.0",
            "_view_name": "StyleView",
            "description_width": ""
          }
        },
        "a1e5f0c09b5143a1a88b644a0f4a91de": {
          "model_module": "@jupyter-widgets/controls",
          "model_name": "HBoxModel",
          "model_module_version": "1.5.0",
          "state": {
            "_dom_classes": [],
            "_model_module": "@jupyter-widgets/controls",
            "_model_module_version": "1.5.0",
            "_model_name": "HBoxModel",
            "_view_count": null,
            "_view_module": "@jupyter-widgets/controls",
            "_view_module_version": "1.5.0",
            "_view_name": "HBoxView",
            "box_style": "",
            "children": [
              "IPY_MODEL_ef15a71453a643b9a35498e9bcb1609c",
              "IPY_MODEL_1e0d4e22dba44e31856f7d3b36066ad4",
              "IPY_MODEL_93486dde50f14cc786b39c1ad0cc99a1"
            ],
            "layout": "IPY_MODEL_9451181b94de43fb817d9e161187d93a"
          }
        },
        "ef15a71453a643b9a35498e9bcb1609c": {
          "model_module": "@jupyter-widgets/controls",
          "model_name": "HTMLModel",
          "model_module_version": "1.5.0",
          "state": {
            "_dom_classes": [],
            "_model_module": "@jupyter-widgets/controls",
            "_model_module_version": "1.5.0",
            "_model_name": "HTMLModel",
            "_view_count": null,
            "_view_module": "@jupyter-widgets/controls",
            "_view_module_version": "1.5.0",
            "_view_name": "HTMLView",
            "description": "",
            "description_tooltip": null,
            "layout": "IPY_MODEL_30cb6de2664c4f41bf9d344ada14f41f",
            "placeholder": "​",
            "style": "IPY_MODEL_d4d87482c5c14493927d8ac941d7e803",
            "value": "tokenizer.json: 100%"
          }
        },
        "1e0d4e22dba44e31856f7d3b36066ad4": {
          "model_module": "@jupyter-widgets/controls",
          "model_name": "FloatProgressModel",
          "model_module_version": "1.5.0",
          "state": {
            "_dom_classes": [],
            "_model_module": "@jupyter-widgets/controls",
            "_model_module_version": "1.5.0",
            "_model_name": "FloatProgressModel",
            "_view_count": null,
            "_view_module": "@jupyter-widgets/controls",
            "_view_module_version": "1.5.0",
            "_view_name": "ProgressView",
            "bar_style": "success",
            "description": "",
            "description_tooltip": null,
            "layout": "IPY_MODEL_8be4910a6c6e4d0cb6ebd47b1fe1ec2d",
            "max": 466062,
            "min": 0,
            "orientation": "horizontal",
            "style": "IPY_MODEL_6781d6e88bc24168adcdc4b28359e410",
            "value": 466062
          }
        },
        "93486dde50f14cc786b39c1ad0cc99a1": {
          "model_module": "@jupyter-widgets/controls",
          "model_name": "HTMLModel",
          "model_module_version": "1.5.0",
          "state": {
            "_dom_classes": [],
            "_model_module": "@jupyter-widgets/controls",
            "_model_module_version": "1.5.0",
            "_model_name": "HTMLModel",
            "_view_count": null,
            "_view_module": "@jupyter-widgets/controls",
            "_view_module_version": "1.5.0",
            "_view_name": "HTMLView",
            "description": "",
            "description_tooltip": null,
            "layout": "IPY_MODEL_4876a328f6ac4adbbd399172f05e7514",
            "placeholder": "​",
            "style": "IPY_MODEL_516f079d562a4c49bfc9abcb3d6ce6a2",
            "value": " 466k/466k [00:00&lt;00:00, 6.24MB/s]"
          }
        },
        "9451181b94de43fb817d9e161187d93a": {
          "model_module": "@jupyter-widgets/base",
          "model_name": "LayoutModel",
          "model_module_version": "1.2.0",
          "state": {
            "_model_module": "@jupyter-widgets/base",
            "_model_module_version": "1.2.0",
            "_model_name": "LayoutModel",
            "_view_count": null,
            "_view_module": "@jupyter-widgets/base",
            "_view_module_version": "1.2.0",
            "_view_name": "LayoutView",
            "align_content": null,
            "align_items": null,
            "align_self": null,
            "border": null,
            "bottom": null,
            "display": null,
            "flex": null,
            "flex_flow": null,
            "grid_area": null,
            "grid_auto_columns": null,
            "grid_auto_flow": null,
            "grid_auto_rows": null,
            "grid_column": null,
            "grid_gap": null,
            "grid_row": null,
            "grid_template_areas": null,
            "grid_template_columns": null,
            "grid_template_rows": null,
            "height": null,
            "justify_content": null,
            "justify_items": null,
            "left": null,
            "margin": null,
            "max_height": null,
            "max_width": null,
            "min_height": null,
            "min_width": null,
            "object_fit": null,
            "object_position": null,
            "order": null,
            "overflow": null,
            "overflow_x": null,
            "overflow_y": null,
            "padding": null,
            "right": null,
            "top": null,
            "visibility": null,
            "width": null
          }
        },
        "30cb6de2664c4f41bf9d344ada14f41f": {
          "model_module": "@jupyter-widgets/base",
          "model_name": "LayoutModel",
          "model_module_version": "1.2.0",
          "state": {
            "_model_module": "@jupyter-widgets/base",
            "_model_module_version": "1.2.0",
            "_model_name": "LayoutModel",
            "_view_count": null,
            "_view_module": "@jupyter-widgets/base",
            "_view_module_version": "1.2.0",
            "_view_name": "LayoutView",
            "align_content": null,
            "align_items": null,
            "align_self": null,
            "border": null,
            "bottom": null,
            "display": null,
            "flex": null,
            "flex_flow": null,
            "grid_area": null,
            "grid_auto_columns": null,
            "grid_auto_flow": null,
            "grid_auto_rows": null,
            "grid_column": null,
            "grid_gap": null,
            "grid_row": null,
            "grid_template_areas": null,
            "grid_template_columns": null,
            "grid_template_rows": null,
            "height": null,
            "justify_content": null,
            "justify_items": null,
            "left": null,
            "margin": null,
            "max_height": null,
            "max_width": null,
            "min_height": null,
            "min_width": null,
            "object_fit": null,
            "object_position": null,
            "order": null,
            "overflow": null,
            "overflow_x": null,
            "overflow_y": null,
            "padding": null,
            "right": null,
            "top": null,
            "visibility": null,
            "width": null
          }
        },
        "d4d87482c5c14493927d8ac941d7e803": {
          "model_module": "@jupyter-widgets/controls",
          "model_name": "DescriptionStyleModel",
          "model_module_version": "1.5.0",
          "state": {
            "_model_module": "@jupyter-widgets/controls",
            "_model_module_version": "1.5.0",
            "_model_name": "DescriptionStyleModel",
            "_view_count": null,
            "_view_module": "@jupyter-widgets/base",
            "_view_module_version": "1.2.0",
            "_view_name": "StyleView",
            "description_width": ""
          }
        },
        "8be4910a6c6e4d0cb6ebd47b1fe1ec2d": {
          "model_module": "@jupyter-widgets/base",
          "model_name": "LayoutModel",
          "model_module_version": "1.2.0",
          "state": {
            "_model_module": "@jupyter-widgets/base",
            "_model_module_version": "1.2.0",
            "_model_name": "LayoutModel",
            "_view_count": null,
            "_view_module": "@jupyter-widgets/base",
            "_view_module_version": "1.2.0",
            "_view_name": "LayoutView",
            "align_content": null,
            "align_items": null,
            "align_self": null,
            "border": null,
            "bottom": null,
            "display": null,
            "flex": null,
            "flex_flow": null,
            "grid_area": null,
            "grid_auto_columns": null,
            "grid_auto_flow": null,
            "grid_auto_rows": null,
            "grid_column": null,
            "grid_gap": null,
            "grid_row": null,
            "grid_template_areas": null,
            "grid_template_columns": null,
            "grid_template_rows": null,
            "height": null,
            "justify_content": null,
            "justify_items": null,
            "left": null,
            "margin": null,
            "max_height": null,
            "max_width": null,
            "min_height": null,
            "min_width": null,
            "object_fit": null,
            "object_position": null,
            "order": null,
            "overflow": null,
            "overflow_x": null,
            "overflow_y": null,
            "padding": null,
            "right": null,
            "top": null,
            "visibility": null,
            "width": null
          }
        },
        "6781d6e88bc24168adcdc4b28359e410": {
          "model_module": "@jupyter-widgets/controls",
          "model_name": "ProgressStyleModel",
          "model_module_version": "1.5.0",
          "state": {
            "_model_module": "@jupyter-widgets/controls",
            "_model_module_version": "1.5.0",
            "_model_name": "ProgressStyleModel",
            "_view_count": null,
            "_view_module": "@jupyter-widgets/base",
            "_view_module_version": "1.2.0",
            "_view_name": "StyleView",
            "bar_color": null,
            "description_width": ""
          }
        },
        "4876a328f6ac4adbbd399172f05e7514": {
          "model_module": "@jupyter-widgets/base",
          "model_name": "LayoutModel",
          "model_module_version": "1.2.0",
          "state": {
            "_model_module": "@jupyter-widgets/base",
            "_model_module_version": "1.2.0",
            "_model_name": "LayoutModel",
            "_view_count": null,
            "_view_module": "@jupyter-widgets/base",
            "_view_module_version": "1.2.0",
            "_view_name": "LayoutView",
            "align_content": null,
            "align_items": null,
            "align_self": null,
            "border": null,
            "bottom": null,
            "display": null,
            "flex": null,
            "flex_flow": null,
            "grid_area": null,
            "grid_auto_columns": null,
            "grid_auto_flow": null,
            "grid_auto_rows": null,
            "grid_column": null,
            "grid_gap": null,
            "grid_row": null,
            "grid_template_areas": null,
            "grid_template_columns": null,
            "grid_template_rows": null,
            "height": null,
            "justify_content": null,
            "justify_items": null,
            "left": null,
            "margin": null,
            "max_height": null,
            "max_width": null,
            "min_height": null,
            "min_width": null,
            "object_fit": null,
            "object_position": null,
            "order": null,
            "overflow": null,
            "overflow_x": null,
            "overflow_y": null,
            "padding": null,
            "right": null,
            "top": null,
            "visibility": null,
            "width": null
          }
        },
        "516f079d562a4c49bfc9abcb3d6ce6a2": {
          "model_module": "@jupyter-widgets/controls",
          "model_name": "DescriptionStyleModel",
          "model_module_version": "1.5.0",
          "state": {
            "_model_module": "@jupyter-widgets/controls",
            "_model_module_version": "1.5.0",
            "_model_name": "DescriptionStyleModel",
            "_view_count": null,
            "_view_module": "@jupyter-widgets/base",
            "_view_module_version": "1.2.0",
            "_view_name": "StyleView",
            "description_width": ""
          }
        },
        "071570dec0584943946a1808f348a553": {
          "model_module": "@jupyter-widgets/controls",
          "model_name": "HBoxModel",
          "model_module_version": "1.5.0",
          "state": {
            "_dom_classes": [],
            "_model_module": "@jupyter-widgets/controls",
            "_model_module_version": "1.5.0",
            "_model_name": "HBoxModel",
            "_view_count": null,
            "_view_module": "@jupyter-widgets/controls",
            "_view_module_version": "1.5.0",
            "_view_name": "HBoxView",
            "box_style": "",
            "children": [
              "IPY_MODEL_443ccad1c5324af6b2a22400ad7878d6",
              "IPY_MODEL_05db0479fc2a42ac92b2c09dea15cd5d",
              "IPY_MODEL_e68d6577f0514d449f577e46a6a1fcb7"
            ],
            "layout": "IPY_MODEL_2059d8bee4104fdd9e28cd7d422e11ac"
          }
        },
        "443ccad1c5324af6b2a22400ad7878d6": {
          "model_module": "@jupyter-widgets/controls",
          "model_name": "HTMLModel",
          "model_module_version": "1.5.0",
          "state": {
            "_dom_classes": [],
            "_model_module": "@jupyter-widgets/controls",
            "_model_module_version": "1.5.0",
            "_model_name": "HTMLModel",
            "_view_count": null,
            "_view_module": "@jupyter-widgets/controls",
            "_view_module_version": "1.5.0",
            "_view_name": "HTMLView",
            "description": "",
            "description_tooltip": null,
            "layout": "IPY_MODEL_3b85378514d240f3bcb8079ac5e5d91e",
            "placeholder": "​",
            "style": "IPY_MODEL_66873ee0df524896af2bd543d79eb9d9",
            "value": "config.json: 100%"
          }
        },
        "05db0479fc2a42ac92b2c09dea15cd5d": {
          "model_module": "@jupyter-widgets/controls",
          "model_name": "FloatProgressModel",
          "model_module_version": "1.5.0",
          "state": {
            "_dom_classes": [],
            "_model_module": "@jupyter-widgets/controls",
            "_model_module_version": "1.5.0",
            "_model_name": "FloatProgressModel",
            "_view_count": null,
            "_view_module": "@jupyter-widgets/controls",
            "_view_module_version": "1.5.0",
            "_view_name": "ProgressView",
            "bar_style": "success",
            "description": "",
            "description_tooltip": null,
            "layout": "IPY_MODEL_4c1c1b348616434db470550a72990b7e",
            "max": 570,
            "min": 0,
            "orientation": "horizontal",
            "style": "IPY_MODEL_339d15b0269c45138da31ef9c130b867",
            "value": 570
          }
        },
        "e68d6577f0514d449f577e46a6a1fcb7": {
          "model_module": "@jupyter-widgets/controls",
          "model_name": "HTMLModel",
          "model_module_version": "1.5.0",
          "state": {
            "_dom_classes": [],
            "_model_module": "@jupyter-widgets/controls",
            "_model_module_version": "1.5.0",
            "_model_name": "HTMLModel",
            "_view_count": null,
            "_view_module": "@jupyter-widgets/controls",
            "_view_module_version": "1.5.0",
            "_view_name": "HTMLView",
            "description": "",
            "description_tooltip": null,
            "layout": "IPY_MODEL_6e5fbdcb458f4d128c1267da6d9326e9",
            "placeholder": "​",
            "style": "IPY_MODEL_c29ea60b42f24f3da8c7d1e595f2483d",
            "value": " 570/570 [00:00&lt;00:00, 59.2kB/s]"
          }
        },
        "2059d8bee4104fdd9e28cd7d422e11ac": {
          "model_module": "@jupyter-widgets/base",
          "model_name": "LayoutModel",
          "model_module_version": "1.2.0",
          "state": {
            "_model_module": "@jupyter-widgets/base",
            "_model_module_version": "1.2.0",
            "_model_name": "LayoutModel",
            "_view_count": null,
            "_view_module": "@jupyter-widgets/base",
            "_view_module_version": "1.2.0",
            "_view_name": "LayoutView",
            "align_content": null,
            "align_items": null,
            "align_self": null,
            "border": null,
            "bottom": null,
            "display": null,
            "flex": null,
            "flex_flow": null,
            "grid_area": null,
            "grid_auto_columns": null,
            "grid_auto_flow": null,
            "grid_auto_rows": null,
            "grid_column": null,
            "grid_gap": null,
            "grid_row": null,
            "grid_template_areas": null,
            "grid_template_columns": null,
            "grid_template_rows": null,
            "height": null,
            "justify_content": null,
            "justify_items": null,
            "left": null,
            "margin": null,
            "max_height": null,
            "max_width": null,
            "min_height": null,
            "min_width": null,
            "object_fit": null,
            "object_position": null,
            "order": null,
            "overflow": null,
            "overflow_x": null,
            "overflow_y": null,
            "padding": null,
            "right": null,
            "top": null,
            "visibility": null,
            "width": null
          }
        },
        "3b85378514d240f3bcb8079ac5e5d91e": {
          "model_module": "@jupyter-widgets/base",
          "model_name": "LayoutModel",
          "model_module_version": "1.2.0",
          "state": {
            "_model_module": "@jupyter-widgets/base",
            "_model_module_version": "1.2.0",
            "_model_name": "LayoutModel",
            "_view_count": null,
            "_view_module": "@jupyter-widgets/base",
            "_view_module_version": "1.2.0",
            "_view_name": "LayoutView",
            "align_content": null,
            "align_items": null,
            "align_self": null,
            "border": null,
            "bottom": null,
            "display": null,
            "flex": null,
            "flex_flow": null,
            "grid_area": null,
            "grid_auto_columns": null,
            "grid_auto_flow": null,
            "grid_auto_rows": null,
            "grid_column": null,
            "grid_gap": null,
            "grid_row": null,
            "grid_template_areas": null,
            "grid_template_columns": null,
            "grid_template_rows": null,
            "height": null,
            "justify_content": null,
            "justify_items": null,
            "left": null,
            "margin": null,
            "max_height": null,
            "max_width": null,
            "min_height": null,
            "min_width": null,
            "object_fit": null,
            "object_position": null,
            "order": null,
            "overflow": null,
            "overflow_x": null,
            "overflow_y": null,
            "padding": null,
            "right": null,
            "top": null,
            "visibility": null,
            "width": null
          }
        },
        "66873ee0df524896af2bd543d79eb9d9": {
          "model_module": "@jupyter-widgets/controls",
          "model_name": "DescriptionStyleModel",
          "model_module_version": "1.5.0",
          "state": {
            "_model_module": "@jupyter-widgets/controls",
            "_model_module_version": "1.5.0",
            "_model_name": "DescriptionStyleModel",
            "_view_count": null,
            "_view_module": "@jupyter-widgets/base",
            "_view_module_version": "1.2.0",
            "_view_name": "StyleView",
            "description_width": ""
          }
        },
        "4c1c1b348616434db470550a72990b7e": {
          "model_module": "@jupyter-widgets/base",
          "model_name": "LayoutModel",
          "model_module_version": "1.2.0",
          "state": {
            "_model_module": "@jupyter-widgets/base",
            "_model_module_version": "1.2.0",
            "_model_name": "LayoutModel",
            "_view_count": null,
            "_view_module": "@jupyter-widgets/base",
            "_view_module_version": "1.2.0",
            "_view_name": "LayoutView",
            "align_content": null,
            "align_items": null,
            "align_self": null,
            "border": null,
            "bottom": null,
            "display": null,
            "flex": null,
            "flex_flow": null,
            "grid_area": null,
            "grid_auto_columns": null,
            "grid_auto_flow": null,
            "grid_auto_rows": null,
            "grid_column": null,
            "grid_gap": null,
            "grid_row": null,
            "grid_template_areas": null,
            "grid_template_columns": null,
            "grid_template_rows": null,
            "height": null,
            "justify_content": null,
            "justify_items": null,
            "left": null,
            "margin": null,
            "max_height": null,
            "max_width": null,
            "min_height": null,
            "min_width": null,
            "object_fit": null,
            "object_position": null,
            "order": null,
            "overflow": null,
            "overflow_x": null,
            "overflow_y": null,
            "padding": null,
            "right": null,
            "top": null,
            "visibility": null,
            "width": null
          }
        },
        "339d15b0269c45138da31ef9c130b867": {
          "model_module": "@jupyter-widgets/controls",
          "model_name": "ProgressStyleModel",
          "model_module_version": "1.5.0",
          "state": {
            "_model_module": "@jupyter-widgets/controls",
            "_model_module_version": "1.5.0",
            "_model_name": "ProgressStyleModel",
            "_view_count": null,
            "_view_module": "@jupyter-widgets/base",
            "_view_module_version": "1.2.0",
            "_view_name": "StyleView",
            "bar_color": null,
            "description_width": ""
          }
        },
        "6e5fbdcb458f4d128c1267da6d9326e9": {
          "model_module": "@jupyter-widgets/base",
          "model_name": "LayoutModel",
          "model_module_version": "1.2.0",
          "state": {
            "_model_module": "@jupyter-widgets/base",
            "_model_module_version": "1.2.0",
            "_model_name": "LayoutModel",
            "_view_count": null,
            "_view_module": "@jupyter-widgets/base",
            "_view_module_version": "1.2.0",
            "_view_name": "LayoutView",
            "align_content": null,
            "align_items": null,
            "align_self": null,
            "border": null,
            "bottom": null,
            "display": null,
            "flex": null,
            "flex_flow": null,
            "grid_area": null,
            "grid_auto_columns": null,
            "grid_auto_flow": null,
            "grid_auto_rows": null,
            "grid_column": null,
            "grid_gap": null,
            "grid_row": null,
            "grid_template_areas": null,
            "grid_template_columns": null,
            "grid_template_rows": null,
            "height": null,
            "justify_content": null,
            "justify_items": null,
            "left": null,
            "margin": null,
            "max_height": null,
            "max_width": null,
            "min_height": null,
            "min_width": null,
            "object_fit": null,
            "object_position": null,
            "order": null,
            "overflow": null,
            "overflow_x": null,
            "overflow_y": null,
            "padding": null,
            "right": null,
            "top": null,
            "visibility": null,
            "width": null
          }
        },
        "c29ea60b42f24f3da8c7d1e595f2483d": {
          "model_module": "@jupyter-widgets/controls",
          "model_name": "DescriptionStyleModel",
          "model_module_version": "1.5.0",
          "state": {
            "_model_module": "@jupyter-widgets/controls",
            "_model_module_version": "1.5.0",
            "_model_name": "DescriptionStyleModel",
            "_view_count": null,
            "_view_module": "@jupyter-widgets/base",
            "_view_module_version": "1.2.0",
            "_view_name": "StyleView",
            "description_width": ""
          }
        }
      }
    },
    "accelerator": "GPU"
  },
  "cells": [
    {
      "cell_type": "code",
      "execution_count": null,
      "metadata": {
        "id": "50mjuevO1aOX"
      },
      "outputs": [],
      "source": [
        "!pip install torch\n",
        "!pip install transformers"
      ]
    },
    {
      "cell_type": "code",
      "execution_count": 2,
      "metadata": {
        "id": "61ce02dd"
      },
      "outputs": [],
      "source": [
        "import json\n",
        "import os\n",
        "import random\n",
        "import re\n",
        "import torch\n",
        "import torch.nn as nn\n",
        "import numpy as np\n",
        "import matplotlib.pyplot as plt\n",
        "from sklearn.utils.class_weight import compute_class_weight\n",
        "from torch.utils.data import DataLoader, TensorDataset\n",
        "from transformers import BertTokenizer, BertForSequenceClassification, AdamW\n",
        "from torch.cuda.amp import autocast, GradScaler\n",
        "from imblearn.over_sampling import RandomOverSampler\n",
        "from imblearn.under_sampling import RandomUnderSampler\n",
        "from collections import Counter\n"
      ]
    },
    {
      "cell_type": "code",
      "source": [
        "# 'combined_list' now contains the combined data from all files\n",
        "file_paths = [\"dataset.json\"]\n",
        "\n",
        "dataset = []\n",
        "\n",
        "for file_path in file_paths:\n",
        "    with open(file_path, \"r\") as file:\n",
        "        data = json.load(file)\n",
        "\n",
        "random.shuffle(data)\n",
        "len(data)"
      ],
      "metadata": {
        "id": "XYnDR8vwtrmU",
        "colab": {
          "base_uri": "https://localhost:8080/"
        },
        "outputId": "74da423e-62d9-4b38-b179-1128c3a180dc"
      },
      "execution_count": 3,
      "outputs": [
        {
          "output_type": "execute_result",
          "data": {
            "text/plain": [
              "47136"
            ]
          },
          "metadata": {},
          "execution_count": 3
        }
      ]
    },
    {
      "cell_type": "code",
      "source": [
        "dataset = []\n",
        "\n",
        "for i in range(0, len(data)):\n",
        "    item = data[i].copy()\n",
        "    item.pop('judgments', None)\n",
        "    dataset.append(item)\n",
        "\n",
        "for i in range(0, len(dataset)):\n",
        "  dataset[i]['evidences'] = dataset[i]['evidences'][0].get('snippet')\n",
        "\n",
        "dataset[0]"
      ],
      "metadata": {
        "colab": {
          "base_uri": "https://localhost:8080/"
        },
        "id": "b3OrJfARolgH",
        "outputId": "e17551af-c2d3-4577-80b9-19c9b97656e3"
      },
      "execution_count": 4,
      "outputs": [
        {
          "output_type": "execute_result",
          "data": {
            "text/plain": [
              "{'pred': '/people/person/education./education/education/institution',\n",
              " 'sub': 'Anne Wilson',\n",
              " 'obj': 'George School',\n",
              " 'evidences': \"Anne Wilson was born in Detroit, Michigan in 1949. At 15, she attended George School, a Quaker boarding school, in Pennsylvania, where she received training in feminist theory and the philosophies of passive resistance through the study of Gandhi's teachings on non-violent politics. In her later research, Wilson remarked that her lessons at George School, especially Gandhi's exhortation to all Indians that they must practice spinning--for social, political, economic and spiritual reasons--profoundly influenced her life and artistic practice.\"}"
            ]
          },
          "metadata": {},
          "execution_count": 4
        }
      ]
    },
    {
      "cell_type": "code",
      "source": [
        "map_pred2label ={\n",
        "    '/people/person/education./education/education/institution': \"educated in\",\n",
        "    '/people/deceased_person/place_of_death': \"died in\",\n",
        "    '/people/person/place_of_birth': \"born in\",\n",
        "    '/people/person/date_of_birth': \"born on\",\n",
        "    '/people/person/education./education/education/degree': \"has degree\"\n",
        "}\n",
        "\n",
        "for i in range(0, len(dataset)):\n",
        "  dataset[i]['pred'] = map_pred2label[dataset[i]['pred']]\n",
        "\n",
        "dataset[0]"
      ],
      "metadata": {
        "colab": {
          "base_uri": "https://localhost:8080/"
        },
        "id": "ijEa7XKouUx9",
        "outputId": "fe28d473-8cde-400e-a132-ad447c7f2697"
      },
      "execution_count": 5,
      "outputs": [
        {
          "output_type": "execute_result",
          "data": {
            "text/plain": [
              "{'pred': 'educated in',\n",
              " 'sub': 'Anne Wilson',\n",
              " 'obj': 'George School',\n",
              " 'evidences': \"Anne Wilson was born in Detroit, Michigan in 1949. At 15, she attended George School, a Quaker boarding school, in Pennsylvania, where she received training in feminist theory and the philosophies of passive resistance through the study of Gandhi's teachings on non-violent politics. In her later research, Wilson remarked that her lessons at George School, especially Gandhi's exhortation to all Indians that they must practice spinning--for social, political, economic and spiritual reasons--profoundly influenced her life and artistic practice.\"}"
            ]
          },
          "metadata": {},
          "execution_count": 5
        }
      ]
    },
    {
      "cell_type": "code",
      "execution_count": 6,
      "metadata": {
        "colab": {
          "base_uri": "https://localhost:8080/"
        },
        "id": "57933d29",
        "outputId": "625a7f05-5cd4-4255-c29f-313007b1dd13"
      },
      "outputs": [
        {
          "output_type": "stream",
          "name": "stdout",
          "text": [
            "['educated in', 'born in', 'has degree', 'died in', 'born on']\n",
            "Counter({'educated in': 31991, 'born in': 8389, 'died in': 2745, 'born on': 2282, 'has degree': 1729})\n"
          ]
        }
      ],
      "source": [
        "# Print the attributes\n",
        "preds = []\n",
        "for i in range(0,len(dataset)):\n",
        "  for key, value in dataset[i].items():\n",
        "    if key == \"pred\" and value not in preds:\n",
        "      preds.append(value)\n",
        "\n",
        "print(preds)\n",
        "\n",
        "\n",
        "# count the number of data points related to each attribute\n",
        "pred_counts = Counter(entry['pred'] for entry in dataset)\n",
        "print(pred_counts)"
      ]
    },
    {
      "cell_type": "code",
      "source": [
        "#  plot the pecentage of data points related to each attribute\n",
        "\n",
        "pie_chart = plt.pie(pred_counts.values(), labels= preds, autopct='%1.1f%%')\n",
        "plt.show(pie_chart)"
      ],
      "metadata": {
        "id": "lSN90zm0s4QK",
        "colab": {
          "base_uri": "https://localhost:8080/",
          "height": 406
        },
        "outputId": "d445c43b-e4e3-4dd8-fc1c-a9827e9c9cbc"
      },
      "execution_count": 7,
      "outputs": [
        {
          "output_type": "display_data",
          "data": {
            "text/plain": [
              "<Figure size 640x480 with 1 Axes>"
            ],
            "image/png": "[encoded data removed]"
          },
          "metadata": {}
        }
      ]
    },
    {
      "cell_type": "code",
      "source": [
        "for data in dataset:\n",
        "  data['text_length'] = len(data['evidences'])\n",
        "\n",
        "length_frequency = Counter(entry['text_length'] for entry in dataset)\n",
        "\n",
        "# Extract lengths and frequencies for plotting\n",
        "lengths = list(length_frequency.keys())\n",
        "frequencies = list(length_frequency.values())\n",
        "\n",
        "# Plotting\n",
        "plt.bar(lengths, frequencies)\n",
        "plt.xlabel('Text Length')\n",
        "plt.ylabel('Frequency')\n",
        "plt.title('Text Length Frequency')\n",
        "plt.show()"
      ],
      "metadata": {
        "colab": {
          "base_uri": "https://localhost:8080/",
          "height": 472
        },
        "id": "_jSZvAWcwylz",
        "outputId": "74d01315-b29d-49f1-9513-cc869ed050e3"
      },
      "execution_count": 8,
      "outputs": [
        {
          "output_type": "display_data",
          "data": {
            "text/plain": [
              "<Figure size 640x480 with 1 Axes>"
            ],
            "image/png": "[encoded data removed]"
          },
          "metadata": {}
        }
      ]
    },
    {
      "cell_type": "code",
      "source": [
        "# filter the dataset based on the text length\n",
        "for data in dataset:\n",
        "  if data['text_length'] > 600:\n",
        "    dataset.remove(data)\n",
        "\n",
        "len(dataset)"
      ],
      "metadata": {
        "colab": {
          "base_uri": "https://localhost:8080/"
        },
        "id": "VFmocl4BxufW",
        "outputId": "dcf593ab-d269-4880-cb71-cfe58d2ec8dc"
      },
      "execution_count": 9,
      "outputs": [
        {
          "output_type": "execute_result",
          "data": {
            "text/plain": [
              "38172"
            ]
          },
          "metadata": {},
          "execution_count": 9
        }
      ]
    },
    {
      "cell_type": "code",
      "source": [
        "Counter(data['pred'] for data in dataset)"
      ],
      "metadata": {
        "colab": {
          "base_uri": "https://localhost:8080/"
        },
        "id": "flkrC018ySoR",
        "outputId": "9d562d9f-e659-4ece-80bd-7a17619405ce"
      },
      "execution_count": 10,
      "outputs": [
        {
          "output_type": "execute_result",
          "data": {
            "text/plain": [
              "Counter({'educated in': 25085,\n",
              "         'born in': 7286,\n",
              "         'has degree': 1422,\n",
              "         'died in': 2392,\n",
              "         'born on': 1987})"
            ]
          },
          "metadata": {},
          "execution_count": 10
        }
      ]
    },
    {
      "cell_type": "code",
      "source": [
        "sampling_strategy= {'born in': 2200,\n",
        "                    'educated in':2200,\n",
        "                    'died in': 2200,\n",
        "                    'born on': 1987,\n",
        "                    'has degree':1412\n",
        "}\n",
        "\n",
        "X = [list(data.values()) for data in dataset]\n",
        "y = [data['pred'] for data in dataset]\n",
        "\n",
        "# Apply UnderSampling\n",
        "under_sampling = RandomUnderSampler(sampling_strategy=sampling_strategy, random_state=42)\n",
        "X_undersample, y_undersample = under_sampling.fit_resample(X, y)\n",
        "\n",
        "# Apply oversampling\n",
        "over_sampling = RandomOverSampler(sampling_strategy='not majority', random_state=42)\n",
        "X_balanced, y_balanced = over_sampling.fit_resample(X_undersample, y_undersample)\n",
        "\n",
        "# Check the class distribution after balancing\n",
        "print(Counter(y_balanced))"
      ],
      "metadata": {
        "colab": {
          "base_uri": "https://localhost:8080/"
        },
        "id": "N5d0lfnfydch",
        "outputId": "5397feea-4965-4f15-8c49-704408bbd861"
      },
      "execution_count": 12,
      "outputs": [
        {
          "output_type": "stream",
          "name": "stdout",
          "text": [
            "Counter({'born in': 2200, 'born on': 2200, 'died in': 2200, 'educated in': 2200, 'has degree': 2200})\n"
          ]
        }
      ]
    },
    {
      "cell_type": "code",
      "source": [
        "degree_type =[]\n",
        "for x in X_balanced:\n",
        "  if x[0] == 'has degree':\n",
        "    degree_type.append(x[2])\n",
        "\n",
        "degree_count = Counter(degree_type)\n",
        "degree_count = sorted(degree_count.items(), key=lambda item: item[1], reverse=True)\n",
        "print(degree_count[0:5])\n",
        "print(len(degree_count))"
      ],
      "metadata": {
        "colab": {
          "base_uri": "https://localhost:8080/"
        },
        "id": "42lnWwXg4FMy",
        "outputId": "0463f029-f45c-4e8c-a468-1726be4b3aa2"
      },
      "execution_count": 15,
      "outputs": [
        {
          "output_type": "stream",
          "name": "stdout",
          "text": [
            "[('Bachelor of Arts', 1075), ('Bachelor of Science', 385), ('Bachelor of Laws', 115), ('Bachelor of Fine Arts', 70), ('Master of Arts', 62)]\n",
            "69\n"
          ]
        }
      ]
    },
    {
      "cell_type": "code",
      "source": [
        "# Mapping list of degree categories to their corresponding degree abbreviations\n",
        "degree_mapping = {\n",
        "    \"Bachelor of Laws\": \"B.L.\",\n",
        "    \"Bachelor of Arts\": \"B.A.\",\n",
        "    \"Bachelor of Science\": \"B.Sc\",\n",
        "    \"Bachelor of Fine Arts\": \"BFA\",\n",
        "    \"Bachelor of Philosophy\": \"Ph.B.\",\n",
        "    \"Master of Arts\": \"M.A.\",\n",
        "    \"Doctor of Medicine\": \"M.D.\",\n",
        "    \"Master of Business Administration\": \"MBA\",\n",
        "    \"Juris Doctor\": \"J.D.\",\n",
        "    \"Bachelor of Technology\": \"B.Tech\",\n",
        "    \"Bachelor of Music\": \"Mus.B.\",\n",
        "    \"Bachelor of Engineering\": \"BSEE\",\n",
        "    \"Doctor of Philosophy\": \"Ph.D\",\n",
        "    \"Master of Science\": \"M.Sc.\",\n",
        "    \"Business administration\": \"B.B.A.\",\n",
        "    \"Legum Doctor\": \"LL.D.\",\n",
        "    \"Master of Social Work\": \"M.S.W.\",\n",
        "    \"Bachelor of Theology\": \"Th.B.\",\n",
        "    \"Bachelor of Education\": \"B.Ed\",\n",
        "    \"Doctor of Divinity\": \"D.D.\",\n",
        "    \"Doctor of Education\": \"Ed.D.\",\n",
        "    \"Bachelor of Electrical Engineering\": \"B.E.E.\",\n",
        "    \"Master of Laws\": \"LL.M.\"\n",
        "}\n",
        "\n",
        "\n",
        "def extract_degree(text, degree_object):\n",
        "    marked_text = text\n",
        "    # Find the corresponding degree abbreviation for the given degree object\n",
        "    degree_abbr = degree_mapping.get(degree_object)\n",
        "    if degree_abbr:\n",
        "        # Escape the degree abbreviation\n",
        "        degree_abbr_escaped = re.escape(degree_abbr)\n",
        "        # Create a regex pattern for the degree abbreviation\n",
        "        pattern = r'\\b' + degree_abbr_escaped + r'\\W'\n",
        "        # Search for the pattern in the text\n",
        "        match = re.search(pattern, marked_text)\n",
        "        # If a match is found, replace the abbreviation with the full degree name in the text\n",
        "        if match:\n",
        "            marked_text = re.sub(pattern, f'{degree_object}', marked_text)\n",
        "    return marked_text\n"
      ],
      "metadata": {
        "id": "W_dwTArkWNZk"
      },
      "execution_count": null,
      "outputs": []
    },
    {
      "cell_type": "code",
      "source": [
        "def extract_year(date):\n",
        "    # Match year in YYYY-MM-DD format\n",
        "    year_pattern = r'(\\b\\d{4}\\b)-\\d{2}-\\d{2}'\n",
        "    match = re.search(year_pattern, date)\n",
        "    if match:\n",
        "        # Extract year and convert to YY format\n",
        "        full_year = match.group(1)\n",
        "        return full_year[-4:]\n",
        "    else:\n",
        "        return date\n"
      ],
      "metadata": {
        "id": "SGcW_vGt8fvQ"
      },
      "execution_count": null,
      "outputs": []
    },
    {
      "cell_type": "code",
      "source": [
        "def mark_entities(data):\n",
        "\n",
        "    relation, subject, obj, text, length = data\n",
        "\n",
        "    if relation == 'has degree':\n",
        "      text = extract_degree(text, obj)\n",
        "\n",
        "    if obj == 'born on':\n",
        "      obj = extract_year(obj)\n",
        "\n",
        "    # Extract first and last name of the subject\n",
        "    subject_parts = subject.split()\n",
        "\n",
        "    # Try to replace the most specific subject mention first\n",
        "    subject_found = False\n",
        "    if subject in text:\n",
        "        text = text.replace(subject, f\"[E1]{subject}[/E1]\")\n",
        "        subject_found = True\n",
        "\n",
        "    else:\n",
        "      for name in subject_parts:\n",
        "        if name in text:\n",
        "          text = text.replace(name, f\"[E1]{name}[/E1]\")\n",
        "          subject_found = True\n",
        "\n",
        "    # Mark the object in the sentence\n",
        "    if obj in text:\n",
        "        text = text.replace(obj, f\"[E2]{obj}[/E2]\")\n",
        "\n",
        "    text = text.replace('.', '.[SEP]')\n",
        "\n",
        "    # Split the text into segments using [SEP]\n",
        "    segments = text.split(\"[SEP]\")\n",
        "\n",
        "    # Keep only segments that contain [E1] or [E2]\n",
        "    filtered_segments = [segment.strip() for segment in segments if \"[E1]\" in segment or \"[E2]\" in segment]\n",
        "\n",
        "    # Reconstruct the filtered text\n",
        "    cleaned_text = \" [SEP] \".join(filtered_segments)\n",
        "\n",
        "    item = [subject, obj, relation, cleaned_text]\n",
        "\n",
        "    return item\n"
      ],
      "metadata": {
        "id": "Brjcallkjy72"
      },
      "execution_count": 20,
      "outputs": []
    },
    {
      "cell_type": "code",
      "source": [
        "text_list = []\n",
        "for item in X_balanced:\n",
        "  text_list.append(mark_entities(item))\n",
        "\n",
        "text_list[0:2]"
      ],
      "metadata": {
        "colab": {
          "base_uri": "https://localhost:8080/"
        },
        "collapsed": true,
        "id": "0i1VQC5isgaU",
        "outputId": "fc309f03-e5d5-41d0-c6be-246fe88cf5a8"
      },
      "execution_count": 21,
      "outputs": [
        {
          "output_type": "execute_result",
          "data": {
            "text/plain": [
              "[['Joan Backes',\n",
              "  'Milwaukee',\n",
              "  'born in',\n",
              "  \"jpg thumb 300px right [E1]Joan Backes[/E1] - Forest-House, 2010, (permanent installation), Darmstadt, Germany. [SEP] Invitational International Biennial `` Internationalen Waldkunstpfad '')) [E1]Joan Backes[/E1] is an American artist who was born in [E2]Milwaukee[/E2], Wisconsin.\"],\n",
              " ['Bert Ruiter',\n",
              "  'Amsterdam',\n",
              "  'born in',\n",
              "  '[E1]Bert Ruiter[/E1] (born 26 November 1946, [E2]Amsterdam[/E2]) is a Dutch bass guitarist, record producer, and composer.']]"
            ]
          },
          "metadata": {},
          "execution_count": 21
        }
      ]
    },
    {
      "cell_type": "code",
      "source": [
        "from sklearn.preprocessing import LabelEncoder\n",
        "\n",
        "# Initialize the label encoder\n",
        "label_encoder = LabelEncoder()\n",
        "\n",
        "# Define the mapping between labels and encoded numbers\n",
        "label_mapping = {\n",
        "    'educated in': 0,\n",
        "    'died in': 1,\n",
        "    'born in': 2,\n",
        "    'born on': 3,\n",
        "    'has degree': 4\n",
        "}\n",
        "\n",
        "# Fit the label encoder with the specified mapping\n",
        "label_encoder.fit(list(label_mapping.values()))\n",
        "\n",
        "# Extract the labels from X_balanced\n",
        "classes = [entry[2] for entry in text_list]\n",
        "\n",
        "# Transform the labels using the fitted label encoder\n",
        "encoded_labels = [label_mapping[label] for label in classes]\n",
        "\n",
        "# Update the labels in X_balanced\n",
        "for i, entry in enumerate(text_list):\n",
        "    entry.append(encoded_labels[i])\n"
      ],
      "metadata": {
        "id": "qhFm3BuFyE-1"
      },
      "execution_count": 22,
      "outputs": []
    },
    {
      "cell_type": "code",
      "source": [
        "# Initialize the BERT tokenizer\n",
        "tokenizer = BertTokenizer.from_pretrained('bert-base-uncased', pad_token= '[PAD]')\n",
        "from torch.nn.utils.rnn import pad_sequence\n",
        "\n",
        "# Define a function to pad or truncate sequences\n",
        "def pad_sequences(seq, max_length):\n",
        "    if len(seq) < max_length:\n",
        "        # Pad with [PAD] tokens if the sequence is shorter than max_length\n",
        "        padding = ['[PAD]'] * (max_length - len(seq))\n",
        "        return seq + padding\n",
        "    else:\n",
        "        # Truncate if the sequence is longer than max_length\n",
        "        return seq[:max_length]\n"
      ],
      "metadata": {
        "colab": {
          "base_uri": "https://localhost:8080/",
          "height": 254,
          "referenced_widgets": [
            "214b6f9af7c24a1f835778e300f3a6bd",
            "4074ebac76ea411d8f864de01d041311",
            "a91c827c53ca42e0ace43a5a31fba233",
            "e0fbc80849f14e6088309c85e52ed073",
            "855846aec5d64156b7a973077d421b05",
            "3c1578b5cc51424c9184cdb810364d8f",
            "ccf6ea926efe4a4f957d3e1712a26ba6",
            "d1b8f898f0974084977e0efda328e5de",
            "9229016b8bef48c8bca85e4bbd04dcf7",
            "543ba4a30c1a45528a4ee987e3e35cda",
            "06d91b7dd8ae45bab3a14b1622430c0f",
            "cadae4943cc448e8880914640800f608",
            "49152f6c2f7f4144b0857f5922d00ada",
            "d750d90a40de4029b078fe5940c5e49f",
            "ba0a585aee114b06a04000723211c9db",
            "0a4f39ce472d4c97ab32fc41509b1b84",
            "4b47f2801db949398b4b2c8140175e8a",
            "410463fe6cda4410ab9aaec684bda1e3",
            "63a904000c6540b395262adc4d5896e3",
            "da614eef1418462ab320f8227d608295",
            "77a28d890377425c92d75bf134926f7f",
            "25f12aad58ee4ab185df3535610c18db",
            "a1e5f0c09b5143a1a88b644a0f4a91de",
            "ef15a71453a643b9a35498e9bcb1609c",
            "1e0d4e22dba44e31856f7d3b36066ad4",
            "93486dde50f14cc786b39c1ad0cc99a1",
            "9451181b94de43fb817d9e161187d93a",
            "30cb6de2664c4f41bf9d344ada14f41f",
            "d4d87482c5c14493927d8ac941d7e803",
            "8be4910a6c6e4d0cb6ebd47b1fe1ec2d",
            "6781d6e88bc24168adcdc4b28359e410",
            "4876a328f6ac4adbbd399172f05e7514",
            "516f079d562a4c49bfc9abcb3d6ce6a2",
            "071570dec0584943946a1808f348a553",
            "443ccad1c5324af6b2a22400ad7878d6",
            "05db0479fc2a42ac92b2c09dea15cd5d",
            "e68d6577f0514d449f577e46a6a1fcb7",
            "2059d8bee4104fdd9e28cd7d422e11ac",
            "3b85378514d240f3bcb8079ac5e5d91e",
            "66873ee0df524896af2bd543d79eb9d9",
            "4c1c1b348616434db470550a72990b7e",
            "339d15b0269c45138da31ef9c130b867",
            "6e5fbdcb458f4d128c1267da6d9326e9",
            "c29ea60b42f24f3da8c7d1e595f2483d"
          ]
        },
        "id": "J299kgULRivR",
        "outputId": "212259fd-91fa-4427-b678-11ab987f272f"
      },
      "execution_count": 24,
      "outputs": [
        {
          "output_type": "stream",
          "name": "stderr",
          "text": [
            "/usr/local/lib/python3.11/dist-packages/huggingface_hub/utils/_auth.py:94: UserWarning: \n",
            "The secret `HF_TOKEN` does not exist in your Colab secrets.\n",
            "To authenticate with the Hugging Face Hub, create a token in your settings tab (https://huggingface.co/settings/tokens), set it as secret in your Google Colab and restart your session.\n",
            "You will be able to reuse this secret in all of your notebooks.\n",
            "Please note that authentication is recommended but still optional to access public models or datasets.\n",
            "  warnings.warn(\n"
          ]
        },
        {
          "output_type": "display_data",
          "data": {
            "text/plain": [
              "tokenizer_config.json:   0%|          | 0.00/48.0 [00:00<?, ?B/s]"
            ],
            "application/vnd.jupyter.widget-view+json": {
              "version_major": 2,
              "version_minor": 0,
              "model_id": "214b6f9af7c24a1f835778e300f3a6bd"
            }
          },
          "metadata": {}
        },
        {
          "output_type": "display_data",
          "data": {
            "text/plain": [
              "vocab.txt:   0%|          | 0.00/232k [00:00<?, ?B/s]"
            ],
            "application/vnd.jupyter.widget-view+json": {
              "version_major": 2,
              "version_minor": 0,
              "model_id": "cadae4943cc448e8880914640800f608"
            }
          },
          "metadata": {}
        },
        {
          "output_type": "display_data",
          "data": {
            "text/plain": [
              "tokenizer.json:   0%|          | 0.00/466k [00:00<?, ?B/s]"
            ],
            "application/vnd.jupyter.widget-view+json": {
              "version_major": 2,
              "version_minor": 0,
              "model_id": "a1e5f0c09b5143a1a88b644a0f4a91de"
            }
          },
          "metadata": {}
        },
        {
          "output_type": "display_data",
          "data": {
            "text/plain": [
              "config.json:   0%|          | 0.00/570 [00:00<?, ?B/s]"
            ],
            "application/vnd.jupyter.widget-view+json": {
              "version_major": 2,
              "version_minor": 0,
              "model_id": "071570dec0584943946a1808f348a553"
            }
          },
          "metadata": {}
        }
      ]
    },
    {
      "cell_type": "code",
      "source": [
        "# Initialize lists to store tokenized inputs and labels\n",
        "token_text= []\n",
        "token_len = []\n",
        "# Process each data point in the dataset\n",
        "for data_point in text_list:\n",
        "    text = data_point[3]\n",
        "\n",
        "    # Tokenize the subject, object, and text using BERT tokenizer\n",
        "    tokenized_text = tokenizer.tokenize(text)\n",
        "    token_text.append(tokenized_text)\n",
        "    token_len.append(len(tokenized_text))\n",
        "\n",
        "# Count the frequency of each text length\n",
        "token_length_freq = Counter(token_len)\n",
        "\n",
        "# Extract lengths and frequencies for plotting\n",
        "lengths = list(token_length_freq.keys())\n",
        "frequencies = list(token_length_freq.values())\n",
        "\n",
        "# Plotting\n",
        "plt.bar(lengths, frequencies)\n",
        "plt.xlabel('Token Length')\n",
        "plt.ylabel('Frequency')\n",
        "plt.title('Token Length Frequency')\n",
        "plt.show()\n"
      ],
      "metadata": {
        "colab": {
          "base_uri": "https://localhost:8080/",
          "height": 472
        },
        "id": "ufc_NrSSA4oR",
        "outputId": "510b197d-bfe2-45ff-e5e4-89ff04a3d2ea"
      },
      "execution_count": 25,
      "outputs": [
        {
          "output_type": "display_data",
          "data": {
            "text/plain": [
              "<Figure size 640x480 with 1 Axes>"
            ],
            "image/png": "[encoded data removed]"
          },
          "metadata": {}
        }
      ]
    },
    {
      "cell_type": "code",
      "source": [
        "# Define your max sequence length\n",
        "max_seq_length = 128\n",
        "\n",
        "# Initialize lists to store tokenized inputs and labels\n",
        "inputs_text = []\n",
        "labels = []\n",
        "\n",
        "# Process each data point in the dataset\n",
        "for data_point in text_list:\n",
        "    text = data_point[3]\n",
        "\n",
        "    tokenized_text = tokenizer.tokenize(text)\n",
        "    tokenized_text = tokenized_text[:max_seq_length - 2]\n",
        "    tokenized_text = ['[CLS]'] + tokenized_text + ['[SEP]']\n",
        "    paded_text = pad_sequences(tokenized_text, max_seq_length)\n",
        "\n",
        "    # Convert the tokenized subject, object, and text to input IDs\n",
        "    input_ids_text = tokenizer.convert_tokens_to_ids(paded_text)\n",
        "    inputs_text.append(input_ids_text)\n",
        "\n",
        "    # Label the relevant entities and their relationships\n",
        "    relation_label = data_point[4]\n",
        "    label = relation_label\n",
        "    labels.append(label)\n"
      ],
      "metadata": {
        "id": "JOSsp7UGJjfC"
      },
      "execution_count": 26,
      "outputs": []
    },
    {
      "cell_type": "code",
      "source": [
        "from sklearn.model_selection import train_test_split\n",
        "\n",
        "# Split the data into training, validation, and test sets\n",
        "train_input, val_input, train_labels, val_labels = train_test_split(inputs_text, labels, test_size=0.3,stratify= labels ,random_state=42)\n",
        "val_input, test_input, val_labels, test_labels = train_test_split(val_input, val_labels, test_size=0.5, random_state=42)\n"
      ],
      "metadata": {
        "id": "e_vlcpMAAZbm"
      },
      "execution_count": 27,
      "outputs": []
    },
    {
      "cell_type": "code",
      "source": [
        "train_input_tns = torch.tensor(train_input)\n",
        "train_labels_tns = torch.tensor(train_labels)\n",
        "\n",
        "val_input_tns = torch.tensor(val_input)\n",
        "val_labels_tns = torch.tensor(val_labels)\n",
        "\n",
        "test_input_tns = torch.tensor(test_input)\n",
        "test_labels_tns = torch.tensor(test_labels)"
      ],
      "metadata": {
        "id": "J4Ph4VaPk1D-"
      },
      "execution_count": 28,
      "outputs": []
    },
    {
      "cell_type": "code",
      "source": [
        "# Create a TensorDataset from the input tensors and labels\n",
        "train_dataset = TensorDataset(train_input_tns, train_labels_tns)\n",
        "\n",
        "val_dataset = TensorDataset(val_input_tns, val_labels_tns)\n",
        "\n",
        "test_dataset = TensorDataset(test_input_tns, test_labels_tns)\n",
        "\n",
        "# Define batch size and create DataLoader instances\n",
        "batch_size = 64\n",
        "train_dataloader = DataLoader(train_dataset, batch_size=batch_size, shuffle=False)\n",
        "val_dataloader = DataLoader(val_dataset, batch_size=batch_size)\n",
        "test_dataloader = DataLoader(test_dataset, batch_size=batch_size, shuffle=False)\n"
      ],
      "metadata": {
        "id": "5dyh2iSanEVW"
      },
      "execution_count": 29,
      "outputs": []
    },
    {
      "cell_type": "code",
      "source": [
        "# Define the BERT model architecture\n",
        "# Load pre-trained BERT model and add a classification layer on top\n",
        "from transformers import AutoTokenizer, DistilBertForSequenceClassification\n",
        "model_bert = DistilBertForSequenceClassification.from_pretrained(\"distilbert-base-uncased\", num_labels=5)\n",
        "\n",
        "# Optional: Freeze BERT layers if desired\n",
        "for param in model_bert.base_model.parameters():\n",
        "    param.requires_grad = False\n",
        "\n",
        "# Move the model to GPU if available\n",
        "device = torch.device(\"cuda\" if torch.cuda.is_available() else \"cpu\")\n",
        "model_bert.to(device)\n",
        "\n",
        "# Wrap the model with DataParallel\n",
        "if torch.cuda.device_count() > 1:\n",
        "    model_bert = torch.nn.DataParallel(model_bert)\n",
        "\n",
        "# print(model_bert)"
      ],
      "metadata": {
        "colab": {
          "base_uri": "https://localhost:8080/"
        },
        "id": "huWSUrmWZTH3",
        "outputId": "49cb9fad-97af-4f15-bd13-ee9bfe22b688"
      },
      "execution_count": 43,
      "outputs": [
        {
          "output_type": "stream",
          "name": "stderr",
          "text": [
            "Some weights of DistilBertForSequenceClassification were not initialized from the model checkpoint at distilbert-base-uncased and are newly initialized: ['classifier.bias', 'classifier.weight', 'pre_classifier.bias', 'pre_classifier.weight']\n",
            "You should probably TRAIN this model on a down-stream task to be able to use it for predictions and inference.\n"
          ]
        }
      ]
    },
    {
      "cell_type": "code",
      "source": [
        "# Step 5: Fine-tune the BERT model\n",
        "\n",
        "loss_fn = torch.nn.CrossEntropyLoss()\n",
        "optimizer = AdamW(model_bert.parameters(), lr=3e-5)\n",
        "num_epochs = 50\n",
        "scaler = GradScaler()\n",
        "\n",
        "# Create an array to save train loss (will be used in the plot)\n",
        "train_loss_array = []\n",
        "\n",
        "# Training loop\n",
        "for epoch in range(num_epochs):\n",
        "    model_bert.train()\n",
        "    total_loss = 0\n",
        "\n",
        "    for step, batch in enumerate(train_dataloader):\n",
        "        inputs_text, labels = batch\n",
        "        inputs_text, labels = inputs_text.to(device), labels.to(device)\n",
        "\n",
        "        optimizer.zero_grad()\n",
        "\n",
        "        with autocast():\n",
        "            outputs = model_bert(inputs_text, labels= labels)\n",
        "            logits = outputs.logits\n",
        "\n",
        "            # Use the Focal Loss function here\n",
        "            loss = loss_fn(logits, labels)\n",
        "\n",
        "        scaler.scale(loss).backward()\n",
        "        scaler.step(optimizer)\n",
        "        scaler.update()\n",
        "\n",
        "        total_loss += loss.item()\n",
        "\n",
        "    # Calculate average training loss for the epoch\n",
        "    avg_train_loss = total_loss / len(train_dataloader)\n",
        "\n",
        "    # Validation loop\n",
        "    model_bert.eval()\n",
        "    val_loss = 0\n",
        "    num_val_steps = 0\n",
        "\n",
        "    with torch.no_grad():\n",
        "        for batch in val_dataloader:\n",
        "            inputs_text,  labels = batch\n",
        "            inputs_text, labels = inputs_text.to(device), labels.to(device)\n",
        "\n",
        "            outputs = model_bert(inputs_text)\n",
        "            logits = outputs.logits\n",
        "\n",
        "            loss = loss_fn(logits, labels)\n",
        "            val_loss += loss.item()\n",
        "            num_val_steps += 1\n",
        "\n",
        "    avg_val_loss = val_loss / num_val_steps\n",
        "\n",
        "    if epoch % 5 ==0:\n",
        "      print(f\"Epoch {epoch}/{num_epochs}, Train_Loss: {avg_train_loss:.4f}, Val_Loss: {avg_val_loss:.4f}\")\n",
        "\n",
        "    train_loss_array.append(avg_train_loss)\n"
      ],
      "metadata": {
        "colab": {
          "base_uri": "https://localhost:8080/"
        },
        "id": "VzLVnSQTDeJL",
        "outputId": "c90d6e8c-121b-4114-effb-a636ed7abaa2"
      },
      "execution_count": 44,
      "outputs": [
        {
          "output_type": "stream",
          "name": "stderr",
          "text": [
            "/usr/local/lib/python3.11/dist-packages/transformers/optimization.py:591: FutureWarning: This implementation of AdamW is deprecated and will be removed in a future version. Use the PyTorch implementation torch.optim.AdamW instead, or set `no_deprecation_warning=True` to disable this warning\n",
            "  warnings.warn(\n",
            "<ipython-input-44-9f0e9260eb3b>:16: FutureWarning: `torch.cuda.amp.GradScaler(args...)` is deprecated. Please use `torch.amp.GradScaler('cuda', args...)` instead.\n",
            "  scaler = GradScaler()\n",
            "<ipython-input-44-9f0e9260eb3b>:34: FutureWarning: `torch.cuda.amp.autocast(args...)` is deprecated. Please use `torch.amp.autocast('cuda', args...)` instead.\n",
            "  with autocast():\n"
          ]
        },
        {
          "output_type": "stream",
          "name": "stdout",
          "text": [
            "Epoch 0/50, Train_Loss: 1.5401, Val_Loss: 1.4381\n",
            "Epoch 5/50, Train_Loss: 0.9784, Val_Loss: 0.8968\n",
            "Epoch 10/50, Train_Loss: 0.8097, Val_Loss: 0.7483\n",
            "Epoch 15/50, Train_Loss: 0.7320, Val_Loss: 0.6825\n",
            "Epoch 20/50, Train_Loss: 0.6884, Val_Loss: 0.6450\n",
            "Epoch 25/50, Train_Loss: 0.6578, Val_Loss: 0.6192\n",
            "Epoch 30/50, Train_Loss: 0.6384, Val_Loss: 0.6014\n",
            "Epoch 35/50, Train_Loss: 0.6131, Val_Loss: 0.5857\n",
            "Epoch 40/50, Train_Loss: 0.5983, Val_Loss: 0.5724\n",
            "Epoch 45/50, Train_Loss: 0.5906, Val_Loss: 0.5629\n"
          ]
        }
      ]
    },
    {
      "cell_type": "code",
      "source": [
        "\n",
        "# Create the plot\n",
        "plt.plot(train_loss_array)\n",
        "# Adding a title\n",
        "plt.title('Training Loss Over Time')\n",
        "\n",
        "# Adding labels for the x and y axes\n",
        "plt.xlabel('Epoch Number')\n",
        "plt.ylabel('Train Loss')\n",
        "\n",
        "plt.show()\n"
      ],
      "metadata": {
        "colab": {
          "base_uri": "https://localhost:8080/",
          "height": 472
        },
        "id": "gq7kCmkwEOP6",
        "outputId": "8b93f71b-8f35-419b-ff10-32d04d0980ef"
      },
      "execution_count": 45,
      "outputs": [
        {
          "output_type": "display_data",
          "data": {
            "text/plain": [
              "<Figure size 640x480 with 1 Axes>"
            ],
            "image/png": "[encoded data removed]"
          },
          "metadata": {}
        }
      ]
    },
    {
      "cell_type": "code",
      "source": [
        "def compute_accuracy(predictions, labels):\n",
        "    predicted_labels = torch.argmax(predictions, dim=1)\n",
        "    correct_predictions = torch.eq(predicted_labels, labels).sum().item()\n",
        "    accuracy = correct_predictions / len(labels)\n",
        "    return accuracy\n",
        "\n"
      ],
      "metadata": {
        "id": "-MncarjXixLf"
      },
      "execution_count": 46,
      "outputs": []
    },
    {
      "cell_type": "code",
      "execution_count": 47,
      "metadata": {
        "colab": {
          "base_uri": "https://localhost:8080/"
        },
        "id": "e853c665",
        "outputId": "f24d8667-aa4b-4275-99ab-ede0b697bc4c"
      },
      "outputs": [
        {
          "output_type": "stream",
          "name": "stdout",
          "text": [
            "Validation Accuracy: 0.7879\n"
          ]
        }
      ],
      "source": [
        "# evaluate the model by computing  accuracy, precision, recall, and F1-score\n",
        "model_bert.eval()\n",
        "val_accuracy = 0\n",
        "num_val_steps = 0\n",
        "\n",
        "with torch.no_grad():\n",
        "    for batch in val_dataloader:\n",
        "        inputs_text, labels = batch\n",
        "        inputs_text, labels = inputs_text.to(device), labels.to(device)\n",
        "\n",
        "        outputs = model_bert(inputs_text)\n",
        "        val_accuracy += compute_accuracy(outputs.logits, labels)\n",
        "        num_val_steps += 1\n",
        "\n",
        "avg_val_accuracy = val_accuracy / num_val_steps\n",
        "\n",
        "print(f\"Validation Accuracy: {avg_val_accuracy:.4f}\")\n"
      ]
    },
    {
      "cell_type": "code",
      "source": [
        "from sklearn.metrics import precision_score, recall_score, f1_score\n",
        "\n",
        "# Evaluation loop\n",
        "model_bert.eval()\n",
        "predictions = []\n",
        "true_labels = []\n",
        "\n",
        "with torch.no_grad():\n",
        "    for batch in test_dataloader:\n",
        "        inputs_text, labels = batch\n",
        "        inputs_text, labels = inputs_text.to(device), labels.to(device)\n",
        "\n",
        "        outputs = model_bert(inputs_text)\n",
        "        predicted_labels = torch.argmax(outputs.logits, dim=1)\n",
        "\n",
        "        predictions.extend(predicted_labels.tolist())\n",
        "        true_labels.extend(labels.tolist())\n"
      ],
      "metadata": {
        "id": "lo1bd4rJgFqG"
      },
      "execution_count": 48,
      "outputs": []
    },
    {
      "cell_type": "code",
      "source": [
        "from sklearn.metrics import classification_report\n",
        "\n",
        "# Print classification report\n",
        "print(classification_report(true_labels, predictions))\n"
      ],
      "metadata": {
        "colab": {
          "base_uri": "https://localhost:8080/"
        },
        "id": "ogl0i5UBjRB9",
        "outputId": "51342b13-984a-4a21-9e4b-d271c1706d50"
      },
      "execution_count": 49,
      "outputs": [
        {
          "output_type": "stream",
          "name": "stdout",
          "text": [
            "              precision    recall  f1-score   support\n",
            "\n",
            "           0       0.76      0.73      0.75       368\n",
            "           1       0.93      0.91      0.92       318\n",
            "           2       0.72      0.63      0.67       307\n",
            "           3       0.70      0.82      0.75       347\n",
            "           4       0.91      0.91      0.91       310\n",
            "\n",
            "    accuracy                           0.80      1650\n",
            "   macro avg       0.80      0.80      0.80      1650\n",
            "weighted avg       0.80      0.80      0.80      1650\n",
            "\n"
          ]
        }
      ]
    },
    {
      "cell_type": "code",
      "source": [
        "from sklearn.metrics import confusion_matrix\n",
        "import seaborn as sns\n",
        "import matplotlib.pyplot as plt\n",
        "\n",
        "# Generate confusion matrix\n",
        "conf_matrix = confusion_matrix(true_labels, predictions)\n",
        "\n",
        "# Display the confusion matrix using a heatmap\n",
        "plt.figure(figsize=(6, 5))\n",
        "sns.heatmap(conf_matrix, annot=True, fmt=\"d\", cmap=\"Blues\", xticklabels=['institution', 'died in', 'born in', 'born on', 'has degree'], yticklabels=['institution', 'died in', 'born in', 'born on', 'has degree'])\n",
        "plt.title(\"Confusion Matrix\")\n",
        "plt.xlabel(\"Predicted Label\")\n",
        "plt.ylabel(\"True Label\")\n",
        "plt.show()"
      ],
      "metadata": {
        "colab": {
          "base_uri": "https://localhost:8080/",
          "height": 487
        },
        "id": "9szEF_-iUl79",
        "outputId": "f20325dc-0b0b-499e-fa03-297c3732e4f2"
      },
      "execution_count": 56,
      "outputs": [
        {
          "output_type": "display_data",
          "data": {
            "text/plain": [
              "<Figure size 600x500 with 2 Axes>"
            ],
            "image/png": "[encoded data removed]"
          },
          "metadata": {}
        }
      ]
    },
    {
      "cell_type": "code",
      "source": [
        "import numpy as np\n",
        "\n",
        "print(\"True Label Distribution:\")\n",
        "print(np.bincount(true_labels))\n",
        "\n",
        "print(\"Predicted Label Distribution:\")\n",
        "print(np.bincount(predictions))\n"
      ],
      "metadata": {
        "colab": {
          "base_uri": "https://localhost:8080/"
        },
        "id": "AU9aHuqJudj8",
        "outputId": "ea276c0f-8229-4c61-d8f3-15e5cab1d5d4"
      },
      "execution_count": 52,
      "outputs": [
        {
          "output_type": "stream",
          "name": "stdout",
          "text": [
            "True Label Distribution:\n",
            "[368 318 307 347 310]\n",
            "Predicted Label Distribution:\n",
            "[355 312 268 403 312]\n"
          ]
        }
      ]
    }
  ]
}