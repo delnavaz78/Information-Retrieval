{
  "cells": [
    {
      "cell_type": "code",
      "execution_count": 1,
      "metadata": {
        "colab": {
          "base_uri": "https://localhost:8080/"
        },
        "id": "50mjuevO1aOX",
        "outputId": "c9082586-9c61-41ca-fb83-f138c1cdb2cb"
      },
      "outputs": [
        {
          "name": "stdout",
          "output_type": "stream",
          "text": [
            "Requirement already satisfied: torch in /usr/local/lib/python3.10/dist-packages (2.2.1+cu121)\n",
            "Requirement already satisfied: filelock in /usr/local/lib/python3.10/dist-packages (from torch) (3.13.1)\n",
            "Requirement already satisfied: typing-extensions>=4.8.0 in /usr/local/lib/python3.10/dist-packages (from torch) (4.10.0)\n",
            "Requirement already satisfied: sympy in /usr/local/lib/python3.10/dist-packages (from torch) (1.12)\n",
            "Requirement already satisfied: networkx in /usr/local/lib/python3.10/dist-packages (from torch) (3.2.1)\n",
            "Requirement already satisfied: jinja2 in /usr/local/lib/python3.10/dist-packages (from torch) (3.1.3)\n",
            "Requirement already satisfied: fsspec in /usr/local/lib/python3.10/dist-packages (from torch) (2023.6.0)\n",
            "Collecting nvidia-cuda-nvrtc-cu12==12.1.105 (from torch)\n",
            "  Downloading nvidia_cuda_nvrtc_cu12-12.1.105-py3-none-manylinux1_x86_64.whl (23.7 MB)\n",
            "\u001b[2K     \u001b[90m━━━━━━━━━━━━━━━━━━━━━━━━━━━━━━━━━━━━━━━━\u001b[0m \u001b[32m23.7/23.7 MB\u001b[0m \u001b[31m18.2 MB/s\u001b[0m eta \u001b[36m0:00:00\u001b[0m\n",
            "\u001b[?25hCollecting nvidia-cuda-runtime-cu12==12.1.105 (from torch)\n",
            "  Downloading nvidia_cuda_runtime_cu12-12.1.105-py3-none-manylinux1_x86_64.whl (823 kB)\n",
            "\u001b[2K     \u001b[90m━━━━━━━━━━━━━━━━━━━━━━━━━━━━━━━━━━━━━━━━\u001b[0m \u001b[32m823.6/823.6 kB\u001b[0m \u001b[31m33.2 MB/s\u001b[0m eta \u001b[36m0:00:00\u001b[0m\n",
            "\u001b[?25hCollecting nvidia-cuda-cupti-cu12==12.1.105 (from torch)\n",
            "  Downloading nvidia_cuda_cupti_cu12-12.1.105-py3-none-manylinux1_x86_64.whl (14.1 MB)\n",
            "\u001b[2K     \u001b[90m━━━━━━━━━━━━━━━━━━━━━━━━━━━━━━━━━━━━━━━━\u001b[0m \u001b[32m14.1/14.1 MB\u001b[0m \u001b[31m41.7 MB/s\u001b[0m eta \u001b[36m0:00:00\u001b[0m\n",
            "\u001b[?25hCollecting nvidia-cudnn-cu12==8.9.2.26 (from torch)\n",
            "  Downloading nvidia_cudnn_cu12-8.9.2.26-py3-none-manylinux1_x86_64.whl (731.7 MB)\n",
            "\u001b[2K     \u001b[90m━━━━━━━━━━━━━━━━━━━━━━━━━━━━━━━━━━━━━━━━\u001b[0m \u001b[32m731.7/731.7 MB\u001b[0m \u001b[31m947.8 kB/s\u001b[0m eta \u001b[36m0:00:00\u001b[0m\n",
            "\u001b[?25hCollecting nvidia-cublas-cu12==12.1.3.1 (from torch)\n",
            "  Downloading nvidia_cublas_cu12-12.1.3.1-py3-none-manylinux1_x86_64.whl (410.6 MB)\n",
            "\u001b[2K     \u001b[90m━━━━━━━━━━━━━━━━━━━━━━━━━━━━━━━━━━━━━━━━\u001b[0m \u001b[32m410.6/410.6 MB\u001b[0m \u001b[31m1.7 MB/s\u001b[0m eta \u001b[36m0:00:00\u001b[0m\n",
            "\u001b[?25hCollecting nvidia-cufft-cu12==11.0.2.54 (from torch)\n",
            "  Downloading nvidia_cufft_cu12-11.0.2.54-py3-none-manylinux1_x86_64.whl (121.6 MB)\n",
            "\u001b[2K     \u001b[90m━━━━━━━━━━━━━━━━━━━━━━━━━━━━━━━━━━━━━━━━\u001b[0m \u001b[32m121.6/121.6 MB\u001b[0m \u001b[31m6.2 MB/s\u001b[0m eta \u001b[36m0:00:00\u001b[0m\n",
            "\u001b[?25hCollecting nvidia-curand-cu12==10.3.2.106 (from torch)\n",
            "  Downloading nvidia_curand_cu12-10.3.2.106-py3-none-manylinux1_x86_64.whl (56.5 MB)\n",
            "\u001b[2K     \u001b[90m━━━━━━━━━━━━━━━━━━━━━━━━━━━━━━━━━━━━━━━━\u001b[0m \u001b[32m56.5/56.5 MB\u001b[0m \u001b[31m9.5 MB/s\u001b[0m eta \u001b[36m0:00:00\u001b[0m\n",
            "\u001b[?25hCollecting nvidia-cusolver-cu12==11.4.5.107 (from torch)\n",
            "  Downloading nvidia_cusolver_cu12-11.4.5.107-py3-none-manylinux1_x86_64.whl (124.2 MB)\n",
            "\u001b[2K     \u001b[90m━━━━━━━━━━━━━━━━━━━━━━━━━━━━━━━━━━━━━━━━\u001b[0m \u001b[32m124.2/124.2 MB\u001b[0m \u001b[31m6.5 MB/s\u001b[0m eta \u001b[36m0:00:00\u001b[0m\n",
            "\u001b[?25hCollecting nvidia-cusparse-cu12==12.1.0.106 (from torch)\n",
            "  Downloading nvidia_cusparse_cu12-12.1.0.106-py3-none-manylinux1_x86_64.whl (196.0 MB)\n",
            "\u001b[2K     \u001b[90m━━━━━━━━━━━━━━━━━━━━━━━━━━━━━━━━━━━━━━━━\u001b[0m \u001b[32m196.0/196.0 MB\u001b[0m \u001b[31m3.6 MB/s\u001b[0m eta \u001b[36m0:00:00\u001b[0m\n",
            "\u001b[?25hCollecting nvidia-nccl-cu12==2.19.3 (from torch)\n",
            "  Downloading nvidia_nccl_cu12-2.19.3-py3-none-manylinux1_x86_64.whl (166.0 MB)\n",
            "\u001b[2K     \u001b[90m━━━━━━━━━━━━━━━━━━━━━━━━━━━━━━━━━━━━━━━━\u001b[0m \u001b[32m166.0/166.0 MB\u001b[0m \u001b[31m5.9 MB/s\u001b[0m eta \u001b[36m0:00:00\u001b[0m\n",
            "\u001b[?25hCollecting nvidia-nvtx-cu12==12.1.105 (from torch)\n",
            "  Downloading nvidia_nvtx_cu12-12.1.105-py3-none-manylinux1_x86_64.whl (99 kB)\n",
            "\u001b[2K     \u001b[90m━━━━━━━━━━━━━━━━━━━━━━━━━━━━━━━━━━━━━━━━\u001b[0m \u001b[32m99.1/99.1 kB\u001b[0m \u001b[31m12.9 MB/s\u001b[0m eta \u001b[36m0:00:00\u001b[0m\n",
            "\u001b[?25hRequirement already satisfied: triton==2.2.0 in /usr/local/lib/python3.10/dist-packages (from torch) (2.2.0)\n",
            "Collecting nvidia-nvjitlink-cu12 (from nvidia-cusolver-cu12==11.4.5.107->torch)\n",
            "  Downloading nvidia_nvjitlink_cu12-12.4.99-py3-none-manylinux2014_x86_64.whl (21.1 MB)\n",
            "\u001b[2K     \u001b[90m━━━━━━━━━━━━━━━━━━━━━━━━━━━━━━━━━━━━━━━━\u001b[0m \u001b[32m21.1/21.1 MB\u001b[0m \u001b[31m64.3 MB/s\u001b[0m eta \u001b[36m0:00:00\u001b[0m\n",
            "\u001b[?25hRequirement already satisfied: MarkupSafe>=2.0 in /usr/local/lib/python3.10/dist-packages (from jinja2->torch) (2.1.5)\n",
            "Requirement already satisfied: mpmath>=0.19 in /usr/local/lib/python3.10/dist-packages (from sympy->torch) (1.3.0)\n",
            "Installing collected packages: nvidia-nvtx-cu12, nvidia-nvjitlink-cu12, nvidia-nccl-cu12, nvidia-curand-cu12, nvidia-cufft-cu12, nvidia-cuda-runtime-cu12, nvidia-cuda-nvrtc-cu12, nvidia-cuda-cupti-cu12, nvidia-cublas-cu12, nvidia-cusparse-cu12, nvidia-cudnn-cu12, nvidia-cusolver-cu12\n",
            "Successfully installed nvidia-cublas-cu12-12.1.3.1 nvidia-cuda-cupti-cu12-12.1.105 nvidia-cuda-nvrtc-cu12-12.1.105 nvidia-cuda-runtime-cu12-12.1.105 nvidia-cudnn-cu12-8.9.2.26 nvidia-cufft-cu12-11.0.2.54 nvidia-curand-cu12-10.3.2.106 nvidia-cusolver-cu12-11.4.5.107 nvidia-cusparse-cu12-12.1.0.106 nvidia-nccl-cu12-2.19.3 nvidia-nvjitlink-cu12-12.4.99 nvidia-nvtx-cu12-12.1.105\n",
            "Requirement already satisfied: transformers in /usr/local/lib/python3.10/dist-packages (4.38.2)\n",
            "Requirement already satisfied: filelock in /usr/local/lib/python3.10/dist-packages (from transformers) (3.13.1)\n",
            "Requirement already satisfied: huggingface-hub<1.0,>=0.19.3 in /usr/local/lib/python3.10/dist-packages (from transformers) (0.20.3)\n",
            "Requirement already satisfied: numpy>=1.17 in /usr/local/lib/python3.10/dist-packages (from transformers) (1.25.2)\n",
            "Requirement already satisfied: packaging>=20.0 in /usr/local/lib/python3.10/dist-packages (from transformers) (24.0)\n",
            "Requirement already satisfied: pyyaml>=5.1 in /usr/local/lib/python3.10/dist-packages (from transformers) (6.0.1)\n",
            "Requirement already satisfied: regex!=2019.12.17 in /usr/local/lib/python3.10/dist-packages (from transformers) (2023.12.25)\n",
            "Requirement already satisfied: requests in /usr/local/lib/python3.10/dist-packages (from transformers) (2.31.0)\n",
            "Requirement already satisfied: tokenizers<0.19,>=0.14 in /usr/local/lib/python3.10/dist-packages (from transformers) (0.15.2)\n",
            "Requirement already satisfied: safetensors>=0.4.1 in /usr/local/lib/python3.10/dist-packages (from transformers) (0.4.2)\n",
            "Requirement already satisfied: tqdm>=4.27 in /usr/local/lib/python3.10/dist-packages (from transformers) (4.66.2)\n",
            "Requirement already satisfied: fsspec>=2023.5.0 in /usr/local/lib/python3.10/dist-packages (from huggingface-hub<1.0,>=0.19.3->transformers) (2023.6.0)\n",
            "Requirement already satisfied: typing-extensions>=3.7.4.3 in /usr/local/lib/python3.10/dist-packages (from huggingface-hub<1.0,>=0.19.3->transformers) (4.10.0)\n",
            "Requirement already satisfied: charset-normalizer<4,>=2 in /usr/local/lib/python3.10/dist-packages (from requests->transformers) (3.3.2)\n",
            "Requirement already satisfied: idna<4,>=2.5 in /usr/local/lib/python3.10/dist-packages (from requests->transformers) (3.6)\n",
            "Requirement already satisfied: urllib3<3,>=1.21.1 in /usr/local/lib/python3.10/dist-packages (from requests->transformers) (2.0.7)\n",
            "Requirement already satisfied: certifi>=2017.4.17 in /usr/local/lib/python3.10/dist-packages (from requests->transformers) (2024.2.2)\n"
          ]
        }
      ],
      "source": [
        "!pip install torch\n",
        "!pip install transformers"
      ]
    },
    {
      "cell_type": "code",
      "execution_count": 2,
      "metadata": {
        "id": "61ce02dd"
      },
      "outputs": [],
      "source": [
        "import json\n",
        "import os\n",
        "import random\n",
        "import re\n",
        "import torch\n",
        "import torch.nn as nn\n",
        "import numpy as np\n",
        "import matplotlib.pyplot as plt\n",
        "from sklearn.utils.class_weight import compute_class_weight\n",
        "from torch.utils.data import DataLoader, TensorDataset\n",
        "from transformers import BertTokenizer, BertForSequenceClassification, AdamW, DistilBertForSequenceClassification\n",
        "from torch.cuda.amp import autocast, GradScaler\n",
        "from imblearn.over_sampling import RandomOverSampler\n",
        "from imblearn.under_sampling import RandomUnderSampler\n",
        "from collections import Counter\n"
      ]
    },
    {
      "cell_type": "code",
      "execution_count": 3,
      "metadata": {
        "id": "XYnDR8vwtrmU"
      },
      "outputs": [],
      "source": [
        "# 'combined_list' now contains the combined data from all files\n",
        "file_paths = [\"dataset.json\"]\n",
        "\n",
        "dataset = []\n",
        "\n",
        "for file_path in file_paths:\n",
        "    with open(file_path, \"r\") as file:\n",
        "        data = json.load(file)\n",
        "        dataset.extend(data)\n"
      ]
    },
    {
      "cell_type": "code",
      "execution_count": 4,
      "metadata": {
        "colab": {
          "base_uri": "https://localhost:8080/"
        },
        "id": "FxuC1gOXtuJ2",
        "outputId": "bacaa0fb-32c3-4185-9499-66df9fd460cc"
      },
      "outputs": [
        {
          "name": "stdout",
          "output_type": "stream",
          "text": [
            "47136\n",
            "{'pred': '/people/person/education./education/education/institution', 'sub': 'Cesar Ramos', 'obj': 'El Rancho High School', 'evidences': [{'url': 'http://en.wikipedia.org/wiki/Cesar_Ramos_(baseball)', 'snippet': 'Ramos attended El Rancho High School. He attended Long Beach State University, going 6--4 with a 2.85 ERA in 17 games, 14 starts, in . In , he went 12--4 with a 2.29 ERA in 19 starts, and in 2005 he went 10--7 with a 2.64 ERA in 18 starts.'}], 'judgments': [{'rater': '5346153820624061638', 'judgment': 'yes'}, {'rater': '10865367442061928261', 'judgment': 'yes'}, {'rater': '1666978224370465111', 'judgment': 'yes'}, {'rater': '15105723552637340343', 'judgment': 'yes'}, {'rater': '12086754839319333463', 'judgment': 'yes'}]}\n"
          ]
        }
      ],
      "source": [
        "random.shuffle(dataset)\n",
        "print(len(dataset))\n",
        "print(dataset[0])"
      ]
    },
    {
      "cell_type": "code",
      "execution_count": 5,
      "metadata": {
        "colab": {
          "base_uri": "https://localhost:8080/"
        },
        "id": "6K7jOGqHXJyx",
        "outputId": "298237ea-abdd-42c9-ff3b-fc7ecab5e694"
      },
      "outputs": [
        {
          "name": "stdout",
          "output_type": "stream",
          "text": [
            "pred:  /people/person/education./education/education/institution\n",
            "pred:  /people/person/education./education/education/institution\n",
            "pred:  /people/person/education./education/education/institution\n",
            "pred:  /people/person/place_of_birth\n",
            "pred:  /people/person/education./education/education/institution\n"
          ]
        }
      ],
      "source": [
        "# print the first 10 data points\n",
        "for i in range(0,5):\n",
        "  for key, value in dataset[i].items():\n",
        "    if key == \"pred\":\n",
        "      print(f\"{key}:  {value}\")"
      ]
    },
    {
      "cell_type": "code",
      "execution_count": 6,
      "metadata": {
        "colab": {
          "base_uri": "https://localhost:8080/"
        },
        "id": "57933d29",
        "outputId": "2cd36df9-2e30-4413-874e-6f8b176b6373"
      },
      "outputs": [
        {
          "name": "stdout",
          "output_type": "stream",
          "text": [
            "['/people/person/education./education/education/institution', '/people/person/place_of_birth', '/people/deceased_person/place_of_death', '/people/person/date_of_birth', '/people/person/education./education/education/degree']\n",
            "5\n"
          ]
        }
      ],
      "source": [
        "# Print the attributes\n",
        "preds = []\n",
        "for i in range(0,len(dataset)):\n",
        "  for key, value in dataset[i].items():\n",
        "    if key == \"pred\" and value not in preds:\n",
        "      preds.append(value)\n",
        "\n",
        "print(preds)\n",
        "print(len(preds))\n"
      ]
    },
    {
      "cell_type": "code",
      "execution_count": 7,
      "metadata": {
        "colab": {
          "base_uri": "https://localhost:8080/"
        },
        "id": "_gIOL7pmudFk",
        "outputId": "9ca7a85e-829b-4102-faea-12309d1009db"
      },
      "outputs": [
        {
          "name": "stdout",
          "output_type": "stream",
          "text": [
            "Counter({'/people/person/education./education/education/institution': 31991, '/people/person/place_of_birth': 8389, '/people/deceased_person/place_of_death': 2745, '/people/person/date_of_birth': 2282, '/people/person/education./education/education/degree': 1729})\n"
          ]
        }
      ],
      "source": [
        "# count the number of data points related to each attribute\n",
        "pred_counts = Counter(entry['pred'] for entry in dataset)\n",
        "print(pred_counts)\n"
      ]
    },
    {
      "cell_type": "code",
      "execution_count": 8,
      "metadata": {
        "colab": {
          "base_uri": "https://localhost:8080/",
          "height": 328
        },
        "id": "lSN90zm0s4QK",
        "outputId": "4f366590-0127-4519-c70b-7218cdb73371"
      },
      "outputs": [
        {
          "data": {
            "image/png": "[encoded data removed]",
            "text/plain": [
              "<Figure size 640x480 with 1 Axes>"
            ]
          },
          "metadata": {},
          "output_type": "display_data"
        }
      ],
      "source": [
        "#  plot the pecentage of data points related to each attribute\n",
        "\n",
        "pie_chart = plt.pie(pred_counts.values(), labels= preds, autopct='%1.1f%%')\n",
        "plt.show(pie_chart)"
      ]
    },
    {
      "cell_type": "code",
      "execution_count": 9,
      "metadata": {
        "id": "7-WWqvWPR2B-"
      },
      "outputs": [],
      "source": [
        "# Define X and y based on your dataset\n",
        "X = []  # List to store the features\n",
        "y = []  # List to store the class labels\n",
        "\n",
        "# Populate X and y from your dataset\n",
        "for entry in dataset:\n",
        "    # Extract features\n",
        "    df_sub = entry['sub']  # Example feature extraction, replace with actual features\n",
        "    df_obj = entry['obj']  # Another example feature extraction\n",
        "    df_text = entry['evidences'][0]['snippet']\n",
        "\n",
        "    # Extract class label\n",
        "    class_label = entry['pred']\n",
        "\n",
        "    # Append features to X\n",
        "    X.append([df_sub, df_obj, df_text, class_label])  # Example, replace with actual features\n",
        "\n",
        "    # Append class label to y\n",
        "    y.append(class_label)\n",
        "\n"
      ]
    },
    {
      "cell_type": "code",
      "execution_count": 10,
      "metadata": {
        "colab": {
          "base_uri": "https://localhost:8080/"
        },
        "id": "X3iu518AS11y",
        "outputId": "8340c224-b7cc-4432-f602-81a4cf271a74"
      },
      "outputs": [
        {
          "name": "stdout",
          "output_type": "stream",
          "text": [
            "['Cesar Ramos', 'El Rancho High School', 'Ramos attended El Rancho High School. He attended Long Beach State University, going 6--4 with a 2.85 ERA in 17 games, 14 starts, in . In , he went 12--4 with a 2.29 ERA in 19 starts, and in 2005 he went 10--7 with a 2.64 ERA in 18 starts.', '/people/person/education./education/education/institution']\n"
          ]
        }
      ],
      "source": [
        "print(X[0])"
      ]
    },
    {
      "cell_type": "code",
      "execution_count": 11,
      "metadata": {
        "colab": {
          "base_uri": "https://localhost:8080/",
          "height": 472
        },
        "id": "OlBxLLcMN_ct",
        "outputId": "c257c008-aeae-45d9-b1de-85bb9c7ac222"
      },
      "outputs": [
        {
          "data": {
            "image/png": "[encoded data removed]",
            "text/plain": [
              "<Figure size 640x480 with 1 Axes>"
            ]
          },
          "metadata": {},
          "output_type": "display_data"
        }
      ],
      "source": [
        "# Extract text lengths from X\n",
        "text_lengths = [len(entry[2]) for entry in X]  # Assuming df_text is at index 2\n",
        "\n",
        "# Count the frequency of each text length\n",
        "text_length_freq = Counter(text_lengths)\n",
        "\n",
        "# Extract lengths and frequencies for plotting\n",
        "lengths = list(text_length_freq.keys())\n",
        "frequencies = list(text_length_freq.values())\n",
        "\n",
        "# Plotting\n",
        "plt.bar(lengths, frequencies)\n",
        "plt.xlabel('Text Length')\n",
        "plt.ylabel('Frequency')\n",
        "plt.title('Text Length Frequency')\n",
        "plt.show()\n"
      ]
    },
    {
      "cell_type": "code",
      "execution_count": 12,
      "metadata": {
        "colab": {
          "base_uri": "https://localhost:8080/"
        },
        "id": "jHupXbc5O1hQ",
        "outputId": "689fb0a2-49ef-4f06-a0b5-d2275747714b"
      },
      "outputs": [
        {
          "name": "stdout",
          "output_type": "stream",
          "text": [
            "36052\n"
          ]
        }
      ],
      "source": [
        "# Filter data with text length more than 600\n",
        "filtered_X = [entry for entry in X if len(entry[2]) < 600]  # Assuming df_text is at index 2\n",
        "filtered_y = [entry[3] for entry in filtered_X]  # Assuming class label is at index 3\n",
        "\n",
        "# Now, you can use filtered_X and filtered_y for further analysis or plotting\n",
        "print(len(filtered_X))"
      ]
    },
    {
      "cell_type": "code",
      "execution_count": 13,
      "metadata": {
        "colab": {
          "base_uri": "https://localhost:8080/"
        },
        "id": "K-XEohzIO2sD",
        "outputId": "41ac80d9-bdb8-4c57-c35a-a943dbe94608"
      },
      "outputs": [
        {
          "data": {
            "text/plain": [
              "Counter({'/people/person/education./education/education/institution': 23480,\n",
              "         '/people/person/place_of_birth': 7002,\n",
              "         '/people/deceased_person/place_of_death': 2298,\n",
              "         '/people/person/date_of_birth': 1927,\n",
              "         '/people/person/education./education/education/degree': 1345})"
            ]
          },
          "execution_count": 13,
          "metadata": {},
          "output_type": "execute_result"
        }
      ],
      "source": [
        "Counter(filtered_y)"
      ]
    },
    {
      "cell_type": "code",
      "execution_count": 14,
      "metadata": {
        "id": "i4gWdoJOZys4"
      },
      "outputs": [],
      "source": [
        "sampling_strategy= {'/people/person/place_of_birth': 2200,\n",
        "                    '/people/person/education./education/education/institution':2200,\n",
        "                    '/people/deceased_person/place_of_death': 2200,\n",
        "                    '/people/person/date_of_birth': 1927,\n",
        "                    '/people/person/education./education/education/degree':1345\n",
        "\n",
        "}"
      ]
    },
    {
      "cell_type": "code",
      "execution_count": 15,
      "metadata": {
        "colab": {
          "base_uri": "https://localhost:8080/"
        },
        "id": "zBonnqsyBRXh",
        "outputId": "b23ef3cc-1f30-4c38-9e90-c4e92977cc47"
      },
      "outputs": [
        {
          "name": "stdout",
          "output_type": "stream",
          "text": [
            "Counter({'/people/deceased_person/place_of_death': 2200, '/people/person/date_of_birth': 2200, '/people/person/education./education/education/degree': 2200, '/people/person/education./education/education/institution': 2200, '/people/person/place_of_birth': 2200})\n"
          ]
        }
      ],
      "source": [
        "# undersample and oversample data\n",
        "# Apply undersampling\n",
        "under_sampling = RandomUnderSampler(sampling_strategy=sampling_strategy, random_state=42)\n",
        "X_undersample, y_undersample = under_sampling.fit_resample(filtered_X, filtered_y)\n",
        "\n",
        "# Apply oversampling\n",
        "over_sampling = RandomOverSampler(sampling_strategy='not majority', random_state=42)\n",
        "X_balanced, y_balanced = over_sampling.fit_resample(X_undersample, y_undersample)\n",
        "\n",
        "# Check the class distribution after balancing\n",
        "print(Counter(y_balanced))\n"
      ]
    },
    {
      "cell_type": "code",
      "execution_count": 16,
      "metadata": {
        "id": "djcnmuZ3BJor"
      },
      "outputs": [],
      "source": [
        "random.shuffle(X_balanced)"
      ]
    },
    {
      "cell_type": "code",
      "execution_count": 17,
      "metadata": {
        "colab": {
          "base_uri": "https://localhost:8080/"
        },
        "id": "DzxVS1-2bZ2g",
        "outputId": "e983409b-8a5b-4418-e52d-10777676ac0e"
      },
      "outputs": [
        {
          "name": "stdout",
          "output_type": "stream",
          "text": [
            "[\"Patrick H. O'Farrell\", 'Bachelor of Science', \"Patrick H. O'Farrell received his ((NAM: B.Sc)). in 1969 from McGill University in Montreal, Quebec. He then went on to graduate school at the University of Colorado, Boulder, where he worked with Jacques Pène. To optimize the resolution of the Electrophoresis of the proteins, he needed to separate the proteins according to independent parameters. Two parameters were used:\", '/people/person/education./education/education/degree']\n",
            "['William J. Carney', 'Sheboygan South High School', 'William J. Carney, (January 27, 1927 - April 1, 2010), was a U.S. Veteran boardman. He was born in Youngstown, a son of William F. and Elsie Mae Woodall Carney. He was a graduate of South High School. He was a Navy veteran of WWII and the Korean War serving in the Pacific in both as a signalman. Carney worked in the Metallurgical Lab at Sheet and Tube and with Metropolitan Housing Authority until retirement.', '/people/person/education./education/education/institution']\n",
            "['George Peter Foster', 'Wheaton', 'Foster was elected as a Democrat to the Fifty-sixth, Fifty-seventh, and Fifty-eighth Congresses (March 4, 1899-March 3, 1905). He was an unsuccessful candidate for reelection in 1904. He resumed the practice of law. He served as assistant corporation counsel of Chicago from 1912 to 1922. He retired from active pursuits in 1928 and moved to Wheaton, Illinois, where he died November 11, 1928. He was interred in Calvary Cemetery in Chicago.', '/people/deceased_person/place_of_death']\n",
            "['Gerald and Sara Murphy', 'East Hampton', 'Gerald died October 17, 1964 in East Hampton. Sara died on October 10, 1975 in Arlington, Virginia.', '/people/deceased_person/place_of_death']\n",
            "['Leónidas Plaza', 'University of Maryland', 'Plaza was born in New York City in 1906 at the Marlton House during the exile of his father, the general and ex-president Leónidas Plaza; his mother was Avelina Lasso Ascásubi. He studied agriculture at the University of Maryland, economics at the University of California, Berkeley, and diplomacy at the Edmund A. Walsh School of Foreign Service at Georgetown University.', '/people/person/education./education/education/institution']\n",
            "['Marlene Kairouz', 'Primary school', \"Kairouz was educated at St Mary's Primary School in Thornbury from 1980 to 1986 and Santa Maria Girls College, Northcote from 1987 to 1992. She holds a Diploma of Health, Medical Laboratory Science from RMIT and worked as a histologist prior to working at the Australian Workers Union and becoming active in politics.\", '/people/person/education./education/education/institution']\n",
            "['Peter Russell', 'University of Cambridge', \"Born in Cork, Ireland, later living in England, Russell attended the University of Cambridge briefly. His debts forced him to enter the British Army during the Seven Years' War. He was commissioned into the 14th Foot and served in the 94th Foot and the 64th Foot.\", '/people/person/education./education/education/institution']\n",
            "['Yakov Dashevsky', '1902', \"Yakov Dashevsky was born in 1902 in Kherson, then part of the Russian Empire's Kherson Governorate (now in Kherson Oblast, Ukraine), and came from a Jewish family.\", '/people/person/date_of_birth']\n",
            "['Arthur Ashley Sykes', 'Corpus Christi College', \"Sykes was born in London in 1683 or 1684 and educated at St. Paul's School. In 1701 he was admitted to Corpus Christi College at Cambridge, where he received scholarship (1702), B.A. (1705), M.A. (1708), and D.D. (1726). He was vicar of Rayleigh in Essex from 1718 till his death in 1756.\", '/people/person/education./education/education/institution']\n",
            "['Charles G. Boyd', 'Bachelor of Arts', 'Boyd received his ((NAM: Bachelor of Arts degree)) from the University of Kansas in 1975, and earned his Master of Arts degree from the same in 1976. His military education included attending the Air War College, Maxwell Air Force Base, Alabama in 1977. In 1986, he participated in the Program for Senior Executives in National and International Security at Harvard University.', '/people/person/education./education/education/degree']\n"
          ]
        }
      ],
      "source": [
        "for i in range(0,10):\n",
        "  print(X_balanced[i])\n"
      ]
    },
    {
      "cell_type": "code",
      "execution_count": 18,
      "metadata": {
        "colab": {
          "base_uri": "https://localhost:8080/"
        },
        "id": "CPdtrmNWNvam",
        "outputId": "f4b6d414-b8fb-4a17-f438-bff465bed317"
      },
      "outputs": [
        {
          "name": "stdout",
          "output_type": "stream",
          "text": [
            "{'Bachelor of Arts': 1077, 'Bachelor of Science': 380, 'Bachelor of Laws': 118, 'Bachelor of Fine Arts': 66, 'Doctor of Philosophy': 65, 'Master of Arts': 58, 'Master of Science': 51, 'Juris Doctor': 48, 'Honorary degree': 41, \"Bachelor's degree\": 40, 'Master of Business Administration': 24, 'Doctor of Letters': 22, 'Bachelor of Music': 18, 'Business administration': 16, 'Doctor of Humane Letters': 15, 'Master of Fine Arts': 12, 'Doctor of Medicine': 11, 'Bachelor of Engineering': 11, 'Bachelor of Technology': 9, 'Legum Doctor': 8, 'Bachelor of Commerce': 7, 'Bachelor of Philosophy': 7, 'Diplom': 5, 'Bachelor of Theology': 4, 'Semikhah': 4, 'Doctor of Divinity': 4, 'Doctor of Law': 4, 'Master of Public Administration': 4, 'Doctorate': 3, 'Doctor of Science': 3, 'Bachelor of Architecture': 3, 'Doctor of Juridical Science': 3, 'Crimea Medal': 3, 'Queen Elizabeth II Coronation Award': 3, 'Hero': 3, 'Order of Merit of the Federal Republic of Germany': 3, 'Dental degree': 3, 'Oscar Carré Trophy': 2, 'Order of Ontario': 2, 'Duchy': 2, 'Philippine Campaign Medal': 2, 'Bachelor of Electrical Engineering': 2, 'Inkpot Award': 2, 'Gallantry Cross': 2, 'Master of Divinity': 2, 'Doctor of Civil Law': 2, 'Holmenkollen Medal': 2, 'Ecthesis': 2, 'Last rites': 2, 'Order of the Indian Empire': 2, 'Diploma': 2, 'Theatre World Award': 2, 'Pater Patriae': 2, 'Licentiate of Sacred Theology': 1, 'Bachelor of Education': 1, 'Medal bar': 1, 'Master of Social Work': 1, 'Supersemar': 1, 'Menkyo': 1, 'Doctor of Education': 1, 'Israeli identity card': 1, 'Hedda Award': 1, 'Master of Laws': 1, 'Pour le Mérite': 1, 'Spanish Campaign Medal': 1}\n"
          ]
        }
      ],
      "source": [
        "from collections import defaultdict\n",
        "degree_type =[]\n",
        "category_examples = defaultdict(list)\n",
        "\n",
        "for x in X_balanced:\n",
        "  if x[3] == '/people/person/education./education/education/degree':\n",
        "    degree_type.append(x[1])\n",
        "    category_examples[x[1]].append(x[2])\n",
        "\n",
        "# Count the occurrences of each degree type\n",
        "degree_counter = Counter(degree_type)\n",
        "\n",
        "# Sort the Counter dictionary by values\n",
        "sorted_degree_counter = dict(sorted(degree_counter.items(), key=lambda item: item[1], reverse=True))\n",
        "\n",
        "print(sorted_degree_counter)\n"
      ]
    },
    {
      "cell_type": "code",
      "execution_count": 52,
      "metadata": {
        "colab": {
          "base_uri": "https://localhost:8080/"
        },
        "id": "W_dwTArkWNZk",
        "outputId": "e6558baa-1a6c-4977-e84b-f8ff3431c7f6"
      },
      "outputs": [
        {
          "name": "stdout",
          "output_type": "stream",
          "text": [
            "Born in Omaha, Nebraska, Schatz received an ((NAM: Bachelor of Arts) from the University of Nebraska in 1943 and was a U.S.\n"
          ]
        }
      ],
      "source": [
        "\n",
        "\n",
        "# Mapping list of degree categories to their corresponding degree abbreviations\n",
        "degree_mapping = {\n",
        "    \"Bachelor of Laws\": \"B.L.\",\n",
        "    \"Bachelor of Arts\": \"B.A.\",\n",
        "    \"Bachelor of Science\": \"B.Sc\",\n",
        "    \"Bachelor of Fine Arts\": \"BFA\",\n",
        "    \"Bachelor of Philosophy\": \"Ph.B.\",\n",
        "    \"Master of Arts\": \"M.A.\",\n",
        "    \"Doctor of Medicine\": \"M.D.\",\n",
        "    \"Master of Business Administration\": \"MBA\",\n",
        "    \"Juris Doctor\": \"J.D.\",\n",
        "    \"Bachelor of Technology\": \"B.Tech\",\n",
        "    \"Bachelor of Music\": \"Mus.B.\",\n",
        "    \"Bachelor of Engineering\": \"BSEE\",\n",
        "    \"Doctor of Philosophy\": \"Ph.D\",\n",
        "    \"Master of Science\": \"M.Sc.\",\n",
        "    \"Business administration\": \"B.B.A.\",\n",
        "    \"Legum Doctor\": \"LL.D.\",\n",
        "    \"Master of Social Work\": \"M.S.W.\",\n",
        "    \"Bachelor of Theology\": \"Th.B.\",\n",
        "    \"Bachelor of Education\": \"B.Ed\",\n",
        "    \"Doctor of Divinity\": \"D.D.\",\n",
        "    \"Doctor of Education\": \"Ed.D.\",\n",
        "    \"Bachelor of Electrical Engineering\": \"B.E.E.\",\n",
        "    \"Master of Laws\": \"LL.M.\"\n",
        "}\n",
        "\n",
        "\n",
        "def extract_degree(text, degree_object):\n",
        "    marked_text = text\n",
        "    # Find the corresponding degree abbreviation for the given degree object\n",
        "    degree_abbr = degree_mapping.get(degree_object)\n",
        "    if degree_abbr:\n",
        "        # Escape the degree abbreviation\n",
        "        degree_abbr_escaped = re.escape(degree_abbr)\n",
        "        # Create a regex pattern for the degree abbreviation\n",
        "        pattern = r'\\b' + degree_abbr_escaped + r'\\W'\n",
        "        # Search for the pattern in the text\n",
        "        match = re.search(pattern, marked_text)\n",
        "        # If a match is found, replace the abbreviation with the full degree name in the text\n",
        "        if match:\n",
        "            marked_text = re.sub(pattern, f'{degree_object}', marked_text)\n",
        "    return marked_text\n",
        "'''\n",
        "# Test the function\n",
        "text = \"Born in Omaha, Nebraska, Schatz received an ((NAM: B.A.)) from the University of Nebraska in 1943 and was a U.S.\"\n",
        "degree_object = \"Bachelor of Arts\"\n",
        "marked_text = extract_degree(text, degree_object)\n",
        "print(marked_text)\n",
        "'''"
      ]
    },
    {
      "cell_type": "code",
      "execution_count": 21,
      "metadata": {
        "colab": {
          "base_uri": "https://localhost:8080/"
        },
        "id": "f3shvZXAQhb-",
        "outputId": "3f97ad61-91bf-43a0-eba7-7ef7acdcc181"
      },
      "outputs": [
        {
          "name": "stdout",
          "output_type": "stream",
          "text": [
            "[\"Patrick H. O'Farrell\", 'Bachelor of Science', '/people/person/education./education/education/degree', \"[E1]Patrick H. O'Farrell[/E1] received his ((NAM: [E2]Bachelor of Science[/E2]). in 1969 from McGill University in Montreal, Quebec. He then went on to graduate school at the University of Colorado, Boulder, where he worked with Jacques Pène. To optimize the resolution of the Electrophoresis of the proteins, he needed to separate the proteins according to independent parameters. Two parameters were used:\"]\n",
            "['William J. Carney', 'Sheboygan South High School', '/people/person/education./education/education/institution', '[E1]William J. Carney[/E1], (January 27, 1927 - April 1, 2010), was a U.S. Veteran boardman. He was born in Youngstown, a son of [E1]William J. Carney[/E1] F. and Elsie Mae Woodall [E1]William J. Carney[/E1]. He was a graduate of South High [E2]Sheboygan South High School[/E2]. He was a Navy veteran of WWII and the Korean War serving in the Pacific in both as a signalman. [E1]William J. Carney[/E1] worked in the Metallurgical Lab at Sheet and Tube and with Metropolitan Housing Authority until retirement.']\n",
            "['George Peter Foster', 'Wheaton', '/people/deceased_person/place_of_death', '[E1]George Peter Foster[/E1] was elected as a Democrat to the Fifty-sixth, Fifty-seventh, and Fifty-eighth Congresses (March 4, 1899-March 3, 1905). He was an unsuccessful candidate for reelection in 1904. He resumed the practice of law. He served as assistant corporation counsel of Chicago from 1912 to 1922. He retired from active pursuits in 1928 and moved to [E2]Wheaton[/E2], Illinois, where he died November 11, 1928. He was interred in Calvary Cemetery in Chicago.']\n",
            "['Gerald and Sara Murphy', 'East Hampton', '/people/deceased_person/place_of_death', '[E1]Gerald and Sara Murphy[/E1] died October 17, 1964 in [E2]East Hampton[/E2]. Sara died on October 10, 1975 in Arlington, Virginia.']\n",
            "['Leónidas Plaza', 'University of Maryland', '/people/person/education./education/education/institution', '[E1]Leónidas Plaza[/E1] was born in New York City in 1906 at the Marlton House during the exile of his father, the general and ex-president [E1]Leónidas Plaza[/E1]; his mother was Avelina Lasso Ascásubi. He studied agriculture at the [E2]University of Maryland[/E2], economics at the [E2]University of Maryland[/E2] of California, Berkeley, and diplomacy at the Edmund A. Walsh School of Foreign Service at Georgetown [E2]University of Maryland[/E2].']\n",
            "['Marlene Kairouz', 'Primary school', '/people/person/education./education/education/institution', \"[E1]Marlene Kairouz[/E1] was educated at St Mary's [E2]Primary school[/E2] in Thornbury from 1980 to 1986 and Santa Maria Girls College, Northcote from 1987 to 1992. She holds a Diploma of Health, Medical Laboratory Science from RMIT and worked as a histologist prior to working at the Australian Workers Union and becoming active in politics.\"]\n",
            "['Peter Russell', 'University of Cambridge', '/people/person/education./education/education/institution', \"Born in Cork, Ireland, later living in England, [E1]Peter Russell[/E1] attended the [E2]University of Cambridge[/E2] briefly. His debts forced him to enter the British Army during the Seven Years' War. He was commissioned into the 14th Foot and served in the 94th Foot and the 64th Foot.\"]\n",
            "['Yakov Dashevsky', '1902', '/people/person/date_of_birth', \"[E1]Yakov Dashevsky[/E1] was born in [E2]1902[/E2] in Kherson, then part of the Russian Empire's Kherson Governorate (now in Kherson Oblast, Ukraine), and came from a Jewish family.\"]\n",
            "['Arthur Ashley Sykes', 'Corpus Christi College', '/people/person/education./education/education/institution', \"[E1]Arthur Ashley Sykes[/E1] was born in London in 1683 or 1684 and educated at St. Paul's School. In 1701 he was admitted to [E2]Corpus Christi College[/E2] at Cambridge, where he received scholarship (1702), B.A. (1705), M.A. (1708), and D.D. (1726). He was vicar of Rayleigh in Essex from 1718 till his death in 1756.\"]\n",
            "['Charles G. Boyd', 'Bachelor of Arts', '/people/person/education./education/education/degree', '[E1]Charles G. Boyd[/E1] received his ((NAM: [E2]Bachelor of Arts[/E2] degree)) from the University of Kansas in 1975, and earned his Master of [E2]Bachelor of Arts[/E2] degree from the same in 1976. His military education included attending the Air War College, Maxwell Air Force Base, Alabama in 1977. In 1986, he participated in the Program for Senior Executives in National and International Security at Harvard University.']\n"
          ]
        }
      ],
      "source": [
        "import re\n",
        "\n",
        "text_list = []\n",
        "\n",
        "for item in X_balanced:\n",
        "    subject = item[0]\n",
        "    obj = item[1]\n",
        "    text = item[2]\n",
        "    label = item[3]\n",
        "\n",
        "    if label == '/people/person/education./education/education/degree':\n",
        "      text = extract_degree(text, obj)\n",
        "\n",
        "    # Escape special characters in subject and object for regex\n",
        "    subject_regex = re.escape(subject)\n",
        "    obj_regex = re.escape(obj)\n",
        "\n",
        "    # Define regular expression patterns to match variations of subject and object names\n",
        "    subject_pattern = r'\\b' + subject_regex + r'\\b|\\b' + re.escape(subject.split()[0]) + r'\\b|\\b' + re.escape(subject.split()[-1]) + r'\\b'  # Match full, first or last name\n",
        "    obj_pattern = r'\\b' + obj_regex + r'\\b|\\b' + re.escape(obj.split()[0]) + r'\\b|\\b' + re.escape(obj.split()[-1]) + r'\\b'  # Match full, first or last name\n",
        "\n",
        "    # Marking subject and object in the text\n",
        "    text_with_markings = re.sub(subject_pattern, '[E1]' + subject + '[/E1]', text, flags=re.IGNORECASE)\n",
        "    text_with_markings = re.sub(obj_pattern, '[E2]' + obj + '[/E2]', text_with_markings, flags=re.IGNORECASE)\n",
        "    text_list.append([subject, obj, label, text_with_markings])\n",
        "\n",
        "# Print marked text for the first 10 entries for inspection\n",
        "for marked_text in text_list[:10]:\n",
        "    print(marked_text)\n"
      ]
    },
    {
      "cell_type": "code",
      "execution_count": 22,
      "metadata": {
        "id": "kCimK2aPL30k"
      },
      "outputs": [],
      "source": [
        "text_length=[]\n",
        "for i in range(len(text_list)):\n",
        "  text_length.append(len(text_list[i][3]))\n"
      ]
    },
    {
      "cell_type": "code",
      "execution_count": 23,
      "metadata": {
        "colab": {
          "base_uri": "https://localhost:8080/"
        },
        "id": "4bBc6M4AQ5w-",
        "outputId": "5a26c57d-bb6a-40c8-9ea5-61b29ef1593f"
      },
      "outputs": [
        {
          "name": "stdout",
          "output_type": "stream",
          "text": [
            "953\n"
          ]
        }
      ],
      "source": [
        "print(max(text_length))"
      ]
    },
    {
      "cell_type": "code",
      "execution_count": 24,
      "metadata": {
        "colab": {
          "base_uri": "https://localhost:8080/"
        },
        "id": "enltOAeUW71K",
        "outputId": "0627e350-f1c8-4524-f9d2-fbe4376969fa"
      },
      "outputs": [
        {
          "name": "stdout",
          "output_type": "stream",
          "text": [
            "Index of text with maximum length: 6759\n"
          ]
        }
      ],
      "source": [
        "max_length_index = text_length.index(max(text_length))\n",
        "print(\"Index of text with maximum length:\", max_length_index)\n"
      ]
    },
    {
      "cell_type": "code",
      "execution_count": 25,
      "metadata": {
        "colab": {
          "base_uri": "https://localhost:8080/"
        },
        "id": "QBC6whrnXa_4",
        "outputId": "f96b647b-3335-40ac-88a0-48b5434f15f9"
      },
      "outputs": [
        {
          "name": "stdout",
          "output_type": "stream",
          "text": [
            "['Adrian Zmed', 'The Theatre School at DePaul University', '/people/person/education./education/education/institution', \"He graduated with a BFA from [E2]The Theatre School at DePaul University[/E2] famed Goodman School of Drama. His first major acting gig was [E2]The Theatre School at DePaul University[/E2] role of [E2]The Theatre School at DePaul University[/E2] male lead, Danny Zuko, in [E2]The Theatre School at DePaul University[/E2] national touring company production of Grease. He later appeared in [E2]The Theatre School at DePaul University[/E2] Broadway stage musical three times, twice in [E2]The Theatre School at DePaul University[/E2] role of Zuko. In [E2]The Theatre School at DePaul University[/E2] original Broadway production of Grease, he starred with Jeff Conaway, who played Kenickie in [E2]The Theatre School at DePaul University[/E2] 1978 motion picture Grease. Aged 40, [E1]Adrian Zmed[/E1] revived [E2]The Theatre School at DePaul University[/E2] role of Danny Zuko during [E2]The Theatre School at DePaul University[/E2] show's revival in 1995.\"]\n"
          ]
        }
      ],
      "source": [
        "print(text_list[max_length_index])"
      ]
    },
    {
      "cell_type": "code",
      "execution_count": 26,
      "metadata": {
        "colab": {
          "base_uri": "https://localhost:8080/",
          "height": 472
        },
        "id": "Nzne1dKIMLub",
        "outputId": "93662038-bfde-4090-f1ad-b82fb44d6bad"
      },
      "outputs": [
        {
          "data": {
            "image/png": "[encoded data removed]",
            "text/plain": [
              "<Figure size 640x480 with 1 Axes>"
            ]
          },
          "metadata": {},
          "output_type": "display_data"
        }
      ],
      "source": [
        "\n",
        "# Count the frequency of each text length\n",
        "text_length_freq = Counter(text_length)\n",
        "\n",
        "# Extract lengths and frequencies for plotting\n",
        "lengths = list(text_length_freq.keys())\n",
        "frequencies = list(text_length_freq.values())\n",
        "\n",
        "# Plotting\n",
        "plt.bar(lengths, frequencies)\n",
        "plt.xlabel('Text Length')\n",
        "plt.ylabel('Frequency')\n",
        "plt.title('Text Length Frequency')\n",
        "plt.show()\n"
      ]
    },
    {
      "cell_type": "code",
      "execution_count": 27,
      "metadata": {
        "id": "qhFm3BuFyE-1"
      },
      "outputs": [],
      "source": [
        "from sklearn.preprocessing import LabelEncoder\n",
        "\n",
        "# Initialize the label encoder\n",
        "label_encoder = LabelEncoder()\n",
        "\n",
        "# Define the mapping between labels and encoded numbers\n",
        "label_mapping = {\n",
        "    '/people/person/education./education/education/institution': 0,\n",
        "    '/people/deceased_person/place_of_death': 1,\n",
        "    '/people/person/place_of_birth': 2,\n",
        "    '/people/person/date_of_birth': 3,\n",
        "    '/people/person/education./education/education/degree': 4\n",
        "}\n",
        "\n",
        "# Fit the label encoder with the specified mapping\n",
        "label_encoder.fit(list(label_mapping.values()))\n",
        "\n",
        "# Extract the labels from X_balanced\n",
        "classes = [entry[2] for entry in text_list]\n",
        "\n",
        "# Transform the labels using the fitted label encoder\n",
        "encoded_labels = [label_mapping[label] for label in classes]\n",
        "\n",
        "# Update the labels in X_balanced\n",
        "for i, entry in enumerate(text_list):\n",
        "    entry.append(encoded_labels[i])\n"
      ]
    },
    {
      "cell_type": "code",
      "execution_count": 28,
      "metadata": {
        "colab": {
          "base_uri": "https://localhost:8080/"
        },
        "id": "UxCLmU__WelN",
        "outputId": "42ff057b-ee17-4dc8-e318-52e90258d87b"
      },
      "outputs": [
        {
          "data": {
            "text/plain": [
              "['Gerald and Sara Murphy',\n",
              " 'East Hampton',\n",
              " '/people/deceased_person/place_of_death',\n",
              " '[E1]Gerald and Sara Murphy[/E1] died October 17, 1964 in [E2]East Hampton[/E2]. Sara died on October 10, 1975 in Arlington, Virginia.',\n",
              " 1]"
            ]
          },
          "execution_count": 28,
          "metadata": {},
          "output_type": "execute_result"
        }
      ],
      "source": [
        "text_list[3]"
      ]
    },
    {
      "cell_type": "code",
      "execution_count": 29,
      "metadata": {
        "colab": {
          "base_uri": "https://localhost:8080/",
          "height": 269,
          "referenced_widgets": [
            "d2dc3513b93a43d8aa6c29af69ca3d6a",
            "1f9a6d2f023e41288547a1566fa63d58",
            "1103bb61089f447497359f3d4fb118d3",
            "0314a8de118142f28b231ff4e4ebad06",
            "6e28a93cc5fb4b57bf405aa0a041f42e",
            "6c8974c266ab41af9cbf91150dad384c",
            "4f5afcb9067a48f0862879cab3bb3edc",
            "0f7ef6f4f14749d5be8d15042ffd029e",
            "e8ac460fe52b483cafd6fd56a3e4c1f2",
            "d5502b92aa2f4b31a9e4b9fef92ab5e5",
            "6c49ca9d93a34dae999bcfc1fef2e355",
            "a03c23653eda4ec8a6ebd61969e84e81",
            "32406e715b8e41e6ada5cb9c32858f02",
            "0f22872c4a5c41a0b544eecf9ea3ee5e",
            "fdc6c95c213343519bd496f6456ff9c5",
            "73a66c7251554f72bec0f590d17f6fae",
            "83f7a20077b64097800d75bf785f4e3e",
            "1a947884ca204b4188b45c45c84e7f99",
            "176c109816644a788b696760d5606db8",
            "c21f9b4f4b6f4484ad8a01569eb5c1d2",
            "b936f92b208d4ae1af0a32b9575c0593",
            "a9881040fa554d65894d8d0865f10860",
            "23db4a48ee6e4005a60b6aee2f4c45ff",
            "c1b64e30376442f19ad8d57194874aac",
            "a389278be9b246319865efed2cf6c9db",
            "5b006c110c8d4c6fb4f80911739e9279",
            "478bf8357c09482cb4238bc508535f21",
            "1d6ec42ebf55401d87ef279a9ab91d30",
            "d9c28a8818594625baa231fcadb5f12c",
            "15f1577407354739a1c52e2e82d838b7",
            "da096e584aa0446a94d31f87fd38a5b7",
            "5dd541d6212b48b18b993b48900449f5",
            "068cba8ec4b04513a0e50a80ba5b7424",
            "e904b7bbdd5145b7be3b1a322b56b8aa",
            "320c6079db5e44a69dcb2d3ece021f00",
            "740339e7eace4ca0a0ec67b4b9d12ec9",
            "d3ac7ba22149472d98bf08f1c139a8d6",
            "3b282a9beca14f038da56b3506afbd8f",
            "ae12acd9a1064c90a9fb0b26919c993b",
            "62aa0b49a70b4cbcb2e393268d234014",
            "ce6a0617a50e4f3298bb261f2e430270",
            "d1575e784afd476c9b64b0e30fd3239e",
            "bf929650e0d3420187c86e6a3f913086",
            "fa96723e6ffd4702bc92500bf756b707"
          ]
        },
        "id": "J299kgULRivR",
        "outputId": "d3bb536f-4efa-4e8e-c1d5-515eb45f41a3"
      },
      "outputs": [
        {
          "name": "stderr",
          "output_type": "stream",
          "text": [
            "/usr/local/lib/python3.10/dist-packages/huggingface_hub/utils/_token.py:88: UserWarning: \n",
            "The secret `HF_TOKEN` does not exist in your Colab secrets.\n",
            "To authenticate with the Hugging Face Hub, create a token in your settings tab (https://huggingface.co/settings/tokens), set it as secret in your Google Colab and restart your session.\n",
            "You will be able to reuse this secret in all of your notebooks.\n",
            "Please note that authentication is recommended but still optional to access public models or datasets.\n",
            "  warnings.warn(\n"
          ]
        },
        {
          "data": {
            "application/vnd.jupyter.widget-view+json": {
              "model_id": "d2dc3513b93a43d8aa6c29af69ca3d6a",
              "version_major": 2,
              "version_minor": 0
            },
            "text/plain": [
              "tokenizer_config.json:   0%|          | 0.00/48.0 [00:00<?, ?B/s]"
            ]
          },
          "metadata": {},
          "output_type": "display_data"
        },
        {
          "data": {
            "application/vnd.jupyter.widget-view+json": {
              "model_id": "a03c23653eda4ec8a6ebd61969e84e81",
              "version_major": 2,
              "version_minor": 0
            },
            "text/plain": [
              "vocab.txt:   0%|          | 0.00/232k [00:00<?, ?B/s]"
            ]
          },
          "metadata": {},
          "output_type": "display_data"
        },
        {
          "data": {
            "application/vnd.jupyter.widget-view+json": {
              "model_id": "23db4a48ee6e4005a60b6aee2f4c45ff",
              "version_major": 2,
              "version_minor": 0
            },
            "text/plain": [
              "tokenizer.json:   0%|          | 0.00/466k [00:00<?, ?B/s]"
            ]
          },
          "metadata": {},
          "output_type": "display_data"
        },
        {
          "data": {
            "application/vnd.jupyter.widget-view+json": {
              "model_id": "e904b7bbdd5145b7be3b1a322b56b8aa",
              "version_major": 2,
              "version_minor": 0
            },
            "text/plain": [
              "config.json:   0%|          | 0.00/570 [00:00<?, ?B/s]"
            ]
          },
          "metadata": {},
          "output_type": "display_data"
        }
      ],
      "source": [
        "# Initialize the BERT tokenizer\n",
        "tokenizer = BertTokenizer.from_pretrained('bert-base-uncased', pad_token= '[PAD]')\n",
        "from torch.nn.utils.rnn import pad_sequence\n",
        "\n",
        "# Define a function to pad or truncate sequences\n",
        "def pad_sequences(seq, max_length):\n",
        "    if len(seq) < max_length:\n",
        "        # Pad with [PAD] tokens if the sequence is shorter than max_length\n",
        "        padding = ['[PAD]'] * (max_length - len(seq))\n",
        "        return seq + padding\n",
        "    else:\n",
        "        # Truncate if the sequence is longer than max_length\n",
        "        return seq[:max_length]\n"
      ]
    },
    {
      "cell_type": "code",
      "execution_count": 30,
      "metadata": {
        "id": "JOSsp7UGJjfC"
      },
      "outputs": [],
      "source": [
        "# Define your max sequence length\n",
        "max_seq_length = 128\n",
        "\n",
        "# Initialize lists to store tokenized inputs and labels\n",
        "inputs_text = []\n",
        "labels = []\n",
        "\n",
        "# Process each data point in the dataset\n",
        "for data_point in text_list:\n",
        "    text = data_point[3]\n",
        "\n",
        "    # Tokenize the subject, object, and text using BERT tokenizer\n",
        "    tokenized_text = tokenizer.tokenize(text)\n",
        "\n",
        "    # Truncate or pad the tokenized sequences to the specified max sequence length\n",
        "    tokenized_text = tokenized_text[:max_seq_length - 2]\n",
        "\n",
        "    # Add [CLS] and [SEP] tokens to the subject, object, and text\n",
        "    tokenized_text = ['[CLS]'] + tokenized_text + ['[SEP]']\n",
        "\n",
        "    # Pad the sequences to the specified max sequence length using your pad_sequences function\n",
        "    paded_text = pad_sequences(tokenized_text, max_seq_length)\n",
        "\n",
        "    # Convert the tokenized subject, object, and text to input IDs\n",
        "    input_ids_text = tokenizer.convert_tokens_to_ids(paded_text)\n",
        "\n",
        "\n",
        "    # Append the input IDs to the inputs lists\n",
        "    inputs_text.append(input_ids_text)\n",
        "\n",
        "    # Label the relevant entities and their relationships\n",
        "    relation_label = data_point[4]\n",
        "\n",
        "    # Create a label string with relation label\n",
        "    label = relation_label\n",
        "\n",
        "    # Add the label to the labels list\n",
        "    labels.append(label)\n"
      ]
    },
    {
      "cell_type": "code",
      "execution_count": 32,
      "metadata": {
        "colab": {
          "base_uri": "https://localhost:8080/"
        },
        "id": "nUp30AKzwwvU",
        "outputId": "26e5bd95-a18e-4bf8-e0ae-0ec06e25366b"
      },
      "outputs": [
        {
          "name": "stdout",
          "output_type": "stream",
          "text": [
            "sub: Patrick H. O'Farrell,\n",
            "obj: Bachelor of Science,\n",
            "text: [E1]Patrick H. O'Farrell[/E1] received his ((NAM: [E2]Bachelor of Science[/E2]). in 1969 from McGill University in Montreal, Quebec. He then went on to graduate school at the University of Colorado, Boulder, where he worked with Jacques Pène. To optimize the resolution of the Electrophoresis of the proteins, he needed to separate the proteins according to independent parameters. Two parameters were used:,\n",
            "label: 4,\n",
            "class: /people/person/education./education/education/degree \n",
            "\n",
            "label: 4,\n",
            "inputs_text: [101, 1031, 1041, 2487, 1033, 4754, 1044, 1012, 1051, 1005, 16248, 1031, 1013, 1041, 2487, 1033, 2363, 2010, 1006, 1006, 15125, 1024, 1031, 1041, 2475, 1033, 5065, 1997, 2671, 1031, 1013, 1041, 2475, 1033, 1007, 1012, 1999, 3440, 2013, 17919, 2118, 1999, 5548, 1010, 5447, 1012, 2002, 2059, 2253, 2006, 2000, 4619, 2082, 2012, 1996, 2118, 1997, 5169, 1010, 13264, 1010, 2073, 2002, 2499, 2007, 7445, 7279, 2063, 1012, 2000, 23569, 27605, 4371, 1996, 5813, 1997, 1996, 16175, 8458, 16610, 2483, 1997, 1996, 8171, 1010, 2002, 2734, 2000, 3584, 1996, 8171, 2429, 2000, 2981, 11709, 1012, 2048, 11709, 2020, 2109, 1024, 102, 0, 0, 0, 0, 0, 0, 0, 0, 0, 0, 0, 0, 0, 0, 0, 0, 0, 0, 0, 0, 0, 0, 0, 0, 0, 0]\n",
            "128\n"
          ]
        }
      ],
      "source": [
        "print(f\"sub: {text_list[0][0]},\\nobj: {text_list[0][1]},\\ntext: {text_list[0][3]},\\nlabel: {text_list[0][4]},\\nclass: {text_list[0][2]} \")\n",
        "print(f\"\\nlabel: {labels[0]},\\ninputs_text: {inputs_text[0]}\")\n",
        "print(len(inputs_text[0]))\n"
      ]
    },
    {
      "cell_type": "code",
      "execution_count": 33,
      "metadata": {
        "id": "e_vlcpMAAZbm"
      },
      "outputs": [],
      "source": [
        "from sklearn.model_selection import train_test_split\n",
        "\n",
        "# Split the data into training, validation, and test sets\n",
        "train_input, val_input, train_labels, val_labels = train_test_split(inputs_text, labels, test_size=0.3,stratify= labels ,random_state=42)\n",
        "\n",
        "# Further split the validation set into validation and test sets\n",
        "val_input, test_input, val_labels, test_labels = train_test_split(val_input, val_labels, test_size=0.5, random_state=42)\n"
      ]
    },
    {
      "cell_type": "code",
      "execution_count": 34,
      "metadata": {
        "id": "J4Ph4VaPk1D-"
      },
      "outputs": [],
      "source": [
        "train_input_tns = torch.tensor(train_input)\n",
        "train_labels_tns = torch.tensor(train_labels)\n",
        "\n",
        "val_input_tns = torch.tensor(val_input)\n",
        "val_labels_tns = torch.tensor(val_labels)\n",
        "\n",
        "test_input_tns = torch.tensor(test_input)\n",
        "test_labels_tns = torch.tensor(test_labels)"
      ]
    },
    {
      "cell_type": "code",
      "execution_count": 35,
      "metadata": {
        "id": "5dyh2iSanEVW"
      },
      "outputs": [],
      "source": [
        "# Create a TensorDataset from the input tensors and labels\n",
        "train_dataset = TensorDataset(train_input_tns, train_labels_tns)\n",
        "\n",
        "val_dataset = TensorDataset(val_input_tns, val_labels_tns)\n",
        "\n",
        "test_dataset = TensorDataset(test_input_tns, test_labels_tns)\n",
        "\n",
        "# Define batch size and create DataLoader instances\n",
        "batch_size = 64\n",
        "train_dataloader = DataLoader(train_dataset, batch_size=batch_size, shuffle=False)\n",
        "val_dataloader = DataLoader(val_dataset, batch_size=batch_size)\n",
        "test_dataloader = DataLoader(test_dataset, batch_size=batch_size, shuffle=False)\n"
      ]
    },
    {
      "cell_type": "code",
      "execution_count": 36,
      "metadata": {
        "colab": {
          "base_uri": "https://localhost:8080/",
          "height": 104,
          "referenced_widgets": [
            "51b0164ddbc34fc9b83e6f75ee410bac",
            "979a5412eb1849e6b443ffa112f43837",
            "7fba8de4e9234d6b946b2731fcbabcf3",
            "e8eb90254d6d4884b27112c464417074",
            "19776ec4e4f54a838a761728b65b9b0f",
            "8833009e6b754d33a609bd38f71ae137",
            "3f8b043cca4c459aa96d64660a7b4adf",
            "895d111e64fd40f7a87af42420759bdb",
            "dc5cd8e82d464a17bc6b9124a64c224b",
            "5419ef8e3fc74e06a79fa5b85f5cd3e5",
            "735e9ea25a4149f78b60f84230b7682e"
          ]
        },
        "id": "huWSUrmWZTH3",
        "outputId": "551f5afa-22ac-4af3-a99b-569caef01de7"
      },
      "outputs": [
        {
          "data": {
            "application/vnd.jupyter.widget-view+json": {
              "model_id": "51b0164ddbc34fc9b83e6f75ee410bac",
              "version_major": 2,
              "version_minor": 0
            },
            "text/plain": [
              "model.safetensors:   0%|          | 0.00/440M [00:00<?, ?B/s]"
            ]
          },
          "metadata": {},
          "output_type": "display_data"
        },
        {
          "name": "stderr",
          "output_type": "stream",
          "text": [
            "Some weights of BertForSequenceClassification were not initialized from the model checkpoint at bert-base-uncased and are newly initialized: ['classifier.bias', 'classifier.weight']\n",
            "You should probably TRAIN this model on a down-stream task to be able to use it for predictions and inference.\n"
          ]
        }
      ],
      "source": [
        "\n",
        "# Step 3: Define the BERT model architecture\n",
        "# Load pre-trained BERT model and add a classification layer on top\n",
        "model_bert = BertForSequenceClassification.from_pretrained('bert-base-uncased', num_labels=5)\n",
        "\n",
        "# Optional: Freeze BERT layers if desired\n",
        "for param in model_bert.bert.parameters():\n",
        "    param.requires_grad = False\n",
        "\n",
        "# Move the model to GPU if available\n",
        "device = torch.device(\"cuda\" if torch.cuda.is_available() else \"cpu\")\n",
        "model_bert.to(device)\n",
        "\n",
        "# Wrap the model with DataParallel\n",
        "if torch.cuda.device_count() > 1:\n",
        "    model = torch.nn.DataParallel(model_bert)\n",
        "\n",
        "# print(model_bert)"
      ]
    },
    {
      "cell_type": "code",
      "execution_count": 37,
      "metadata": {
        "id": "1Y5YrzEPtGnr"
      },
      "outputs": [],
      "source": [
        "\n",
        "# Define the Focal Loss\n",
        "class FocalLoss(nn.Module):\n",
        "    def __init__(self, alpha=1, gamma=2, reduction='mean'):\n",
        "        super(FocalLoss, self).__init__()\n",
        "        self.alpha = alpha\n",
        "        self.gamma = gamma\n",
        "        self.reduction = reduction\n",
        "\n",
        "    def forward(self, inputs, targets):\n",
        "        ce_loss = nn.CrossEntropyLoss(reduction='none')(inputs, targets)\n",
        "        pt = torch.exp(-ce_loss)\n",
        "        focal_loss = (self.alpha * (1 - pt) ** self.gamma) * ce_loss\n",
        "\n",
        "        if self.reduction == 'mean':\n",
        "            return focal_loss.mean()\n",
        "        elif self.reduction == 'sum':\n",
        "            return focal_loss.sum()\n",
        "        else:\n",
        "            return focal_loss\n",
        "\n",
        "alpha = 1.0\n",
        "gamma = 2.5  # You can experiment with different gamma values\n",
        "focal_loss_fn = FocalLoss(alpha=alpha, gamma=gamma)"
      ]
    },
    {
      "cell_type": "code",
      "execution_count": 38,
      "metadata": {
        "colab": {
          "base_uri": "https://localhost:8080/"
        },
        "id": "VzLVnSQTDeJL",
        "outputId": "08b17434-a851-48ee-a628-6bea7cb165ce"
      },
      "outputs": [
        {
          "name": "stderr",
          "output_type": "stream",
          "text": [
            "/usr/local/lib/python3.10/dist-packages/transformers/optimization.py:429: FutureWarning: This implementation of AdamW is deprecated and will be removed in a future version. Use the PyTorch implementation torch.optim.AdamW instead, or set `no_deprecation_warning=True` to disable this warning\n",
            "  warnings.warn(\n",
            "We strongly recommend passing in an `attention_mask` since your input_ids may be padded. See https://huggingface.co/docs/transformers/troubleshooting#incorrect-output-when-padding-tokens-arent-masked.\n"
          ]
        },
        {
          "name": "stdout",
          "output_type": "stream",
          "text": [
            "Epoch 0/100, Train_Loss: 0.9180, Val_Loss: 0.8873\n",
            "Epoch 5/100, Train_Loss: 0.8818, Val_Loss: 0.8418\n",
            "Epoch 10/100, Train_Loss: 0.8617, Val_Loss: 0.8171\n",
            "Epoch 15/100, Train_Loss: 0.8461, Val_Loss: 0.7991\n",
            "Epoch 20/100, Train_Loss: 0.8393, Val_Loss: 0.7850\n",
            "Epoch 25/100, Train_Loss: 0.8233, Val_Loss: 0.7725\n",
            "Epoch 30/100, Train_Loss: 0.8157, Val_Loss: 0.7624\n",
            "Epoch 35/100, Train_Loss: 0.8151, Val_Loss: 0.7547\n",
            "Epoch 40/100, Train_Loss: 0.8044, Val_Loss: 0.7458\n",
            "Epoch 45/100, Train_Loss: 0.7963, Val_Loss: 0.7393\n",
            "Epoch 50/100, Train_Loss: 0.7927, Val_Loss: 0.7332\n",
            "Epoch 55/100, Train_Loss: 0.7827, Val_Loss: 0.7258\n",
            "Epoch 60/100, Train_Loss: 0.7822, Val_Loss: 0.7195\n",
            "Epoch 65/100, Train_Loss: 0.7726, Val_Loss: 0.7133\n",
            "Epoch 70/100, Train_Loss: 0.7670, Val_Loss: 0.7073\n",
            "Epoch 75/100, Train_Loss: 0.7645, Val_Loss: 0.7027\n",
            "Epoch 80/100, Train_Loss: 0.7601, Val_Loss: 0.6978\n",
            "Epoch 85/100, Train_Loss: 0.7606, Val_Loss: 0.6923\n",
            "Epoch 90/100, Train_Loss: 0.7525, Val_Loss: 0.6880\n",
            "Epoch 95/100, Train_Loss: 0.7490, Val_Loss: 0.6838\n"
          ]
        }
      ],
      "source": [
        "# Step 5: Fine-tune the BERT model\n",
        "# from transformers import BertAdamW\n",
        "\n",
        "# loss function\n",
        "loss_fn = torch.nn.CrossEntropyLoss()\n",
        "# Define the optimizer and learning rate\n",
        "optimizer = AdamW(model_bert.parameters(), lr=2e-5)\n",
        "\n",
        "# Number of training epochs\n",
        "num_epochs = 100\n",
        "\n",
        "# Define the learning rate scheduler\n",
        "# scheduler = torch.optim.lr_scheduler.StepLR(optimizer, step_size=1, gamma=0.1)\n",
        "\n",
        "# Create a GradScaler object for mixed precision training\n",
        "scaler = GradScaler()\n",
        "\n",
        "# Create an array to save train loss (will be used in the plot)\n",
        "train_loss_array = []\n",
        "\n",
        "# Training loop\n",
        "for epoch in range(num_epochs):\n",
        "    model_bert.train()\n",
        "    total_loss = 0\n",
        "    accumulated_loss = 0\n",
        "    average_accumulated_loss = 0\n",
        "\n",
        "    for step, batch in enumerate(train_dataloader):\n",
        "        inputs_text, labels = batch\n",
        "        inputs_text, labels = inputs_text.to(device), labels.to(device)\n",
        "\n",
        "        optimizer.zero_grad()\n",
        "\n",
        "        with autocast():\n",
        "            outputs = model_bert(inputs_text, labels= labels)\n",
        "            logits = outputs.logits\n",
        "\n",
        "            # Use the Focal Loss function here\n",
        "            loss = focal_loss_fn(logits, labels)\n",
        "\n",
        "        scaler.scale(loss).backward()\n",
        "        scaler.step(optimizer)\n",
        "        scaler.update()\n",
        "\n",
        "        total_loss += loss.item()\n",
        "\n",
        "    # Calculate average training loss for the epoch\n",
        "    avg_train_loss = total_loss / len(train_dataloader)\n",
        "\n",
        "    # Validation loop\n",
        "    model_bert.eval()\n",
        "    val_loss = 0\n",
        "    num_val_steps = 0\n",
        "\n",
        "    with torch.no_grad():\n",
        "        for batch in val_dataloader:\n",
        "            inputs_text,  labels = batch\n",
        "            inputs_text, labels = inputs_text.to(device), labels.to(device)\n",
        "\n",
        "            outputs = model_bert(inputs_text)\n",
        "            logits = outputs.logits\n",
        "\n",
        "            loss = focal_loss_fn(logits, labels)\n",
        "            val_loss += loss.item()\n",
        "            num_val_steps += 1\n",
        "\n",
        "    avg_val_loss = val_loss / num_val_steps\n",
        "\n",
        "    # Perform learning rate scheduling\n",
        "    # scheduler.step()\n",
        "    if epoch % 5 ==0:\n",
        "      print(f\"Epoch {epoch}/{num_epochs}, Train_Loss: {avg_train_loss:.4f}, Val_Loss: {avg_val_loss:.4f}\")\n",
        "\n",
        "    train_loss_array.append(avg_train_loss)\n"
      ]
    },
    {
      "cell_type": "code",
      "execution_count": 40,
      "metadata": {
        "colab": {
          "base_uri": "https://localhost:8080/",
          "height": 472
        },
        "id": "gq7kCmkwEOP6",
        "outputId": "fe70adf8-0de3-41a4-fc5f-afae44ee50c7"
      },
      "outputs": [
        {
          "data": {
            "image/png": "[encoded data removed]",
            "text/plain": [
              "<Figure size 640x480 with 1 Axes>"
            ]
          },
          "metadata": {},
          "output_type": "display_data"
        }
      ],
      "source": [
        "train_loss_np =[]\n",
        "for t in train_loss_array:\n",
        "  train_loss_np.append(t.item())\n",
        "\n",
        "# Create the plot\n",
        "plt.plot(train_loss_array)\n",
        "# Adding a title\n",
        "plt.title('Training Loss Over Time')\n",
        "\n",
        "# Adding labels for the x and y axes\n",
        "plt.xlabel('Epoch Number')\n",
        "plt.ylabel('Train Loss')\n",
        "\n",
        "plt.show()\n"
      ]
    },
    {
      "cell_type": "code",
      "execution_count": 41,
      "metadata": {
        "id": "-MncarjXixLf"
      },
      "outputs": [],
      "source": [
        "def compute_accuracy(predictions, labels):\n",
        "    predicted_labels = torch.argmax(predictions, dim=1)\n",
        "    correct_predictions = torch.eq(predicted_labels, labels).sum().item()\n",
        "    accuracy = correct_predictions / len(labels)\n",
        "    return accuracy\n",
        "\n"
      ]
    },
    {
      "cell_type": "code",
      "execution_count": 42,
      "metadata": {
        "colab": {
          "base_uri": "https://localhost:8080/"
        },
        "id": "e853c665",
        "outputId": "00ce580b-0b1a-4e08-ea19-8e688f8c3051"
      },
      "outputs": [
        {
          "name": "stdout",
          "output_type": "stream",
          "text": [
            "Validation Accuracy: 0.5180\n"
          ]
        }
      ],
      "source": [
        "# step 6: evaluate the model by computing  accuracy, precision, recall, and F1-score\n",
        "# Evaluation loop\n",
        "model_bert.eval()\n",
        "val_accuracy = 0\n",
        "num_val_steps = 0\n",
        "\n",
        "with torch.no_grad():\n",
        "    for batch in val_dataloader:\n",
        "        inputs_text, labels = batch\n",
        "        inputs_text, labels = inputs_text.to(device), labels.to(device)\n",
        "\n",
        "        outputs = model_bert(inputs_text)\n",
        "        val_accuracy += compute_accuracy(outputs.logits, labels)\n",
        "        num_val_steps += 1\n",
        "\n",
        "avg_val_accuracy = val_accuracy / num_val_steps\n",
        "\n",
        "print(f\"Validation Accuracy: {avg_val_accuracy:.4f}\")\n"
      ]
    },
    {
      "cell_type": "code",
      "execution_count": 43,
      "metadata": {
        "id": "lo1bd4rJgFqG"
      },
      "outputs": [],
      "source": [
        "from sklearn.metrics import precision_score, recall_score, f1_score\n",
        "\n",
        "# Evaluation loop\n",
        "model_bert.eval()\n",
        "predictions = []\n",
        "true_labels = []\n",
        "\n",
        "with torch.no_grad():\n",
        "    for batch in test_dataloader:\n",
        "        inputs_text, labels = batch\n",
        "        inputs_text, labels = inputs_text.to(device), labels.to(device)\n",
        "\n",
        "        outputs = model_bert(inputs_text)\n",
        "        predicted_labels = torch.argmax(outputs.logits, dim=1)\n",
        "\n",
        "        predictions.extend(predicted_labels.tolist())\n",
        "        true_labels.extend(labels.tolist())\n"
      ]
    },
    {
      "cell_type": "code",
      "execution_count": 44,
      "metadata": {
        "colab": {
          "base_uri": "https://localhost:8080/"
        },
        "id": "ogl0i5UBjRB9",
        "outputId": "dcfca526-e539-4dae-aa8d-7aada70a0f15"
      },
      "outputs": [
        {
          "name": "stdout",
          "output_type": "stream",
          "text": [
            "              precision    recall  f1-score   support\n",
            "\n",
            "           0       0.47      0.28      0.35       368\n",
            "           1       0.75      0.58      0.66       318\n",
            "           2       0.35      0.22      0.27       307\n",
            "           3       0.37      0.52      0.43       347\n",
            "           4       0.44      0.72      0.55       310\n",
            "\n",
            "    accuracy                           0.46      1650\n",
            "   macro avg       0.48      0.47      0.45      1650\n",
            "weighted avg       0.48      0.46      0.45      1650\n",
            "\n"
          ]
        }
      ],
      "source": [
        "from sklearn.metrics import classification_report\n",
        "\n",
        "# Print classification report\n",
        "print(classification_report(true_labels, predictions))\n"
      ]
    },
    {
      "cell_type": "code",
      "execution_count": 49,
      "metadata": {
        "colab": {
          "base_uri": "https://localhost:8080/",
          "height": 578
        },
        "id": "9szEF_-iUl79",
        "outputId": "1c2b29dc-2e0f-4c3f-e179-9b82b732a396"
      },
      "outputs": [
        {
          "data": {
            "image/png": "[encoded data removed]",
            "text/plain": [
              "<Figure size 500x500 with 2 Axes>"
            ]
          },
          "metadata": {},
          "output_type": "display_data"
        }
      ],
      "source": [
        "from sklearn.metrics import confusion_matrix\n",
        "import seaborn as sns\n",
        "import matplotlib.pyplot as plt\n",
        "\n",
        "# Generate confusion matrix\n",
        "conf_matrix = confusion_matrix(true_labels, predictions)\n",
        "\n",
        "# Display the confusion matrix using a heatmap\n",
        "plt.figure(figsize=(5, 5))\n",
        "sns.heatmap(conf_matrix, annot=True, fmt=\"d\", cmap=\"Blues\", xticklabels=['institution', 'place_of_death', 'place_of_birth', 'date_of_birth', 'degree'], yticklabels=['institution', 'place_of_death', 'place_of_birth', 'date_of_birth', 'degree'])\n",
        "plt.title(\"Confusion Matrix\")\n",
        "plt.xlabel(\"Predicted Label\")\n",
        "plt.ylabel(\"True Label\")\n",
        "plt.show()"
      ]
    }
  ],
  "metadata": {
    "colab": {
      "provenance": []
    },
    "kernelspec": {
      "display_name": "Python 3",
      "name": "python3"
    },
    "language_info": {
      "name": "python"
    },
    "widgets": {
      "application/vnd.jupyter.widget-state+json": {
        "0314a8de118142f28b231ff4e4ebad06": {
          "model_module": "@jupyter-widgets/controls",
          "model_module_version": "1.5.0",
          "model_name": "HTMLModel",
          "state": {
            "_dom_classes": [],
            "_model_module": "@jupyter-widgets/controls",
            "_model_module_version": "1.5.0",
            "_model_name": "HTMLModel",
            "_view_count": null,
            "_view_module": "@jupyter-widgets/controls",
            "_view_module_version": "1.5.0",
            "_view_name": "HTMLView",
            "description": "",
            "description_tooltip": null,
            "layout": "IPY_MODEL_d5502b92aa2f4b31a9e4b9fef92ab5e5",
            "placeholder": "​",
            "style": "IPY_MODEL_6c49ca9d93a34dae999bcfc1fef2e355",
            "value": " 48.0/48.0 [00:00&lt;00:00, 2.80kB/s]"
          }
        },
        "068cba8ec4b04513a0e50a80ba5b7424": {
          "model_module": "@jupyter-widgets/controls",
          "model_module_version": "1.5.0",
          "model_name": "DescriptionStyleModel",
          "state": {
            "_model_module": "@jupyter-widgets/controls",
            "_model_module_version": "1.5.0",
            "_model_name": "DescriptionStyleModel",
            "_view_count": null,
            "_view_module": "@jupyter-widgets/base",
            "_view_module_version": "1.2.0",
            "_view_name": "StyleView",
            "description_width": ""
          }
        },
        "0f22872c4a5c41a0b544eecf9ea3ee5e": {
          "model_module": "@jupyter-widgets/controls",
          "model_module_version": "1.5.0",
          "model_name": "FloatProgressModel",
          "state": {
            "_dom_classes": [],
            "_model_module": "@jupyter-widgets/controls",
            "_model_module_version": "1.5.0",
            "_model_name": "FloatProgressModel",
            "_view_count": null,
            "_view_module": "@jupyter-widgets/controls",
            "_view_module_version": "1.5.0",
            "_view_name": "ProgressView",
            "bar_style": "success",
            "description": "",
            "description_tooltip": null,
            "layout": "IPY_MODEL_176c109816644a788b696760d5606db8",
            "max": 231508,
            "min": 0,
            "orientation": "horizontal",
            "style": "IPY_MODEL_c21f9b4f4b6f4484ad8a01569eb5c1d2",
            "value": 231508
          }
        },
        "0f7ef6f4f14749d5be8d15042ffd029e": {
          "model_module": "@jupyter-widgets/base",
          "model_module_version": "1.2.0",
          "model_name": "LayoutModel",
          "state": {
            "_model_module": "@jupyter-widgets/base",
            "_model_module_version": "1.2.0",
            "_model_name": "LayoutModel",
            "_view_count": null,
            "_view_module": "@jupyter-widgets/base",
            "_view_module_version": "1.2.0",
            "_view_name": "LayoutView",
            "align_content": null,
            "align_items": null,
            "align_self": null,
            "border": null,
            "bottom": null,
            "display": null,
            "flex": null,
            "flex_flow": null,
            "grid_area": null,
            "grid_auto_columns": null,
            "grid_auto_flow": null,
            "grid_auto_rows": null,
            "grid_column": null,
            "grid_gap": null,
            "grid_row": null,
            "grid_template_areas": null,
            "grid_template_columns": null,
            "grid_template_rows": null,
            "height": null,
            "justify_content": null,
            "justify_items": null,
            "left": null,
            "margin": null,
            "max_height": null,
            "max_width": null,
            "min_height": null,
            "min_width": null,
            "object_fit": null,
            "object_position": null,
            "order": null,
            "overflow": null,
            "overflow_x": null,
            "overflow_y": null,
            "padding": null,
            "right": null,
            "top": null,
            "visibility": null,
            "width": null
          }
        },
        "1103bb61089f447497359f3d4fb118d3": {
          "model_module": "@jupyter-widgets/controls",
          "model_module_version": "1.5.0",
          "model_name": "FloatProgressModel",
          "state": {
            "_dom_classes": [],
            "_model_module": "@jupyter-widgets/controls",
            "_model_module_version": "1.5.0",
            "_model_name": "FloatProgressModel",
            "_view_count": null,
            "_view_module": "@jupyter-widgets/controls",
            "_view_module_version": "1.5.0",
            "_view_name": "ProgressView",
            "bar_style": "success",
            "description": "",
            "description_tooltip": null,
            "layout": "IPY_MODEL_0f7ef6f4f14749d5be8d15042ffd029e",
            "max": 48,
            "min": 0,
            "orientation": "horizontal",
            "style": "IPY_MODEL_e8ac460fe52b483cafd6fd56a3e4c1f2",
            "value": 48
          }
        },
        "15f1577407354739a1c52e2e82d838b7": {
          "model_module": "@jupyter-widgets/base",
          "model_module_version": "1.2.0",
          "model_name": "LayoutModel",
          "state": {
            "_model_module": "@jupyter-widgets/base",
            "_model_module_version": "1.2.0",
            "_model_name": "LayoutModel",
            "_view_count": null,
            "_view_module": "@jupyter-widgets/base",
            "_view_module_version": "1.2.0",
            "_view_name": "LayoutView",
            "align_content": null,
            "align_items": null,
            "align_self": null,
            "border": null,
            "bottom": null,
            "display": null,
            "flex": null,
            "flex_flow": null,
            "grid_area": null,
            "grid_auto_columns": null,
            "grid_auto_flow": null,
            "grid_auto_rows": null,
            "grid_column": null,
            "grid_gap": null,
            "grid_row": null,
            "grid_template_areas": null,
            "grid_template_columns": null,
            "grid_template_rows": null,
            "height": null,
            "justify_content": null,
            "justify_items": null,
            "left": null,
            "margin": null,
            "max_height": null,
            "max_width": null,
            "min_height": null,
            "min_width": null,
            "object_fit": null,
            "object_position": null,
            "order": null,
            "overflow": null,
            "overflow_x": null,
            "overflow_y": null,
            "padding": null,
            "right": null,
            "top": null,
            "visibility": null,
            "width": null
          }
        },
        "176c109816644a788b696760d5606db8": {
          "model_module": "@jupyter-widgets/base",
          "model_module_version": "1.2.0",
          "model_name": "LayoutModel",
          "state": {
            "_model_module": "@jupyter-widgets/base",
            "_model_module_version": "1.2.0",
            "_model_name": "LayoutModel",
            "_view_count": null,
            "_view_module": "@jupyter-widgets/base",
            "_view_module_version": "1.2.0",
            "_view_name": "LayoutView",
            "align_content": null,
            "align_items": null,
            "align_self": null,
            "border": null,
            "bottom": null,
            "display": null,
            "flex": null,
            "flex_flow": null,
            "grid_area": null,
            "grid_auto_columns": null,
            "grid_auto_flow": null,
            "grid_auto_rows": null,
            "grid_column": null,
            "grid_gap": null,
            "grid_row": null,
            "grid_template_areas": null,
            "grid_template_columns": null,
            "grid_template_rows": null,
            "height": null,
            "justify_content": null,
            "justify_items": null,
            "left": null,
            "margin": null,
            "max_height": null,
            "max_width": null,
            "min_height": null,
            "min_width": null,
            "object_fit": null,
            "object_position": null,
            "order": null,
            "overflow": null,
            "overflow_x": null,
            "overflow_y": null,
            "padding": null,
            "right": null,
            "top": null,
            "visibility": null,
            "width": null
          }
        },
        "19776ec4e4f54a838a761728b65b9b0f": {
          "model_module": "@jupyter-widgets/base",
          "model_module_version": "1.2.0",
          "model_name": "LayoutModel",
          "state": {
            "_model_module": "@jupyter-widgets/base",
            "_model_module_version": "1.2.0",
            "_model_name": "LayoutModel",
            "_view_count": null,
            "_view_module": "@jupyter-widgets/base",
            "_view_module_version": "1.2.0",
            "_view_name": "LayoutView",
            "align_content": null,
            "align_items": null,
            "align_self": null,
            "border": null,
            "bottom": null,
            "display": null,
            "flex": null,
            "flex_flow": null,
            "grid_area": null,
            "grid_auto_columns": null,
            "grid_auto_flow": null,
            "grid_auto_rows": null,
            "grid_column": null,
            "grid_gap": null,
            "grid_row": null,
            "grid_template_areas": null,
            "grid_template_columns": null,
            "grid_template_rows": null,
            "height": null,
            "justify_content": null,
            "justify_items": null,
            "left": null,
            "margin": null,
            "max_height": null,
            "max_width": null,
            "min_height": null,
            "min_width": null,
            "object_fit": null,
            "object_position": null,
            "order": null,
            "overflow": null,
            "overflow_x": null,
            "overflow_y": null,
            "padding": null,
            "right": null,
            "top": null,
            "visibility": null,
            "width": null
          }
        },
        "1a947884ca204b4188b45c45c84e7f99": {
          "model_module": "@jupyter-widgets/controls",
          "model_module_version": "1.5.0",
          "model_name": "DescriptionStyleModel",
          "state": {
            "_model_module": "@jupyter-widgets/controls",
            "_model_module_version": "1.5.0",
            "_model_name": "DescriptionStyleModel",
            "_view_count": null,
            "_view_module": "@jupyter-widgets/base",
            "_view_module_version": "1.2.0",
            "_view_name": "StyleView",
            "description_width": ""
          }
        },
        "1d6ec42ebf55401d87ef279a9ab91d30": {
          "model_module": "@jupyter-widgets/base",
          "model_module_version": "1.2.0",
          "model_name": "LayoutModel",
          "state": {
            "_model_module": "@jupyter-widgets/base",
            "_model_module_version": "1.2.0",
            "_model_name": "LayoutModel",
            "_view_count": null,
            "_view_module": "@jupyter-widgets/base",
            "_view_module_version": "1.2.0",
            "_view_name": "LayoutView",
            "align_content": null,
            "align_items": null,
            "align_self": null,
            "border": null,
            "bottom": null,
            "display": null,
            "flex": null,
            "flex_flow": null,
            "grid_area": null,
            "grid_auto_columns": null,
            "grid_auto_flow": null,
            "grid_auto_rows": null,
            "grid_column": null,
            "grid_gap": null,
            "grid_row": null,
            "grid_template_areas": null,
            "grid_template_columns": null,
            "grid_template_rows": null,
            "height": null,
            "justify_content": null,
            "justify_items": null,
            "left": null,
            "margin": null,
            "max_height": null,
            "max_width": null,
            "min_height": null,
            "min_width": null,
            "object_fit": null,
            "object_position": null,
            "order": null,
            "overflow": null,
            "overflow_x": null,
            "overflow_y": null,
            "padding": null,
            "right": null,
            "top": null,
            "visibility": null,
            "width": null
          }
        },
        "1f9a6d2f023e41288547a1566fa63d58": {
          "model_module": "@jupyter-widgets/controls",
          "model_module_version": "1.5.0",
          "model_name": "HTMLModel",
          "state": {
            "_dom_classes": [],
            "_model_module": "@jupyter-widgets/controls",
            "_model_module_version": "1.5.0",
            "_model_name": "HTMLModel",
            "_view_count": null,
            "_view_module": "@jupyter-widgets/controls",
            "_view_module_version": "1.5.0",
            "_view_name": "HTMLView",
            "description": "",
            "description_tooltip": null,
            "layout": "IPY_MODEL_6c8974c266ab41af9cbf91150dad384c",
            "placeholder": "​",
            "style": "IPY_MODEL_4f5afcb9067a48f0862879cab3bb3edc",
            "value": "tokenizer_config.json: 100%"
          }
        },
        "23db4a48ee6e4005a60b6aee2f4c45ff": {
          "model_module": "@jupyter-widgets/controls",
          "model_module_version": "1.5.0",
          "model_name": "HBoxModel",
          "state": {
            "_dom_classes": [],
            "_model_module": "@jupyter-widgets/controls",
            "_model_module_version": "1.5.0",
            "_model_name": "HBoxModel",
            "_view_count": null,
            "_view_module": "@jupyter-widgets/controls",
            "_view_module_version": "1.5.0",
            "_view_name": "HBoxView",
            "box_style": "",
            "children": [
              "IPY_MODEL_c1b64e30376442f19ad8d57194874aac",
              "IPY_MODEL_a389278be9b246319865efed2cf6c9db",
              "IPY_MODEL_5b006c110c8d4c6fb4f80911739e9279"
            ],
            "layout": "IPY_MODEL_478bf8357c09482cb4238bc508535f21"
          }
        },
        "320c6079db5e44a69dcb2d3ece021f00": {
          "model_module": "@jupyter-widgets/controls",
          "model_module_version": "1.5.0",
          "model_name": "HTMLModel",
          "state": {
            "_dom_classes": [],
            "_model_module": "@jupyter-widgets/controls",
            "_model_module_version": "1.5.0",
            "_model_name": "HTMLModel",
            "_view_count": null,
            "_view_module": "@jupyter-widgets/controls",
            "_view_module_version": "1.5.0",
            "_view_name": "HTMLView",
            "description": "",
            "description_tooltip": null,
            "layout": "IPY_MODEL_ae12acd9a1064c90a9fb0b26919c993b",
            "placeholder": "​",
            "style": "IPY_MODEL_62aa0b49a70b4cbcb2e393268d234014",
            "value": "config.json: 100%"
          }
        },
        "32406e715b8e41e6ada5cb9c32858f02": {
          "model_module": "@jupyter-widgets/controls",
          "model_module_version": "1.5.0",
          "model_name": "HTMLModel",
          "state": {
            "_dom_classes": [],
            "_model_module": "@jupyter-widgets/controls",
            "_model_module_version": "1.5.0",
            "_model_name": "HTMLModel",
            "_view_count": null,
            "_view_module": "@jupyter-widgets/controls",
            "_view_module_version": "1.5.0",
            "_view_name": "HTMLView",
            "description": "",
            "description_tooltip": null,
            "layout": "IPY_MODEL_83f7a20077b64097800d75bf785f4e3e",
            "placeholder": "​",
            "style": "IPY_MODEL_1a947884ca204b4188b45c45c84e7f99",
            "value": "vocab.txt: 100%"
          }
        },
        "3b282a9beca14f038da56b3506afbd8f": {
          "model_module": "@jupyter-widgets/base",
          "model_module_version": "1.2.0",
          "model_name": "LayoutModel",
          "state": {
            "_model_module": "@jupyter-widgets/base",
            "_model_module_version": "1.2.0",
            "_model_name": "LayoutModel",
            "_view_count": null,
            "_view_module": "@jupyter-widgets/base",
            "_view_module_version": "1.2.0",
            "_view_name": "LayoutView",
            "align_content": null,
            "align_items": null,
            "align_self": null,
            "border": null,
            "bottom": null,
            "display": null,
            "flex": null,
            "flex_flow": null,
            "grid_area": null,
            "grid_auto_columns": null,
            "grid_auto_flow": null,
            "grid_auto_rows": null,
            "grid_column": null,
            "grid_gap": null,
            "grid_row": null,
            "grid_template_areas": null,
            "grid_template_columns": null,
            "grid_template_rows": null,
            "height": null,
            "justify_content": null,
            "justify_items": null,
            "left": null,
            "margin": null,
            "max_height": null,
            "max_width": null,
            "min_height": null,
            "min_width": null,
            "object_fit": null,
            "object_position": null,
            "order": null,
            "overflow": null,
            "overflow_x": null,
            "overflow_y": null,
            "padding": null,
            "right": null,
            "top": null,
            "visibility": null,
            "width": null
          }
        },
        "3f8b043cca4c459aa96d64660a7b4adf": {
          "model_module": "@jupyter-widgets/controls",
          "model_module_version": "1.5.0",
          "model_name": "DescriptionStyleModel",
          "state": {
            "_model_module": "@jupyter-widgets/controls",
            "_model_module_version": "1.5.0",
            "_model_name": "DescriptionStyleModel",
            "_view_count": null,
            "_view_module": "@jupyter-widgets/base",
            "_view_module_version": "1.2.0",
            "_view_name": "StyleView",
            "description_width": ""
          }
        },
        "478bf8357c09482cb4238bc508535f21": {
          "model_module": "@jupyter-widgets/base",
          "model_module_version": "1.2.0",
          "model_name": "LayoutModel",
          "state": {
            "_model_module": "@jupyter-widgets/base",
            "_model_module_version": "1.2.0",
            "_model_name": "LayoutModel",
            "_view_count": null,
            "_view_module": "@jupyter-widgets/base",
            "_view_module_version": "1.2.0",
            "_view_name": "LayoutView",
            "align_content": null,
            "align_items": null,
            "align_self": null,
            "border": null,
            "bottom": null,
            "display": null,
            "flex": null,
            "flex_flow": null,
            "grid_area": null,
            "grid_auto_columns": null,
            "grid_auto_flow": null,
            "grid_auto_rows": null,
            "grid_column": null,
            "grid_gap": null,
            "grid_row": null,
            "grid_template_areas": null,
            "grid_template_columns": null,
            "grid_template_rows": null,
            "height": null,
            "justify_content": null,
            "justify_items": null,
            "left": null,
            "margin": null,
            "max_height": null,
            "max_width": null,
            "min_height": null,
            "min_width": null,
            "object_fit": null,
            "object_position": null,
            "order": null,
            "overflow": null,
            "overflow_x": null,
            "overflow_y": null,
            "padding": null,
            "right": null,
            "top": null,
            "visibility": null,
            "width": null
          }
        },
        "4f5afcb9067a48f0862879cab3bb3edc": {
          "model_module": "@jupyter-widgets/controls",
          "model_module_version": "1.5.0",
          "model_name": "DescriptionStyleModel",
          "state": {
            "_model_module": "@jupyter-widgets/controls",
            "_model_module_version": "1.5.0",
            "_model_name": "DescriptionStyleModel",
            "_view_count": null,
            "_view_module": "@jupyter-widgets/base",
            "_view_module_version": "1.2.0",
            "_view_name": "StyleView",
            "description_width": ""
          }
        },
        "51b0164ddbc34fc9b83e6f75ee410bac": {
          "model_module": "@jupyter-widgets/controls",
          "model_module_version": "1.5.0",
          "model_name": "HBoxModel",
          "state": {
            "_dom_classes": [],
            "_model_module": "@jupyter-widgets/controls",
            "_model_module_version": "1.5.0",
            "_model_name": "HBoxModel",
            "_view_count": null,
            "_view_module": "@jupyter-widgets/controls",
            "_view_module_version": "1.5.0",
            "_view_name": "HBoxView",
            "box_style": "",
            "children": [
              "IPY_MODEL_979a5412eb1849e6b443ffa112f43837",
              "IPY_MODEL_7fba8de4e9234d6b946b2731fcbabcf3",
              "IPY_MODEL_e8eb90254d6d4884b27112c464417074"
            ],
            "layout": "IPY_MODEL_19776ec4e4f54a838a761728b65b9b0f"
          }
        },
        "5419ef8e3fc74e06a79fa5b85f5cd3e5": {
          "model_module": "@jupyter-widgets/base",
          "model_module_version": "1.2.0",
          "model_name": "LayoutModel",
          "state": {
            "_model_module": "@jupyter-widgets/base",
            "_model_module_version": "1.2.0",
            "_model_name": "LayoutModel",
            "_view_count": null,
            "_view_module": "@jupyter-widgets/base",
            "_view_module_version": "1.2.0",
            "_view_name": "LayoutView",
            "align_content": null,
            "align_items": null,
            "align_self": null,
            "border": null,
            "bottom": null,
            "display": null,
            "flex": null,
            "flex_flow": null,
            "grid_area": null,
            "grid_auto_columns": null,
            "grid_auto_flow": null,
            "grid_auto_rows": null,
            "grid_column": null,
            "grid_gap": null,
            "grid_row": null,
            "grid_template_areas": null,
            "grid_template_columns": null,
            "grid_template_rows": null,
            "height": null,
            "justify_content": null,
            "justify_items": null,
            "left": null,
            "margin": null,
            "max_height": null,
            "max_width": null,
            "min_height": null,
            "min_width": null,
            "object_fit": null,
            "object_position": null,
            "order": null,
            "overflow": null,
            "overflow_x": null,
            "overflow_y": null,
            "padding": null,
            "right": null,
            "top": null,
            "visibility": null,
            "width": null
          }
        },
        "5b006c110c8d4c6fb4f80911739e9279": {
          "model_module": "@jupyter-widgets/controls",
          "model_module_version": "1.5.0",
          "model_name": "HTMLModel",
          "state": {
            "_dom_classes": [],
            "_model_module": "@jupyter-widgets/controls",
            "_model_module_version": "1.5.0",
            "_model_name": "HTMLModel",
            "_view_count": null,
            "_view_module": "@jupyter-widgets/controls",
            "_view_module_version": "1.5.0",
            "_view_name": "HTMLView",
            "description": "",
            "description_tooltip": null,
            "layout": "IPY_MODEL_5dd541d6212b48b18b993b48900449f5",
            "placeholder": "​",
            "style": "IPY_MODEL_068cba8ec4b04513a0e50a80ba5b7424",
            "value": " 466k/466k [00:00&lt;00:00, 3.69MB/s]"
          }
        },
        "5dd541d6212b48b18b993b48900449f5": {
          "model_module": "@jupyter-widgets/base",
          "model_module_version": "1.2.0",
          "model_name": "LayoutModel",
          "state": {
            "_model_module": "@jupyter-widgets/base",
            "_model_module_version": "1.2.0",
            "_model_name": "LayoutModel",
            "_view_count": null,
            "_view_module": "@jupyter-widgets/base",
            "_view_module_version": "1.2.0",
            "_view_name": "LayoutView",
            "align_content": null,
            "align_items": null,
            "align_self": null,
            "border": null,
            "bottom": null,
            "display": null,
            "flex": null,
            "flex_flow": null,
            "grid_area": null,
            "grid_auto_columns": null,
            "grid_auto_flow": null,
            "grid_auto_rows": null,
            "grid_column": null,
            "grid_gap": null,
            "grid_row": null,
            "grid_template_areas": null,
            "grid_template_columns": null,
            "grid_template_rows": null,
            "height": null,
            "justify_content": null,
            "justify_items": null,
            "left": null,
            "margin": null,
            "max_height": null,
            "max_width": null,
            "min_height": null,
            "min_width": null,
            "object_fit": null,
            "object_position": null,
            "order": null,
            "overflow": null,
            "overflow_x": null,
            "overflow_y": null,
            "padding": null,
            "right": null,
            "top": null,
            "visibility": null,
            "width": null
          }
        },
        "62aa0b49a70b4cbcb2e393268d234014": {
          "model_module": "@jupyter-widgets/controls",
          "model_module_version": "1.5.0",
          "model_name": "DescriptionStyleModel",
          "state": {
            "_model_module": "@jupyter-widgets/controls",
            "_model_module_version": "1.5.0",
            "_model_name": "DescriptionStyleModel",
            "_view_count": null,
            "_view_module": "@jupyter-widgets/base",
            "_view_module_version": "1.2.0",
            "_view_name": "StyleView",
            "description_width": ""
          }
        },
        "6c49ca9d93a34dae999bcfc1fef2e355": {
          "model_module": "@jupyter-widgets/controls",
          "model_module_version": "1.5.0",
          "model_name": "DescriptionStyleModel",
          "state": {
            "_model_module": "@jupyter-widgets/controls",
            "_model_module_version": "1.5.0",
            "_model_name": "DescriptionStyleModel",
            "_view_count": null,
            "_view_module": "@jupyter-widgets/base",
            "_view_module_version": "1.2.0",
            "_view_name": "StyleView",
            "description_width": ""
          }
        },
        "6c8974c266ab41af9cbf91150dad384c": {
          "model_module": "@jupyter-widgets/base",
          "model_module_version": "1.2.0",
          "model_name": "LayoutModel",
          "state": {
            "_model_module": "@jupyter-widgets/base",
            "_model_module_version": "1.2.0",
            "_model_name": "LayoutModel",
            "_view_count": null,
            "_view_module": "@jupyter-widgets/base",
            "_view_module_version": "1.2.0",
            "_view_name": "LayoutView",
            "align_content": null,
            "align_items": null,
            "align_self": null,
            "border": null,
            "bottom": null,
            "display": null,
            "flex": null,
            "flex_flow": null,
            "grid_area": null,
            "grid_auto_columns": null,
            "grid_auto_flow": null,
            "grid_auto_rows": null,
            "grid_column": null,
            "grid_gap": null,
            "grid_row": null,
            "grid_template_areas": null,
            "grid_template_columns": null,
            "grid_template_rows": null,
            "height": null,
            "justify_content": null,
            "justify_items": null,
            "left": null,
            "margin": null,
            "max_height": null,
            "max_width": null,
            "min_height": null,
            "min_width": null,
            "object_fit": null,
            "object_position": null,
            "order": null,
            "overflow": null,
            "overflow_x": null,
            "overflow_y": null,
            "padding": null,
            "right": null,
            "top": null,
            "visibility": null,
            "width": null
          }
        },
        "6e28a93cc5fb4b57bf405aa0a041f42e": {
          "model_module": "@jupyter-widgets/base",
          "model_module_version": "1.2.0",
          "model_name": "LayoutModel",
          "state": {
            "_model_module": "@jupyter-widgets/base",
            "_model_module_version": "1.2.0",
            "_model_name": "LayoutModel",
            "_view_count": null,
            "_view_module": "@jupyter-widgets/base",
            "_view_module_version": "1.2.0",
            "_view_name": "LayoutView",
            "align_content": null,
            "align_items": null,
            "align_self": null,
            "border": null,
            "bottom": null,
            "display": null,
            "flex": null,
            "flex_flow": null,
            "grid_area": null,
            "grid_auto_columns": null,
            "grid_auto_flow": null,
            "grid_auto_rows": null,
            "grid_column": null,
            "grid_gap": null,
            "grid_row": null,
            "grid_template_areas": null,
            "grid_template_columns": null,
            "grid_template_rows": null,
            "height": null,
            "justify_content": null,
            "justify_items": null,
            "left": null,
            "margin": null,
            "max_height": null,
            "max_width": null,
            "min_height": null,
            "min_width": null,
            "object_fit": null,
            "object_position": null,
            "order": null,
            "overflow": null,
            "overflow_x": null,
            "overflow_y": null,
            "padding": null,
            "right": null,
            "top": null,
            "visibility": null,
            "width": null
          }
        },
        "735e9ea25a4149f78b60f84230b7682e": {
          "model_module": "@jupyter-widgets/controls",
          "model_module_version": "1.5.0",
          "model_name": "DescriptionStyleModel",
          "state": {
            "_model_module": "@jupyter-widgets/controls",
            "_model_module_version": "1.5.0",
            "_model_name": "DescriptionStyleModel",
            "_view_count": null,
            "_view_module": "@jupyter-widgets/base",
            "_view_module_version": "1.2.0",
            "_view_name": "StyleView",
            "description_width": ""
          }
        },
        "73a66c7251554f72bec0f590d17f6fae": {
          "model_module": "@jupyter-widgets/base",
          "model_module_version": "1.2.0",
          "model_name": "LayoutModel",
          "state": {
            "_model_module": "@jupyter-widgets/base",
            "_model_module_version": "1.2.0",
            "_model_name": "LayoutModel",
            "_view_count": null,
            "_view_module": "@jupyter-widgets/base",
            "_view_module_version": "1.2.0",
            "_view_name": "LayoutView",
            "align_content": null,
            "align_items": null,
            "align_self": null,
            "border": null,
            "bottom": null,
            "display": null,
            "flex": null,
            "flex_flow": null,
            "grid_area": null,
            "grid_auto_columns": null,
            "grid_auto_flow": null,
            "grid_auto_rows": null,
            "grid_column": null,
            "grid_gap": null,
            "grid_row": null,
            "grid_template_areas": null,
            "grid_template_columns": null,
            "grid_template_rows": null,
            "height": null,
            "justify_content": null,
            "justify_items": null,
            "left": null,
            "margin": null,
            "max_height": null,
            "max_width": null,
            "min_height": null,
            "min_width": null,
            "object_fit": null,
            "object_position": null,
            "order": null,
            "overflow": null,
            "overflow_x": null,
            "overflow_y": null,
            "padding": null,
            "right": null,
            "top": null,
            "visibility": null,
            "width": null
          }
        },
        "740339e7eace4ca0a0ec67b4b9d12ec9": {
          "model_module": "@jupyter-widgets/controls",
          "model_module_version": "1.5.0",
          "model_name": "FloatProgressModel",
          "state": {
            "_dom_classes": [],
            "_model_module": "@jupyter-widgets/controls",
            "_model_module_version": "1.5.0",
            "_model_name": "FloatProgressModel",
            "_view_count": null,
            "_view_module": "@jupyter-widgets/controls",
            "_view_module_version": "1.5.0",
            "_view_name": "ProgressView",
            "bar_style": "success",
            "description": "",
            "description_tooltip": null,
            "layout": "IPY_MODEL_ce6a0617a50e4f3298bb261f2e430270",
            "max": 570,
            "min": 0,
            "orientation": "horizontal",
            "style": "IPY_MODEL_d1575e784afd476c9b64b0e30fd3239e",
            "value": 570
          }
        },
        "7fba8de4e9234d6b946b2731fcbabcf3": {
          "model_module": "@jupyter-widgets/controls",
          "model_module_version": "1.5.0",
          "model_name": "FloatProgressModel",
          "state": {
            "_dom_classes": [],
            "_model_module": "@jupyter-widgets/controls",
            "_model_module_version": "1.5.0",
            "_model_name": "FloatProgressModel",
            "_view_count": null,
            "_view_module": "@jupyter-widgets/controls",
            "_view_module_version": "1.5.0",
            "_view_name": "ProgressView",
            "bar_style": "success",
            "description": "",
            "description_tooltip": null,
            "layout": "IPY_MODEL_895d111e64fd40f7a87af42420759bdb",
            "max": 440449768,
            "min": 0,
            "orientation": "horizontal",
            "style": "IPY_MODEL_dc5cd8e82d464a17bc6b9124a64c224b",
            "value": 440449768
          }
        },
        "83f7a20077b64097800d75bf785f4e3e": {
          "model_module": "@jupyter-widgets/base",
          "model_module_version": "1.2.0",
          "model_name": "LayoutModel",
          "state": {
            "_model_module": "@jupyter-widgets/base",
            "_model_module_version": "1.2.0",
            "_model_name": "LayoutModel",
            "_view_count": null,
            "_view_module": "@jupyter-widgets/base",
            "_view_module_version": "1.2.0",
            "_view_name": "LayoutView",
            "align_content": null,
            "align_items": null,
            "align_self": null,
            "border": null,
            "bottom": null,
            "display": null,
            "flex": null,
            "flex_flow": null,
            "grid_area": null,
            "grid_auto_columns": null,
            "grid_auto_flow": null,
            "grid_auto_rows": null,
            "grid_column": null,
            "grid_gap": null,
            "grid_row": null,
            "grid_template_areas": null,
            "grid_template_columns": null,
            "grid_template_rows": null,
            "height": null,
            "justify_content": null,
            "justify_items": null,
            "left": null,
            "margin": null,
            "max_height": null,
            "max_width": null,
            "min_height": null,
            "min_width": null,
            "object_fit": null,
            "object_position": null,
            "order": null,
            "overflow": null,
            "overflow_x": null,
            "overflow_y": null,
            "padding": null,
            "right": null,
            "top": null,
            "visibility": null,
            "width": null
          }
        },
        "8833009e6b754d33a609bd38f71ae137": {
          "model_module": "@jupyter-widgets/base",
          "model_module_version": "1.2.0",
          "model_name": "LayoutModel",
          "state": {
            "_model_module": "@jupyter-widgets/base",
            "_model_module_version": "1.2.0",
            "_model_name": "LayoutModel",
            "_view_count": null,
            "_view_module": "@jupyter-widgets/base",
            "_view_module_version": "1.2.0",
            "_view_name": "LayoutView",
            "align_content": null,
            "align_items": null,
            "align_self": null,
            "border": null,
            "bottom": null,
            "display": null,
            "flex": null,
            "flex_flow": null,
            "grid_area": null,
            "grid_auto_columns": null,
            "grid_auto_flow": null,
            "grid_auto_rows": null,
            "grid_column": null,
            "grid_gap": null,
            "grid_row": null,
            "grid_template_areas": null,
            "grid_template_columns": null,
            "grid_template_rows": null,
            "height": null,
            "justify_content": null,
            "justify_items": null,
            "left": null,
            "margin": null,
            "max_height": null,
            "max_width": null,
            "min_height": null,
            "min_width": null,
            "object_fit": null,
            "object_position": null,
            "order": null,
            "overflow": null,
            "overflow_x": null,
            "overflow_y": null,
            "padding": null,
            "right": null,
            "top": null,
            "visibility": null,
            "width": null
          }
        },
        "895d111e64fd40f7a87af42420759bdb": {
          "model_module": "@jupyter-widgets/base",
          "model_module_version": "1.2.0",
          "model_name": "LayoutModel",
          "state": {
            "_model_module": "@jupyter-widgets/base",
            "_model_module_version": "1.2.0",
            "_model_name": "LayoutModel",
            "_view_count": null,
            "_view_module": "@jupyter-widgets/base",
            "_view_module_version": "1.2.0",
            "_view_name": "LayoutView",
            "align_content": null,
            "align_items": null,
            "align_self": null,
            "border": null,
            "bottom": null,
            "display": null,
            "flex": null,
            "flex_flow": null,
            "grid_area": null,
            "grid_auto_columns": null,
            "grid_auto_flow": null,
            "grid_auto_rows": null,
            "grid_column": null,
            "grid_gap": null,
            "grid_row": null,
            "grid_template_areas": null,
            "grid_template_columns": null,
            "grid_template_rows": null,
            "height": null,
            "justify_content": null,
            "justify_items": null,
            "left": null,
            "margin": null,
            "max_height": null,
            "max_width": null,
            "min_height": null,
            "min_width": null,
            "object_fit": null,
            "object_position": null,
            "order": null,
            "overflow": null,
            "overflow_x": null,
            "overflow_y": null,
            "padding": null,
            "right": null,
            "top": null,
            "visibility": null,
            "width": null
          }
        },
        "979a5412eb1849e6b443ffa112f43837": {
          "model_module": "@jupyter-widgets/controls",
          "model_module_version": "1.5.0",
          "model_name": "HTMLModel",
          "state": {
            "_dom_classes": [],
            "_model_module": "@jupyter-widgets/controls",
            "_model_module_version": "1.5.0",
            "_model_name": "HTMLModel",
            "_view_count": null,
            "_view_module": "@jupyter-widgets/controls",
            "_view_module_version": "1.5.0",
            "_view_name": "HTMLView",
            "description": "",
            "description_tooltip": null,
            "layout": "IPY_MODEL_8833009e6b754d33a609bd38f71ae137",
            "placeholder": "​",
            "style": "IPY_MODEL_3f8b043cca4c459aa96d64660a7b4adf",
            "value": "model.safetensors: 100%"
          }
        },
        "a03c23653eda4ec8a6ebd61969e84e81": {
          "model_module": "@jupyter-widgets/controls",
          "model_module_version": "1.5.0",
          "model_name": "HBoxModel",
          "state": {
            "_dom_classes": [],
            "_model_module": "@jupyter-widgets/controls",
            "_model_module_version": "1.5.0",
            "_model_name": "HBoxModel",
            "_view_count": null,
            "_view_module": "@jupyter-widgets/controls",
            "_view_module_version": "1.5.0",
            "_view_name": "HBoxView",
            "box_style": "",
            "children": [
              "IPY_MODEL_32406e715b8e41e6ada5cb9c32858f02",
              "IPY_MODEL_0f22872c4a5c41a0b544eecf9ea3ee5e",
              "IPY_MODEL_fdc6c95c213343519bd496f6456ff9c5"
            ],
            "layout": "IPY_MODEL_73a66c7251554f72bec0f590d17f6fae"
          }
        },
        "a389278be9b246319865efed2cf6c9db": {
          "model_module": "@jupyter-widgets/controls",
          "model_module_version": "1.5.0",
          "model_name": "FloatProgressModel",
          "state": {
            "_dom_classes": [],
            "_model_module": "@jupyter-widgets/controls",
            "_model_module_version": "1.5.0",
            "_model_name": "FloatProgressModel",
            "_view_count": null,
            "_view_module": "@jupyter-widgets/controls",
            "_view_module_version": "1.5.0",
            "_view_name": "ProgressView",
            "bar_style": "success",
            "description": "",
            "description_tooltip": null,
            "layout": "IPY_MODEL_15f1577407354739a1c52e2e82d838b7",
            "max": 466062,
            "min": 0,
            "orientation": "horizontal",
            "style": "IPY_MODEL_da096e584aa0446a94d31f87fd38a5b7",
            "value": 466062
          }
        },
        "a9881040fa554d65894d8d0865f10860": {
          "model_module": "@jupyter-widgets/controls",
          "model_module_version": "1.5.0",
          "model_name": "DescriptionStyleModel",
          "state": {
            "_model_module": "@jupyter-widgets/controls",
            "_model_module_version": "1.5.0",
            "_model_name": "DescriptionStyleModel",
            "_view_count": null,
            "_view_module": "@jupyter-widgets/base",
            "_view_module_version": "1.2.0",
            "_view_name": "StyleView",
            "description_width": ""
          }
        },
        "ae12acd9a1064c90a9fb0b26919c993b": {
          "model_module": "@jupyter-widgets/base",
          "model_module_version": "1.2.0",
          "model_name": "LayoutModel",
          "state": {
            "_model_module": "@jupyter-widgets/base",
            "_model_module_version": "1.2.0",
            "_model_name": "LayoutModel",
            "_view_count": null,
            "_view_module": "@jupyter-widgets/base",
            "_view_module_version": "1.2.0",
            "_view_name": "LayoutView",
            "align_content": null,
            "align_items": null,
            "align_self": null,
            "border": null,
            "bottom": null,
            "display": null,
            "flex": null,
            "flex_flow": null,
            "grid_area": null,
            "grid_auto_columns": null,
            "grid_auto_flow": null,
            "grid_auto_rows": null,
            "grid_column": null,
            "grid_gap": null,
            "grid_row": null,
            "grid_template_areas": null,
            "grid_template_columns": null,
            "grid_template_rows": null,
            "height": null,
            "justify_content": null,
            "justify_items": null,
            "left": null,
            "margin": null,
            "max_height": null,
            "max_width": null,
            "min_height": null,
            "min_width": null,
            "object_fit": null,
            "object_position": null,
            "order": null,
            "overflow": null,
            "overflow_x": null,
            "overflow_y": null,
            "padding": null,
            "right": null,
            "top": null,
            "visibility": null,
            "width": null
          }
        },
        "b936f92b208d4ae1af0a32b9575c0593": {
          "model_module": "@jupyter-widgets/base",
          "model_module_version": "1.2.0",
          "model_name": "LayoutModel",
          "state": {
            "_model_module": "@jupyter-widgets/base",
            "_model_module_version": "1.2.0",
            "_model_name": "LayoutModel",
            "_view_count": null,
            "_view_module": "@jupyter-widgets/base",
            "_view_module_version": "1.2.0",
            "_view_name": "LayoutView",
            "align_content": null,
            "align_items": null,
            "align_self": null,
            "border": null,
            "bottom": null,
            "display": null,
            "flex": null,
            "flex_flow": null,
            "grid_area": null,
            "grid_auto_columns": null,
            "grid_auto_flow": null,
            "grid_auto_rows": null,
            "grid_column": null,
            "grid_gap": null,
            "grid_row": null,
            "grid_template_areas": null,
            "grid_template_columns": null,
            "grid_template_rows": null,
            "height": null,
            "justify_content": null,
            "justify_items": null,
            "left": null,
            "margin": null,
            "max_height": null,
            "max_width": null,
            "min_height": null,
            "min_width": null,
            "object_fit": null,
            "object_position": null,
            "order": null,
            "overflow": null,
            "overflow_x": null,
            "overflow_y": null,
            "padding": null,
            "right": null,
            "top": null,
            "visibility": null,
            "width": null
          }
        },
        "bf929650e0d3420187c86e6a3f913086": {
          "model_module": "@jupyter-widgets/base",
          "model_module_version": "1.2.0",
          "model_name": "LayoutModel",
          "state": {
            "_model_module": "@jupyter-widgets/base",
            "_model_module_version": "1.2.0",
            "_model_name": "LayoutModel",
            "_view_count": null,
            "_view_module": "@jupyter-widgets/base",
            "_view_module_version": "1.2.0",
            "_view_name": "LayoutView",
            "align_content": null,
            "align_items": null,
            "align_self": null,
            "border": null,
            "bottom": null,
            "display": null,
            "flex": null,
            "flex_flow": null,
            "grid_area": null,
            "grid_auto_columns": null,
            "grid_auto_flow": null,
            "grid_auto_rows": null,
            "grid_column": null,
            "grid_gap": null,
            "grid_row": null,
            "grid_template_areas": null,
            "grid_template_columns": null,
            "grid_template_rows": null,
            "height": null,
            "justify_content": null,
            "justify_items": null,
            "left": null,
            "margin": null,
            "max_height": null,
            "max_width": null,
            "min_height": null,
            "min_width": null,
            "object_fit": null,
            "object_position": null,
            "order": null,
            "overflow": null,
            "overflow_x": null,
            "overflow_y": null,
            "padding": null,
            "right": null,
            "top": null,
            "visibility": null,
            "width": null
          }
        },
        "c1b64e30376442f19ad8d57194874aac": {
          "model_module": "@jupyter-widgets/controls",
          "model_module_version": "1.5.0",
          "model_name": "HTMLModel",
          "state": {
            "_dom_classes": [],
            "_model_module": "@jupyter-widgets/controls",
            "_model_module_version": "1.5.0",
            "_model_name": "HTMLModel",
            "_view_count": null,
            "_view_module": "@jupyter-widgets/controls",
            "_view_module_version": "1.5.0",
            "_view_name": "HTMLView",
            "description": "",
            "description_tooltip": null,
            "layout": "IPY_MODEL_1d6ec42ebf55401d87ef279a9ab91d30",
            "placeholder": "​",
            "style": "IPY_MODEL_d9c28a8818594625baa231fcadb5f12c",
            "value": "tokenizer.json: 100%"
          }
        },
        "c21f9b4f4b6f4484ad8a01569eb5c1d2": {
          "model_module": "@jupyter-widgets/controls",
          "model_module_version": "1.5.0",
          "model_name": "ProgressStyleModel",
          "state": {
            "_model_module": "@jupyter-widgets/controls",
            "_model_module_version": "1.5.0",
            "_model_name": "ProgressStyleModel",
            "_view_count": null,
            "_view_module": "@jupyter-widgets/base",
            "_view_module_version": "1.2.0",
            "_view_name": "StyleView",
            "bar_color": null,
            "description_width": ""
          }
        },
        "ce6a0617a50e4f3298bb261f2e430270": {
          "model_module": "@jupyter-widgets/base",
          "model_module_version": "1.2.0",
          "model_name": "LayoutModel",
          "state": {
            "_model_module": "@jupyter-widgets/base",
            "_model_module_version": "1.2.0",
            "_model_name": "LayoutModel",
            "_view_count": null,
            "_view_module": "@jupyter-widgets/base",
            "_view_module_version": "1.2.0",
            "_view_name": "LayoutView",
            "align_content": null,
            "align_items": null,
            "align_self": null,
            "border": null,
            "bottom": null,
            "display": null,
            "flex": null,
            "flex_flow": null,
            "grid_area": null,
            "grid_auto_columns": null,
            "grid_auto_flow": null,
            "grid_auto_rows": null,
            "grid_column": null,
            "grid_gap": null,
            "grid_row": null,
            "grid_template_areas": null,
            "grid_template_columns": null,
            "grid_template_rows": null,
            "height": null,
            "justify_content": null,
            "justify_items": null,
            "left": null,
            "margin": null,
            "max_height": null,
            "max_width": null,
            "min_height": null,
            "min_width": null,
            "object_fit": null,
            "object_position": null,
            "order": null,
            "overflow": null,
            "overflow_x": null,
            "overflow_y": null,
            "padding": null,
            "right": null,
            "top": null,
            "visibility": null,
            "width": null
          }
        },
        "d1575e784afd476c9b64b0e30fd3239e": {
          "model_module": "@jupyter-widgets/controls",
          "model_module_version": "1.5.0",
          "model_name": "ProgressStyleModel",
          "state": {
            "_model_module": "@jupyter-widgets/controls",
            "_model_module_version": "1.5.0",
            "_model_name": "ProgressStyleModel",
            "_view_count": null,
            "_view_module": "@jupyter-widgets/base",
            "_view_module_version": "1.2.0",
            "_view_name": "StyleView",
            "bar_color": null,
            "description_width": ""
          }
        },
        "d2dc3513b93a43d8aa6c29af69ca3d6a": {
          "model_module": "@jupyter-widgets/controls",
          "model_module_version": "1.5.0",
          "model_name": "HBoxModel",
          "state": {
            "_dom_classes": [],
            "_model_module": "@jupyter-widgets/controls",
            "_model_module_version": "1.5.0",
            "_model_name": "HBoxModel",
            "_view_count": null,
            "_view_module": "@jupyter-widgets/controls",
            "_view_module_version": "1.5.0",
            "_view_name": "HBoxView",
            "box_style": "",
            "children": [
              "IPY_MODEL_1f9a6d2f023e41288547a1566fa63d58",
              "IPY_MODEL_1103bb61089f447497359f3d4fb118d3",
              "IPY_MODEL_0314a8de118142f28b231ff4e4ebad06"
            ],
            "layout": "IPY_MODEL_6e28a93cc5fb4b57bf405aa0a041f42e"
          }
        },
        "d3ac7ba22149472d98bf08f1c139a8d6": {
          "model_module": "@jupyter-widgets/controls",
          "model_module_version": "1.5.0",
          "model_name": "HTMLModel",
          "state": {
            "_dom_classes": [],
            "_model_module": "@jupyter-widgets/controls",
            "_model_module_version": "1.5.0",
            "_model_name": "HTMLModel",
            "_view_count": null,
            "_view_module": "@jupyter-widgets/controls",
            "_view_module_version": "1.5.0",
            "_view_name": "HTMLView",
            "description": "",
            "description_tooltip": null,
            "layout": "IPY_MODEL_bf929650e0d3420187c86e6a3f913086",
            "placeholder": "​",
            "style": "IPY_MODEL_fa96723e6ffd4702bc92500bf756b707",
            "value": " 570/570 [00:00&lt;00:00, 43.7kB/s]"
          }
        },
        "d5502b92aa2f4b31a9e4b9fef92ab5e5": {
          "model_module": "@jupyter-widgets/base",
          "model_module_version": "1.2.0",
          "model_name": "LayoutModel",
          "state": {
            "_model_module": "@jupyter-widgets/base",
            "_model_module_version": "1.2.0",
            "_model_name": "LayoutModel",
            "_view_count": null,
            "_view_module": "@jupyter-widgets/base",
            "_view_module_version": "1.2.0",
            "_view_name": "LayoutView",
            "align_content": null,
            "align_items": null,
            "align_self": null,
            "border": null,
            "bottom": null,
            "display": null,
            "flex": null,
            "flex_flow": null,
            "grid_area": null,
            "grid_auto_columns": null,
            "grid_auto_flow": null,
            "grid_auto_rows": null,
            "grid_column": null,
            "grid_gap": null,
            "grid_row": null,
            "grid_template_areas": null,
            "grid_template_columns": null,
            "grid_template_rows": null,
            "height": null,
            "justify_content": null,
            "justify_items": null,
            "left": null,
            "margin": null,
            "max_height": null,
            "max_width": null,
            "min_height": null,
            "min_width": null,
            "object_fit": null,
            "object_position": null,
            "order": null,
            "overflow": null,
            "overflow_x": null,
            "overflow_y": null,
            "padding": null,
            "right": null,
            "top": null,
            "visibility": null,
            "width": null
          }
        },
        "d9c28a8818594625baa231fcadb5f12c": {
          "model_module": "@jupyter-widgets/controls",
          "model_module_version": "1.5.0",
          "model_name": "DescriptionStyleModel",
          "state": {
            "_model_module": "@jupyter-widgets/controls",
            "_model_module_version": "1.5.0",
            "_model_name": "DescriptionStyleModel",
            "_view_count": null,
            "_view_module": "@jupyter-widgets/base",
            "_view_module_version": "1.2.0",
            "_view_name": "StyleView",
            "description_width": ""
          }
        },
        "da096e584aa0446a94d31f87fd38a5b7": {
          "model_module": "@jupyter-widgets/controls",
          "model_module_version": "1.5.0",
          "model_name": "ProgressStyleModel",
          "state": {
            "_model_module": "@jupyter-widgets/controls",
            "_model_module_version": "1.5.0",
            "_model_name": "ProgressStyleModel",
            "_view_count": null,
            "_view_module": "@jupyter-widgets/base",
            "_view_module_version": "1.2.0",
            "_view_name": "StyleView",
            "bar_color": null,
            "description_width": ""
          }
        },
        "dc5cd8e82d464a17bc6b9124a64c224b": {
          "model_module": "@jupyter-widgets/controls",
          "model_module_version": "1.5.0",
          "model_name": "ProgressStyleModel",
          "state": {
            "_model_module": "@jupyter-widgets/controls",
            "_model_module_version": "1.5.0",
            "_model_name": "ProgressStyleModel",
            "_view_count": null,
            "_view_module": "@jupyter-widgets/base",
            "_view_module_version": "1.2.0",
            "_view_name": "StyleView",
            "bar_color": null,
            "description_width": ""
          }
        },
        "e8ac460fe52b483cafd6fd56a3e4c1f2": {
          "model_module": "@jupyter-widgets/controls",
          "model_module_version": "1.5.0",
          "model_name": "ProgressStyleModel",
          "state": {
            "_model_module": "@jupyter-widgets/controls",
            "_model_module_version": "1.5.0",
            "_model_name": "ProgressStyleModel",
            "_view_count": null,
            "_view_module": "@jupyter-widgets/base",
            "_view_module_version": "1.2.0",
            "_view_name": "StyleView",
            "bar_color": null,
            "description_width": ""
          }
        },
        "e8eb90254d6d4884b27112c464417074": {
          "model_module": "@jupyter-widgets/controls",
          "model_module_version": "1.5.0",
          "model_name": "HTMLModel",
          "state": {
            "_dom_classes": [],
            "_model_module": "@jupyter-widgets/controls",
            "_model_module_version": "1.5.0",
            "_model_name": "HTMLModel",
            "_view_count": null,
            "_view_module": "@jupyter-widgets/controls",
            "_view_module_version": "1.5.0",
            "_view_name": "HTMLView",
            "description": "",
            "description_tooltip": null,
            "layout": "IPY_MODEL_5419ef8e3fc74e06a79fa5b85f5cd3e5",
            "placeholder": "​",
            "style": "IPY_MODEL_735e9ea25a4149f78b60f84230b7682e",
            "value": " 440M/440M [00:05&lt;00:00, 103MB/s]"
          }
        },
        "e904b7bbdd5145b7be3b1a322b56b8aa": {
          "model_module": "@jupyter-widgets/controls",
          "model_module_version": "1.5.0",
          "model_name": "HBoxModel",
          "state": {
            "_dom_classes": [],
            "_model_module": "@jupyter-widgets/controls",
            "_model_module_version": "1.5.0",
            "_model_name": "HBoxModel",
            "_view_count": null,
            "_view_module": "@jupyter-widgets/controls",
            "_view_module_version": "1.5.0",
            "_view_name": "HBoxView",
            "box_style": "",
            "children": [
              "IPY_MODEL_320c6079db5e44a69dcb2d3ece021f00",
              "IPY_MODEL_740339e7eace4ca0a0ec67b4b9d12ec9",
              "IPY_MODEL_d3ac7ba22149472d98bf08f1c139a8d6"
            ],
            "layout": "IPY_MODEL_3b282a9beca14f038da56b3506afbd8f"
          }
        },
        "fa96723e6ffd4702bc92500bf756b707": {
          "model_module": "@jupyter-widgets/controls",
          "model_module_version": "1.5.0",
          "model_name": "DescriptionStyleModel",
          "state": {
            "_model_module": "@jupyter-widgets/controls",
            "_model_module_version": "1.5.0",
            "_model_name": "DescriptionStyleModel",
            "_view_count": null,
            "_view_module": "@jupyter-widgets/base",
            "_view_module_version": "1.2.0",
            "_view_name": "StyleView",
            "description_width": ""
          }
        },
        "fdc6c95c213343519bd496f6456ff9c5": {
          "model_module": "@jupyter-widgets/controls",
          "model_module_version": "1.5.0",
          "model_name": "HTMLModel",
          "state": {
            "_dom_classes": [],
            "_model_module": "@jupyter-widgets/controls",
            "_model_module_version": "1.5.0",
            "_model_name": "HTMLModel",
            "_view_count": null,
            "_view_module": "@jupyter-widgets/controls",
            "_view_module_version": "1.5.0",
            "_view_name": "HTMLView",
            "description": "",
            "description_tooltip": null,
            "layout": "IPY_MODEL_b936f92b208d4ae1af0a32b9575c0593",
            "placeholder": "​",
            "style": "IPY_MODEL_a9881040fa554d65894d8d0865f10860",
            "value": " 232k/232k [00:00&lt;00:00, 5.32MB/s]"
          }
        }
      }
    }
  },
  "nbformat": 4,
  "nbformat_minor": 0
}
