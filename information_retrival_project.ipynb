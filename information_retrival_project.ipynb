{
  "nbformat": 4,
  "nbformat_minor": 0,
  "metadata": {
    "colab": {
      "provenance": [],
      "gpuType": "T4"
    },
    "kernelspec": {
      "name": "python3",
      "display_name": "Python 3"
    },
    "language_info": {
      "name": "python"
    },
    "accelerator": "GPU"
  },
  "cells": [
    {
      "cell_type": "code",
      "execution_count": 1,
      "metadata": {
        "id": "50mjuevO1aOX"
      },
      "outputs": [],
      "source": [
        "# !pip install torch\n",
        "# !pip install transformers"
      ]
    },
    {
      "cell_type": "code",
      "execution_count": 2,
      "metadata": {
        "id": "61ce02dd"
      },
      "outputs": [],
      "source": [
        "import json\n",
        "import os\n",
        "import random\n",
        "import re\n",
        "import torch\n",
        "import torch.nn as nn\n",
        "import numpy as np\n",
        "from collections import Counter\n",
        "import matplotlib.pyplot as plt\n",
        "import seaborn as sns\n",
        "\n",
        "from sklearn.model_selection import train_test_split\n",
        "from sklearn.metrics import precision_score, recall_score, f1_score, classification_report, confusion_matrix\n",
        "\n",
        "from torch.utils.data import DataLoader, TensorDataset\n",
        "from transformers import BertTokenizer, BertForSequenceClassification, AutoTokenizer, DistilBertForSequenceClassification, AdamW\n",
        "from torch.nn.utils.rnn import pad_sequence\n",
        "from torch.cuda.amp import autocast, GradScaler\n",
        "\n",
        "from imblearn.over_sampling import RandomOverSampler\n",
        "from imblearn.under_sampling import RandomUnderSampler"
      ]
    },
    {
      "cell_type": "code",
      "source": [
        "file_paths = [\"dataset.json\"]\n",
        "\n",
        "dataset = []\n",
        "\n",
        "for file_path in file_paths:\n",
        "    with open(file_path, \"r\") as file:\n",
        "        data = json.load(file)\n",
        "\n",
        "random.shuffle(data)\n",
        "len(data)"
      ],
      "metadata": {
        "id": "XYnDR8vwtrmU",
        "colab": {
          "base_uri": "https://localhost:8080/"
        },
        "outputId": "f7e49dc8-7aa4-4c63-8247-1bd976ff466b"
      },
      "execution_count": 51,
      "outputs": [
        {
          "output_type": "execute_result",
          "data": {
            "text/plain": [
              "47136"
            ]
          },
          "metadata": {},
          "execution_count": 51
        }
      ]
    },
    {
      "cell_type": "code",
      "source": [
        "dataset = []\n",
        "\n",
        "for i in range(0, len(data)):\n",
        "    item = data[i].copy()\n",
        "    item.pop('judgments', None)\n",
        "    dataset.append(item)\n",
        "\n",
        "for i in range(0, len(dataset)):\n",
        "  dataset[i]['evidences'] = dataset[i]['evidences'][0].get('snippet')\n",
        "\n",
        "dataset[0]"
      ],
      "metadata": {
        "colab": {
          "base_uri": "https://localhost:8080/"
        },
        "id": "b3OrJfARolgH",
        "outputId": "1e36eedd-cbb9-4216-94f1-c1c37b4b6c0c"
      },
      "execution_count": 52,
      "outputs": [
        {
          "output_type": "execute_result",
          "data": {
            "text/plain": [
              "{'pred': '/people/deceased_person/place_of_death',\n",
              " 'sub': 'Huseyn Javid',\n",
              " 'obj': 'Far East',\n",
              " 'evidences': \"His arrest was a part of the nation-wide campaign of purge against intelligentsia. The Soviet government exiled Huseyn Javid to the Far East, where he died on 5 December 1941 in the city of Magadan. Huseyn Javid was officially exonerated in 1956. His repatriation came only on Javid's 100th birthday in 1982, when his remains were moved from Magadan back to his homeland of Nakhchivan and reburied in a mausoleum built in Javid's honor.\"}"
            ]
          },
          "metadata": {},
          "execution_count": 52
        }
      ]
    },
    {
      "cell_type": "code",
      "source": [
        "map_pred2label ={\n",
        "    '/people/person/education./education/education/institution': \"educated in\",\n",
        "    '/people/deceased_person/place_of_death': \"died in\",\n",
        "    '/people/person/place_of_birth': \"born in\",\n",
        "    '/people/person/date_of_birth': \"born on\",\n",
        "    '/people/person/education./education/education/degree': \"has degree\"\n",
        "}\n",
        "\n",
        "for i in range(0, len(dataset)):\n",
        "  dataset[i]['pred'] = map_pred2label[dataset[i]['pred']]\n",
        "\n",
        "dataset[0]"
      ],
      "metadata": {
        "colab": {
          "base_uri": "https://localhost:8080/"
        },
        "id": "ijEa7XKouUx9",
        "outputId": "5321b5a5-daca-4a27-ef96-cbb57f5a63d5"
      },
      "execution_count": 53,
      "outputs": [
        {
          "output_type": "execute_result",
          "data": {
            "text/plain": [
              "{'pred': 'died in',\n",
              " 'sub': 'Huseyn Javid',\n",
              " 'obj': 'Far East',\n",
              " 'evidences': \"His arrest was a part of the nation-wide campaign of purge against intelligentsia. The Soviet government exiled Huseyn Javid to the Far East, where he died on 5 December 1941 in the city of Magadan. Huseyn Javid was officially exonerated in 1956. His repatriation came only on Javid's 100th birthday in 1982, when his remains were moved from Magadan back to his homeland of Nakhchivan and reburied in a mausoleum built in Javid's honor.\"}"
            ]
          },
          "metadata": {},
          "execution_count": 53
        }
      ]
    },
    {
      "cell_type": "code",
      "execution_count": 54,
      "metadata": {
        "colab": {
          "base_uri": "https://localhost:8080/"
        },
        "id": "57933d29",
        "outputId": "7a1e5479-6d3b-4d1e-bebb-781aa368d1b4"
      },
      "outputs": [
        {
          "output_type": "stream",
          "name": "stdout",
          "text": [
            "['died in', 'born in', 'educated in', 'has degree', 'born on']\n",
            "Counter({'educated in': 31991, 'born in': 8389, 'died in': 2745, 'born on': 2282, 'has degree': 1729})\n"
          ]
        }
      ],
      "source": [
        "\n",
        "preds = []\n",
        "for i in range(0,len(dataset)):\n",
        "  for key, value in dataset[i].items():\n",
        "    if key == \"pred\" and value not in preds:\n",
        "      preds.append(value)\n",
        "\n",
        "print(preds)\n",
        "\n",
        "\n",
        "# count the number of data points related to each attribute\n",
        "pred_counts = Counter(entry['pred'] for entry in dataset)\n",
        "print(pred_counts)"
      ]
    },
    {
      "cell_type": "code",
      "source": [
        "pie_chart = plt.pie(pred_counts.values(), labels= preds, autopct='%1.1f%%')\n",
        "plt.show(pie_chart)"
      ],
      "metadata": {
        "id": "lSN90zm0s4QK",
        "colab": {
          "base_uri": "https://localhost:8080/",
          "height": 406
        },
        "outputId": "77182443-bdbc-42e3-98c8-b385ecb4f646"
      },
      "execution_count": 55,
      "outputs": [
        {
          "output_type": "display_data",
          "data": {
            "text/plain": [
              "<Figure size 640x480 with 1 Axes>"
            ],
            "image/png": "[encoded data removed]"
          },
          "metadata": {}
        }
      ]
    },
    {
      "cell_type": "code",
      "source": [
        "for data in dataset:\n",
        "  data['text_length'] = len(data['evidences'])\n",
        "\n",
        "length_frequency = Counter(entry['text_length'] for entry in dataset)\n",
        "\n",
        "# Extract lengths and frequencies for plotting\n",
        "lengths = list(length_frequency.keys())\n",
        "frequencies = list(length_frequency.values())\n",
        "\n",
        "# Plotting\n",
        "plt.bar(lengths, frequencies)\n",
        "plt.xlabel('Text Length')\n",
        "plt.ylabel('Frequency')\n",
        "plt.title('Text Length Frequency')\n",
        "plt.show()"
      ],
      "metadata": {
        "colab": {
          "base_uri": "https://localhost:8080/",
          "height": 472
        },
        "id": "_jSZvAWcwylz",
        "outputId": "5e5d67a3-7acb-442d-ccc9-31d9055a28d1"
      },
      "execution_count": 56,
      "outputs": [
        {
          "output_type": "display_data",
          "data": {
            "text/plain": [
              "<Figure size 640x480 with 1 Axes>"
            ],
            "image/png": "[encoded data removed]"
          },
          "metadata": {}
        }
      ]
    },
    {
      "cell_type": "code",
      "source": [
        "# filter the dataset based on the text length\n",
        "for data in dataset:\n",
        "  if data['text_length'] > 600 or data['text_length'] < 20:\n",
        "    dataset.remove(data)\n",
        "\n",
        "len(dataset)"
      ],
      "metadata": {
        "colab": {
          "base_uri": "https://localhost:8080/"
        },
        "id": "VFmocl4BxufW",
        "outputId": "123f8e2c-114e-44e3-e167-a4ba3547e65b"
      },
      "execution_count": 57,
      "outputs": [
        {
          "output_type": "execute_result",
          "data": {
            "text/plain": [
              "38133"
            ]
          },
          "metadata": {},
          "execution_count": 57
        }
      ]
    },
    {
      "cell_type": "code",
      "source": [
        "Counter(data['pred'] for data in dataset)"
      ],
      "metadata": {
        "colab": {
          "base_uri": "https://localhost:8080/"
        },
        "id": "flkrC018ySoR",
        "outputId": "022505d2-a08a-40f6-9426-08d15bb04e3d"
      },
      "execution_count": 58,
      "outputs": [
        {
          "output_type": "execute_result",
          "data": {
            "text/plain": [
              "Counter({'died in': 2368,\n",
              "         'born in': 7278,\n",
              "         'educated in': 25081,\n",
              "         'has degree': 1416,\n",
              "         'born on': 1990})"
            ]
          },
          "metadata": {},
          "execution_count": 58
        }
      ]
    },
    {
      "cell_type": "code",
      "source": [
        "sampling_strategy= {'born in': 2200,\n",
        "                    'educated in':2200,\n",
        "                    'died in': 2200,\n",
        "                    'born on': 1990,\n",
        "                    'has degree':1416\n",
        "}\n",
        "\n",
        "X = [list(data.values()) for data in dataset]\n",
        "y = [data['pred'] for data in dataset]\n",
        "\n",
        "# Apply UnderSampling\n",
        "under_sampling = RandomUnderSampler(sampling_strategy=sampling_strategy, random_state=42)\n",
        "X_undersample, y_undersample = under_sampling.fit_resample(X, y)\n",
        "\n",
        "# Apply oversampling\n",
        "over_sampling = RandomOverSampler(sampling_strategy='not majority', random_state=42)\n",
        "X_balanced, y_balanced = over_sampling.fit_resample(X_undersample, y_undersample)\n",
        "\n",
        "print(Counter(y_balanced))"
      ],
      "metadata": {
        "colab": {
          "base_uri": "https://localhost:8080/"
        },
        "id": "N5d0lfnfydch",
        "outputId": "ba804cca-fd0b-4635-df6c-ef53ff68da11"
      },
      "execution_count": 59,
      "outputs": [
        {
          "output_type": "stream",
          "name": "stdout",
          "text": [
            "Counter({'born in': 2200, 'born on': 2200, 'died in': 2200, 'educated in': 2200, 'has degree': 2200})\n"
          ]
        }
      ]
    },
    {
      "cell_type": "code",
      "source": [
        "degree_type =[]\n",
        "for x in X_balanced:\n",
        "  if x[0] == 'has degree':\n",
        "    degree_type.append(x[2])\n",
        "\n",
        "degree_count = Counter(degree_type)\n",
        "degree_count = sorted(degree_count.items(), key=lambda item: item[1], reverse=True)\n",
        "print(degree_count[0:5])\n",
        "print(len(degree_count))"
      ],
      "metadata": {
        "colab": {
          "base_uri": "https://localhost:8080/"
        },
        "id": "42lnWwXg4FMy",
        "outputId": "10a94dbd-0d5a-440e-994f-31394afe94a4"
      },
      "execution_count": 60,
      "outputs": [
        {
          "output_type": "stream",
          "name": "stdout",
          "text": [
            "[('Bachelor of Arts', 1096), ('Bachelor of Science', 353), ('Bachelor of Laws', 130), ('Bachelor of Fine Arts', 66), ('Doctor of Philosophy', 64)]\n",
            "67\n"
          ]
        }
      ]
    },
    {
      "cell_type": "code",
      "source": [
        "# Mapping list of degree categories to their corresponding degree abbreviations\n",
        "degree_mapping = {\n",
        "    \"Bachelor of Laws\": \"B.L.\",\n",
        "    \"Bachelor of Arts\": \"B.A.\",\n",
        "    \"Bachelor of Science\": \"B.Sc\",\n",
        "    \"Bachelor of Fine Arts\": \"BFA\",\n",
        "    \"Bachelor of Philosophy\": \"Ph.B.\",\n",
        "    \"Master of Arts\": \"M.A.\",\n",
        "    \"Doctor of Medicine\": \"M.D.\",\n",
        "    \"Master of Business Administration\": \"MBA\",\n",
        "    \"Juris Doctor\": \"J.D.\",\n",
        "    \"Bachelor of Technology\": \"B.Tech\",\n",
        "    \"Bachelor of Music\": \"Mus.B.\",\n",
        "    \"Bachelor of Engineering\": \"BSEE\",\n",
        "    \"Doctor of Philosophy\": \"Ph.D\",\n",
        "    \"Master of Science\": \"M.Sc.\",\n",
        "    \"Business administration\": \"B.B.A.\",\n",
        "    \"Legum Doctor\": \"LL.D.\",\n",
        "    \"Master of Social Work\": \"M.S.W.\",\n",
        "    \"Bachelor of Theology\": \"Th.B.\",\n",
        "    \"Bachelor of Education\": \"B.Ed\",\n",
        "    \"Doctor of Divinity\": \"D.D.\",\n",
        "    \"Doctor of Education\": \"Ed.D.\",\n",
        "    \"Bachelor of Electrical Engineering\": \"B.E.E.\",\n",
        "    \"Master of Laws\": \"LL.M.\"\n",
        "}\n",
        "\n",
        "\n",
        "def extract_degree(text, degree_object):\n",
        "    marked_text = text\n",
        "    # Find the corresponding degree abbreviation for the given degree object\n",
        "    degree_abbr = degree_mapping.get(degree_object)\n",
        "    if degree_abbr:\n",
        "        degree_abbr_escaped = re.escape(degree_abbr)\n",
        "        pattern = r'\\b' + degree_abbr_escaped + r'\\W'\n",
        "\n",
        "        match = re.search(pattern, marked_text)\n",
        "        if match:\n",
        "            marked_text = re.sub(pattern, f'{degree_object}', marked_text)\n",
        "    return marked_text\n"
      ],
      "metadata": {
        "id": "W_dwTArkWNZk"
      },
      "execution_count": 61,
      "outputs": []
    },
    {
      "cell_type": "code",
      "source": [
        "def extract_year(date):\n",
        "    # Match year in YYYY-MM-DD format\n",
        "    year_pattern = r'(\\b\\d{4}\\b)-\\d{2}-\\d{2}'\n",
        "    match = re.search(year_pattern, date)\n",
        "    if match:\n",
        "        # Extract year and convert to YY format\n",
        "        full_year = match.group(1)\n",
        "        return full_year[-4:]\n",
        "    else:\n",
        "        return date\n"
      ],
      "metadata": {
        "id": "SGcW_vGt8fvQ"
      },
      "execution_count": 62,
      "outputs": []
    },
    {
      "cell_type": "code",
      "source": [
        "def mark_entities(data):\n",
        "\n",
        "    relation, subject, obj, text, length = data\n",
        "\n",
        "    if relation == 'has degree':\n",
        "      text = extract_degree(text, obj)\n",
        "\n",
        "    if obj == 'born on':\n",
        "      obj = extract_year(obj)\n",
        "\n",
        "    # Extract first and last name of the subject\n",
        "    subject_parts = subject.split()\n",
        "\n",
        "    # Try to replace the most specific subject mention first\n",
        "    subject_found = False\n",
        "    if subject in text:\n",
        "        text = text.replace(subject, f\"[E1]{subject}[/E1]\")\n",
        "        subject_found = True\n",
        "\n",
        "    else:\n",
        "      for name in subject_parts:\n",
        "        if name in text:\n",
        "          text = text.replace(name, f\"[E1]{name}[/E1]\")\n",
        "          subject_found = True\n",
        "\n",
        "    # Mark the object in the sentence\n",
        "    if obj in text:\n",
        "        text = text.replace(obj, f\"[E2]{obj}[/E2]\")\n",
        "\n",
        "    text = text.replace('.', '.[SEP]')\n",
        "\n",
        "    # Split the text into segments using [SEP]\n",
        "    segments = text.split(\"[SEP]\")\n",
        "\n",
        "    # Keep only segments that contain [E1] or [E2]\n",
        "    filtered_segments = [segment.strip() for segment in segments if \"[E1]\" in segment or \"[E2]\" in segment]\n",
        "\n",
        "    cleaned_text = \" [SEP] \".join(filtered_segments)\n",
        "\n",
        "    item = [subject, obj, relation, cleaned_text]\n",
        "\n",
        "    return item\n"
      ],
      "metadata": {
        "id": "Brjcallkjy72"
      },
      "execution_count": 63,
      "outputs": []
    },
    {
      "cell_type": "code",
      "source": [
        "text_list = []\n",
        "for item in X_balanced:\n",
        "  text_list.append(mark_entities(item))\n",
        "\n",
        "text_list[0:2]"
      ],
      "metadata": {
        "colab": {
          "base_uri": "https://localhost:8080/"
        },
        "collapsed": true,
        "id": "0i1VQC5isgaU",
        "outputId": "996238a2-1e0f-4540-83de-353f13cbfb46"
      },
      "execution_count": 64,
      "outputs": [
        {
          "output_type": "execute_result",
          "data": {
            "text/plain": [
              "[['Monroe Tsatoke',\n",
              "  'Oklahoma Territory',\n",
              "  'born in',\n",
              "  '[E1]Monroe Tsatoke[/E1] was born on 29 September 1904 in [E2]Oklahoma Territory[/E2], near present day Saddle Mountain, Oklahoma.'],\n",
              " ['Isaac Sharpless',\n",
              "  'Chester County',\n",
              "  'born in',\n",
              "  '[E1]Isaac Sharpless[/E1], Sc. [SEP] (1848--1920) was an American educator, born in [E2]Chester County[/E2], Pa.']]"
            ]
          },
          "metadata": {},
          "execution_count": 64
        }
      ]
    },
    {
      "cell_type": "code",
      "source": [
        "from sklearn.preprocessing import LabelEncoder\n",
        "\n",
        "# Initialize the label encoder\n",
        "label_encoder = LabelEncoder()\n",
        "\n",
        "# Define the mapping between labels and encoded numbers\n",
        "label_mapping = {\n",
        "    'educated in': 0,\n",
        "    'died in': 1,\n",
        "    'born in': 2,\n",
        "    'born on': 3,\n",
        "    'has degree': 4\n",
        "}\n",
        "\n",
        "# Fit the label encoder with the specified mapping\n",
        "label_encoder.fit(list(label_mapping.values()))\n",
        "\n",
        "# Extract the labels from X_balanced\n",
        "classes = [entry[2] for entry in text_list]\n",
        "\n",
        "# Transform the labels using the fitted label encoder\n",
        "encoded_labels = [label_mapping[label] for label in classes]\n",
        "\n",
        "# Update the labels in X_balanced\n",
        "for i, entry in enumerate(text_list):\n",
        "    entry.append(encoded_labels[i])\n"
      ],
      "metadata": {
        "id": "qhFm3BuFyE-1"
      },
      "execution_count": 65,
      "outputs": []
    },
    {
      "cell_type": "code",
      "source": [
        "# Initialize the BERT tokenizer\n",
        "tokenizer = BertTokenizer.from_pretrained('bert-base-uncased', pad_token= '[PAD]')\n",
        "\n",
        "\n",
        "# Define a function to pad or truncate sequences\n",
        "def pad_sequences(seq, max_length):\n",
        "    if len(seq) < max_length:\n",
        "        # Pad with [PAD] tokens if the sequence is shorter than max_length\n",
        "        padding = ['[PAD]'] * (max_length - len(seq))\n",
        "        return seq + padding\n",
        "    else:\n",
        "        # Truncate if the sequence is longer than max_length\n",
        "        return seq[:max_length]\n"
      ],
      "metadata": {
        "id": "J299kgULRivR"
      },
      "execution_count": 66,
      "outputs": []
    },
    {
      "cell_type": "code",
      "source": [
        "token_text= []\n",
        "token_len = []\n",
        "\n",
        "for data_point in text_list:\n",
        "    text = data_point[3]\n",
        "\n",
        "    # Tokenize the subject, object, and text using BERT tokenizer\n",
        "    tokenized_text = tokenizer.tokenize(text)\n",
        "    token_text.append(tokenized_text)\n",
        "    token_len.append(len(tokenized_text))\n",
        "\n",
        "# Count the frequency of each text length\n",
        "token_length_freq = Counter(token_len)\n",
        "\n",
        "# Extract lengths and frequencies for plotting\n",
        "lengths = list(token_length_freq.keys())\n",
        "frequencies = list(token_length_freq.values())\n",
        "\n",
        "# Plotting\n",
        "plt.bar(lengths, frequencies)\n",
        "plt.xlabel('Token Length')\n",
        "plt.ylabel('Frequency')\n",
        "plt.title('Token Length Frequency')\n",
        "plt.show()\n"
      ],
      "metadata": {
        "colab": {
          "base_uri": "https://localhost:8080/",
          "height": 472
        },
        "id": "ufc_NrSSA4oR",
        "outputId": "436f063e-7c87-4825-ab08-3d5b42a2aad1"
      },
      "execution_count": 67,
      "outputs": [
        {
          "output_type": "display_data",
          "data": {
            "text/plain": [
              "<Figure size 640x480 with 1 Axes>"
            ],
            "image/png": "[encoded data removed]"
          },
          "metadata": {}
        }
      ]
    },
    {
      "cell_type": "code",
      "source": [
        "# Define your max sequence length\n",
        "max_seq_length = 128\n",
        "\n",
        "inputs_text = []\n",
        "labels = []\n",
        "\n",
        "for data_point in text_list:\n",
        "    text = data_point[3]\n",
        "\n",
        "    tokenized_text = tokenizer.tokenize(text)\n",
        "    tokenized_text = tokenized_text[:max_seq_length - 2]\n",
        "    tokenized_text = ['[CLS]'] + tokenized_text + ['[SEP]']\n",
        "    paded_text = pad_sequences(tokenized_text, max_seq_length)\n",
        "\n",
        "    # Convert the tokenized subject, object, and text to input IDs\n",
        "    input_ids_text = tokenizer.convert_tokens_to_ids(paded_text)\n",
        "    inputs_text.append(input_ids_text)\n",
        "\n",
        "    # Label the relevant entities and their relationships\n",
        "    label = data_point[4]\n",
        "    labels.append(label)\n"
      ],
      "metadata": {
        "id": "JOSsp7UGJjfC"
      },
      "execution_count": 68,
      "outputs": []
    },
    {
      "cell_type": "code",
      "source": [
        "inputs_tns = torch.tensor(inputs_text)\n",
        "labels_tns = torch.tensor(labels)\n",
        "\n",
        "# Split the data into training, validation, and test sets\n",
        "train_input, val_input, train_labels, val_labels = train_test_split(inputs_tns, labels_tns, test_size=0.3,stratify= labels ,random_state=42)\n",
        "val_input, test_input, val_labels, test_labels = train_test_split(val_input, val_labels, test_size=0.5, random_state=42)\n"
      ],
      "metadata": {
        "id": "ODczstLchpbq"
      },
      "execution_count": 69,
      "outputs": []
    },
    {
      "cell_type": "code",
      "source": [
        "# Create a TensorDataset from the input tensors and labels\n",
        "train_dataset = TensorDataset(train_input, train_labels)\n",
        "\n",
        "val_dataset = TensorDataset(val_input, val_labels)\n",
        "\n",
        "test_dataset = TensorDataset(test_input, test_labels)\n",
        "\n",
        "# Define batch size and create DataLoader instances\n",
        "batch_size = 64\n",
        "train_dataloader = DataLoader(train_dataset, batch_size=batch_size, shuffle=False)\n",
        "val_dataloader = DataLoader(val_dataset, batch_size=batch_size)\n",
        "test_dataloader = DataLoader(test_dataset, batch_size=batch_size, shuffle=False)"
      ],
      "metadata": {
        "id": "jJz5gkjUi2Nl"
      },
      "execution_count": 70,
      "outputs": []
    },
    {
      "cell_type": "code",
      "source": [
        "model_bert = DistilBertForSequenceClassification.from_pretrained(\"distilbert-base-uncased\", num_labels=5)\n",
        "\n",
        "# Optional: Freeze BERT layers if desired\n",
        "for param in model_bert.base_model.parameters():\n",
        "    param.requires_grad = False\n",
        "\n",
        "# Move the model to GPU if available\n",
        "device = torch.device(\"cuda\" if torch.cuda.is_available() else \"cpu\")\n",
        "model_bert.to(device)\n",
        "\n",
        "# Wrap the model with DataParallel\n",
        "if torch.cuda.device_count() > 1:\n",
        "    model_bert = torch.nn.DataParallel(model_bert)\n",
        "\n",
        "# print(model_bert)"
      ],
      "metadata": {
        "colab": {
          "base_uri": "https://localhost:8080/"
        },
        "id": "huWSUrmWZTH3",
        "outputId": "f6872541-8d92-47e3-d4c1-bc0d560beb43"
      },
      "execution_count": 71,
      "outputs": [
        {
          "output_type": "stream",
          "name": "stderr",
          "text": [
            "Some weights of DistilBertForSequenceClassification were not initialized from the model checkpoint at distilbert-base-uncased and are newly initialized: ['classifier.bias', 'classifier.weight', 'pre_classifier.bias', 'pre_classifier.weight']\n",
            "You should probably TRAIN this model on a down-stream task to be able to use it for predictions and inference.\n"
          ]
        }
      ]
    },
    {
      "cell_type": "code",
      "source": [
        "# Step 5: Fine-tune the BERT model\n",
        "\n",
        "loss_fn = torch.nn.CrossEntropyLoss()\n",
        "optimizer = AdamW(model_bert.parameters(), lr=3e-5)\n",
        "num_epochs = 50\n",
        "scaler = GradScaler()\n",
        "\n",
        "# Create an array to save train and validation loss (will be used in the plot)\n",
        "train_loss_array = []\n",
        "val_loss_array = []\n",
        "\n",
        "# Training loop\n",
        "for epoch in range(num_epochs):\n",
        "    model_bert.train()\n",
        "    total_loss = 0\n",
        "\n",
        "    for step, batch in enumerate(train_dataloader):\n",
        "        inputs_text, labels = batch\n",
        "        inputs_text, labels = inputs_text.to(device), labels.to(device)\n",
        "\n",
        "        optimizer.zero_grad()\n",
        "\n",
        "        with autocast():\n",
        "            outputs = model_bert(inputs_text, labels= labels)\n",
        "            logits = outputs.logits\n",
        "\n",
        "            # Use the Focal Loss function here\n",
        "            loss = loss_fn(logits, labels)\n",
        "\n",
        "        scaler.scale(loss).backward()\n",
        "        scaler.step(optimizer)\n",
        "        scaler.update()\n",
        "\n",
        "        total_loss += loss.item()\n",
        "\n",
        "    # Calculate average training loss for the epoch\n",
        "    avg_train_loss = total_loss / len(train_dataloader)\n",
        "\n",
        "    # Validation loop\n",
        "    model_bert.eval()\n",
        "    val_loss = 0\n",
        "    num_val_steps = 0\n",
        "\n",
        "    with torch.no_grad():\n",
        "        for batch in val_dataloader:\n",
        "            inputs_text,  labels = batch\n",
        "            inputs_text, labels = inputs_text.to(device), labels.to(device)\n",
        "\n",
        "            outputs = model_bert(inputs_text)\n",
        "            logits = outputs.logits\n",
        "\n",
        "            loss = loss_fn(logits, labels)\n",
        "            val_loss += loss.item()\n",
        "            num_val_steps += 1\n",
        "\n",
        "    avg_val_loss = val_loss / num_val_steps\n",
        "\n",
        "    if epoch % 5 ==0:\n",
        "      print(f\"Epoch {epoch}/{num_epochs}, Train_Loss: {avg_train_loss:.4f}, Val_Loss: {avg_val_loss:.4f}\")\n",
        "\n",
        "    train_loss_array.append(avg_train_loss)\n",
        "    val_loss_array.append(avg_val_loss)\n"
      ],
      "metadata": {
        "colab": {
          "base_uri": "https://localhost:8080/"
        },
        "id": "VzLVnSQTDeJL",
        "outputId": "30350007-2e4e-46cf-dc32-0b4460367c70"
      },
      "execution_count": 72,
      "outputs": [
        {
          "output_type": "stream",
          "name": "stderr",
          "text": [
            "/usr/local/lib/python3.11/dist-packages/transformers/optimization.py:591: FutureWarning: This implementation of AdamW is deprecated and will be removed in a future version. Use the PyTorch implementation torch.optim.AdamW instead, or set `no_deprecation_warning=True` to disable this warning\n",
            "  warnings.warn(\n",
            "<ipython-input-72-c4f85286d0c0>:6: FutureWarning: `torch.cuda.amp.GradScaler(args...)` is deprecated. Please use `torch.amp.GradScaler('cuda', args...)` instead.\n",
            "  scaler = GradScaler()\n",
            "<ipython-input-72-c4f85286d0c0>:23: FutureWarning: `torch.cuda.amp.autocast(args...)` is deprecated. Please use `torch.amp.autocast('cuda', args...)` instead.\n",
            "  with autocast():\n",
            "We strongly recommend passing in an `attention_mask` since your input_ids may be padded. See https://huggingface.co/docs/transformers/troubleshooting#incorrect-output-when-padding-tokens-arent-masked.\n"
          ]
        },
        {
          "output_type": "stream",
          "name": "stdout",
          "text": [
            "Epoch 0/50, Train_Loss: 1.5431, Val_Loss: 1.4415\n",
            "Epoch 5/50, Train_Loss: 0.9816, Val_Loss: 0.9048\n",
            "Epoch 10/50, Train_Loss: 0.8150, Val_Loss: 0.7584\n",
            "Epoch 15/50, Train_Loss: 0.7425, Val_Loss: 0.6881\n",
            "Epoch 20/50, Train_Loss: 0.6972, Val_Loss: 0.6476\n",
            "Epoch 25/50, Train_Loss: 0.6636, Val_Loss: 0.6183\n",
            "Epoch 30/50, Train_Loss: 0.6390, Val_Loss: 0.5977\n",
            "Epoch 35/50, Train_Loss: 0.6181, Val_Loss: 0.5801\n",
            "Epoch 40/50, Train_Loss: 0.6041, Val_Loss: 0.5656\n",
            "Epoch 45/50, Train_Loss: 0.5861, Val_Loss: 0.5506\n"
          ]
        }
      ]
    },
    {
      "cell_type": "code",
      "source": [
        "plt.plot(train_loss_array)\n",
        "plt.plot(val_loss_array)\n",
        "plt.title('Training and Validation Loss Over Time')\n",
        "plt.xlabel('Epoch Number')\n",
        "plt.ylabel('Loss')\n",
        "\n",
        "plt.show()\n"
      ],
      "metadata": {
        "colab": {
          "base_uri": "https://localhost:8080/",
          "height": 472
        },
        "id": "gq7kCmkwEOP6",
        "outputId": "84829b52-8faa-4424-b837-194aab508087"
      },
      "execution_count": 73,
      "outputs": [
        {
          "output_type": "display_data",
          "data": {
            "text/plain": [
              "<Figure size 640x480 with 1 Axes>"
            ],
            "image/png": "[encoded data removed]"
          },
          "metadata": {}
        }
      ]
    },
    {
      "cell_type": "code",
      "source": [
        "def compute_accuracy(predictions, labels):\n",
        "    predicted_labels = torch.argmax(predictions, dim=1)\n",
        "    correct_predictions = torch.eq(predicted_labels, labels).sum().item()\n",
        "    accuracy = correct_predictions / len(labels)\n",
        "    return accuracy\n",
        "\n"
      ],
      "metadata": {
        "id": "-MncarjXixLf"
      },
      "execution_count": 74,
      "outputs": []
    },
    {
      "cell_type": "code",
      "execution_count": 75,
      "metadata": {
        "colab": {
          "base_uri": "https://localhost:8080/"
        },
        "id": "e853c665",
        "outputId": "1fe9fb85-dd60-4570-918c-fd329dbf2da8"
      },
      "outputs": [
        {
          "output_type": "stream",
          "name": "stdout",
          "text": [
            "Validation Accuracy: 0.7943\n"
          ]
        }
      ],
      "source": [
        "# evaluate the model by computing  accuracy, precision, recall, and F1-score\n",
        "model_bert.eval()\n",
        "val_accuracy = 0\n",
        "num_val_steps = 0\n",
        "\n",
        "with torch.no_grad():\n",
        "    for batch in val_dataloader:\n",
        "        inputs_text, labels = batch\n",
        "        inputs_text, labels = inputs_text.to(device), labels.to(device)\n",
        "\n",
        "        outputs = model_bert(inputs_text)\n",
        "        val_accuracy += compute_accuracy(outputs.logits, labels)\n",
        "        num_val_steps += 1\n",
        "\n",
        "avg_val_accuracy = val_accuracy / num_val_steps\n",
        "\n",
        "print(f\"Validation Accuracy: {avg_val_accuracy:.4f}\")\n"
      ]
    },
    {
      "cell_type": "code",
      "source": [
        "# Evaluation loop\n",
        "model_bert.eval()\n",
        "predictions = []\n",
        "true_labels = []\n",
        "\n",
        "with torch.no_grad():\n",
        "    for batch in test_dataloader:\n",
        "        inputs_text, labels = batch\n",
        "        inputs_text, labels = inputs_text.to(device), labels.to(device)\n",
        "\n",
        "        outputs = model_bert(inputs_text)\n",
        "        predicted_labels = torch.argmax(outputs.logits, dim=1)\n",
        "\n",
        "        predictions.extend(predicted_labels.tolist())\n",
        "        true_labels.extend(labels.tolist())\n"
      ],
      "metadata": {
        "id": "lo1bd4rJgFqG"
      },
      "execution_count": 76,
      "outputs": []
    },
    {
      "cell_type": "code",
      "source": [
        "# Classification report\n",
        "print(classification_report(true_labels, predictions))\n"
      ],
      "metadata": {
        "colab": {
          "base_uri": "https://localhost:8080/"
        },
        "id": "ogl0i5UBjRB9",
        "outputId": "bf5b2f80-f756-4a64-915b-7f9ca83af48b"
      },
      "execution_count": 77,
      "outputs": [
        {
          "output_type": "stream",
          "name": "stdout",
          "text": [
            "              precision    recall  f1-score   support\n",
            "\n",
            "           0       0.76      0.75      0.76       368\n",
            "           1       0.93      0.90      0.91       318\n",
            "           2       0.67      0.63      0.65       307\n",
            "           3       0.70      0.76      0.73       347\n",
            "           4       0.88      0.91      0.89       310\n",
            "\n",
            "    accuracy                           0.79      1650\n",
            "   macro avg       0.79      0.79      0.79      1650\n",
            "weighted avg       0.79      0.79      0.79      1650\n",
            "\n"
          ]
        }
      ]
    },
    {
      "cell_type": "code",
      "source": [
        "# Generate confusion matrix\n",
        "conf_matrix = confusion_matrix(true_labels, predictions)\n",
        "\n",
        "# Display the confusion matrix using a heatmap\n",
        "plt.figure(figsize=(6, 5))\n",
        "sns.heatmap(conf_matrix, annot=True, fmt=\"d\", cmap=\"Blues\", xticklabels=['institution', 'died in', 'born in', 'born on', 'has degree'], yticklabels=['institution', 'died in', 'born in', 'born on', 'has degree'])\n",
        "plt.title(\"Confusion Matrix\")\n",
        "plt.xlabel(\"Predicted Label\")\n",
        "plt.ylabel(\"True Label\")\n",
        "plt.show()"
      ],
      "metadata": {
        "colab": {
          "base_uri": "https://localhost:8080/",
          "height": 487
        },
        "id": "9szEF_-iUl79",
        "outputId": "c6710b4f-ee24-4301-fa7a-854327655f71"
      },
      "execution_count": 78,
      "outputs": [
        {
          "output_type": "display_data",
          "data": {
            "text/plain": [
              "<Figure size 600x500 with 2 Axes>"
            ],
            "image/png": "[encoded data removed]"
          },
          "metadata": {}
        }
      ]
    }
  ]
}