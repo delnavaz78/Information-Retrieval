{
  "nbformat": 4,
  "nbformat_minor": 0,
  "metadata": {
    "colab": {
      "provenance": [],
      "gpuType": "T4"
    },
    "kernelspec": {
      "name": "python3",
      "display_name": "Python 3"
    },
    "language_info": {
      "name": "python"
    },
    "accelerator": "GPU",
    "widgets": {
      "application/vnd.jupyter.widget-state+json": {
        "f4a70fadeeb3409a864bcbcde6ecc736": {
          "model_module": "@jupyter-widgets/controls",
          "model_name": "HBoxModel",
          "model_module_version": "1.5.0",
          "state": {
            "_dom_classes": [],
            "_model_module": "@jupyter-widgets/controls",
            "_model_module_version": "1.5.0",
            "_model_name": "HBoxModel",
            "_view_count": null,
            "_view_module": "@jupyter-widgets/controls",
            "_view_module_version": "1.5.0",
            "_view_name": "HBoxView",
            "box_style": "",
            "children": [
              "IPY_MODEL_ac9a768b19744f79b0ea122a2c4e9ae3",
              "IPY_MODEL_859d93a7e28142239f1a21d497dd9b65",
              "IPY_MODEL_f65a1e5293ee4c259931ffcb4d7861bc"
            ],
            "layout": "IPY_MODEL_a7434fa98fbc479680c4b772c3472bba"
          }
        },
        "ac9a768b19744f79b0ea122a2c4e9ae3": {
          "model_module": "@jupyter-widgets/controls",
          "model_name": "HTMLModel",
          "model_module_version": "1.5.0",
          "state": {
            "_dom_classes": [],
            "_model_module": "@jupyter-widgets/controls",
            "_model_module_version": "1.5.0",
            "_model_name": "HTMLModel",
            "_view_count": null,
            "_view_module": "@jupyter-widgets/controls",
            "_view_module_version": "1.5.0",
            "_view_name": "HTMLView",
            "description": "",
            "description_tooltip": null,
            "layout": "IPY_MODEL_128733d3af774d608542180a4961ec79",
            "placeholder": "​",
            "style": "IPY_MODEL_52c92b87a73144479d2b3f68ead2c6bf",
            "value": "tokenizer_config.json: 100%"
          }
        },
        "859d93a7e28142239f1a21d497dd9b65": {
          "model_module": "@jupyter-widgets/controls",
          "model_name": "FloatProgressModel",
          "model_module_version": "1.5.0",
          "state": {
            "_dom_classes": [],
            "_model_module": "@jupyter-widgets/controls",
            "_model_module_version": "1.5.0",
            "_model_name": "FloatProgressModel",
            "_view_count": null,
            "_view_module": "@jupyter-widgets/controls",
            "_view_module_version": "1.5.0",
            "_view_name": "ProgressView",
            "bar_style": "success",
            "description": "",
            "description_tooltip": null,
            "layout": "IPY_MODEL_8b9218dad8a64f8b9e0a45776d1d6635",
            "max": 48,
            "min": 0,
            "orientation": "horizontal",
            "style": "IPY_MODEL_3edf56068e7743f3b27140c35d11b629",
            "value": 48
          }
        },
        "f65a1e5293ee4c259931ffcb4d7861bc": {
          "model_module": "@jupyter-widgets/controls",
          "model_name": "HTMLModel",
          "model_module_version": "1.5.0",
          "state": {
            "_dom_classes": [],
            "_model_module": "@jupyter-widgets/controls",
            "_model_module_version": "1.5.0",
            "_model_name": "HTMLModel",
            "_view_count": null,
            "_view_module": "@jupyter-widgets/controls",
            "_view_module_version": "1.5.0",
            "_view_name": "HTMLView",
            "description": "",
            "description_tooltip": null,
            "layout": "IPY_MODEL_4ed5117d3f214a3abcb478c44d445f8a",
            "placeholder": "​",
            "style": "IPY_MODEL_78c1acbe7e70468181813038eb98d1d2",
            "value": " 48.0/48.0 [00:00&lt;00:00, 1.54kB/s]"
          }
        },
        "a7434fa98fbc479680c4b772c3472bba": {
          "model_module": "@jupyter-widgets/base",
          "model_name": "LayoutModel",
          "model_module_version": "1.2.0",
          "state": {
            "_model_module": "@jupyter-widgets/base",
            "_model_module_version": "1.2.0",
            "_model_name": "LayoutModel",
            "_view_count": null,
            "_view_module": "@jupyter-widgets/base",
            "_view_module_version": "1.2.0",
            "_view_name": "LayoutView",
            "align_content": null,
            "align_items": null,
            "align_self": null,
            "border": null,
            "bottom": null,
            "display": null,
            "flex": null,
            "flex_flow": null,
            "grid_area": null,
            "grid_auto_columns": null,
            "grid_auto_flow": null,
            "grid_auto_rows": null,
            "grid_column": null,
            "grid_gap": null,
            "grid_row": null,
            "grid_template_areas": null,
            "grid_template_columns": null,
            "grid_template_rows": null,
            "height": null,
            "justify_content": null,
            "justify_items": null,
            "left": null,
            "margin": null,
            "max_height": null,
            "max_width": null,
            "min_height": null,
            "min_width": null,
            "object_fit": null,
            "object_position": null,
            "order": null,
            "overflow": null,
            "overflow_x": null,
            "overflow_y": null,
            "padding": null,
            "right": null,
            "top": null,
            "visibility": null,
            "width": null
          }
        },
        "128733d3af774d608542180a4961ec79": {
          "model_module": "@jupyter-widgets/base",
          "model_name": "LayoutModel",
          "model_module_version": "1.2.0",
          "state": {
            "_model_module": "@jupyter-widgets/base",
            "_model_module_version": "1.2.0",
            "_model_name": "LayoutModel",
            "_view_count": null,
            "_view_module": "@jupyter-widgets/base",
            "_view_module_version": "1.2.0",
            "_view_name": "LayoutView",
            "align_content": null,
            "align_items": null,
            "align_self": null,
            "border": null,
            "bottom": null,
            "display": null,
            "flex": null,
            "flex_flow": null,
            "grid_area": null,
            "grid_auto_columns": null,
            "grid_auto_flow": null,
            "grid_auto_rows": null,
            "grid_column": null,
            "grid_gap": null,
            "grid_row": null,
            "grid_template_areas": null,
            "grid_template_columns": null,
            "grid_template_rows": null,
            "height": null,
            "justify_content": null,
            "justify_items": null,
            "left": null,
            "margin": null,
            "max_height": null,
            "max_width": null,
            "min_height": null,
            "min_width": null,
            "object_fit": null,
            "object_position": null,
            "order": null,
            "overflow": null,
            "overflow_x": null,
            "overflow_y": null,
            "padding": null,
            "right": null,
            "top": null,
            "visibility": null,
            "width": null
          }
        },
        "52c92b87a73144479d2b3f68ead2c6bf": {
          "model_module": "@jupyter-widgets/controls",
          "model_name": "DescriptionStyleModel",
          "model_module_version": "1.5.0",
          "state": {
            "_model_module": "@jupyter-widgets/controls",
            "_model_module_version": "1.5.0",
            "_model_name": "DescriptionStyleModel",
            "_view_count": null,
            "_view_module": "@jupyter-widgets/base",
            "_view_module_version": "1.2.0",
            "_view_name": "StyleView",
            "description_width": ""
          }
        },
        "8b9218dad8a64f8b9e0a45776d1d6635": {
          "model_module": "@jupyter-widgets/base",
          "model_name": "LayoutModel",
          "model_module_version": "1.2.0",
          "state": {
            "_model_module": "@jupyter-widgets/base",
            "_model_module_version": "1.2.0",
            "_model_name": "LayoutModel",
            "_view_count": null,
            "_view_module": "@jupyter-widgets/base",
            "_view_module_version": "1.2.0",
            "_view_name": "LayoutView",
            "align_content": null,
            "align_items": null,
            "align_self": null,
            "border": null,
            "bottom": null,
            "display": null,
            "flex": null,
            "flex_flow": null,
            "grid_area": null,
            "grid_auto_columns": null,
            "grid_auto_flow": null,
            "grid_auto_rows": null,
            "grid_column": null,
            "grid_gap": null,
            "grid_row": null,
            "grid_template_areas": null,
            "grid_template_columns": null,
            "grid_template_rows": null,
            "height": null,
            "justify_content": null,
            "justify_items": null,
            "left": null,
            "margin": null,
            "max_height": null,
            "max_width": null,
            "min_height": null,
            "min_width": null,
            "object_fit": null,
            "object_position": null,
            "order": null,
            "overflow": null,
            "overflow_x": null,
            "overflow_y": null,
            "padding": null,
            "right": null,
            "top": null,
            "visibility": null,
            "width": null
          }
        },
        "3edf56068e7743f3b27140c35d11b629": {
          "model_module": "@jupyter-widgets/controls",
          "model_name": "ProgressStyleModel",
          "model_module_version": "1.5.0",
          "state": {
            "_model_module": "@jupyter-widgets/controls",
            "_model_module_version": "1.5.0",
            "_model_name": "ProgressStyleModel",
            "_view_count": null,
            "_view_module": "@jupyter-widgets/base",
            "_view_module_version": "1.2.0",
            "_view_name": "StyleView",
            "bar_color": null,
            "description_width": ""
          }
        },
        "4ed5117d3f214a3abcb478c44d445f8a": {
          "model_module": "@jupyter-widgets/base",
          "model_name": "LayoutModel",
          "model_module_version": "1.2.0",
          "state": {
            "_model_module": "@jupyter-widgets/base",
            "_model_module_version": "1.2.0",
            "_model_name": "LayoutModel",
            "_view_count": null,
            "_view_module": "@jupyter-widgets/base",
            "_view_module_version": "1.2.0",
            "_view_name": "LayoutView",
            "align_content": null,
            "align_items": null,
            "align_self": null,
            "border": null,
            "bottom": null,
            "display": null,
            "flex": null,
            "flex_flow": null,
            "grid_area": null,
            "grid_auto_columns": null,
            "grid_auto_flow": null,
            "grid_auto_rows": null,
            "grid_column": null,
            "grid_gap": null,
            "grid_row": null,
            "grid_template_areas": null,
            "grid_template_columns": null,
            "grid_template_rows": null,
            "height": null,
            "justify_content": null,
            "justify_items": null,
            "left": null,
            "margin": null,
            "max_height": null,
            "max_width": null,
            "min_height": null,
            "min_width": null,
            "object_fit": null,
            "object_position": null,
            "order": null,
            "overflow": null,
            "overflow_x": null,
            "overflow_y": null,
            "padding": null,
            "right": null,
            "top": null,
            "visibility": null,
            "width": null
          }
        },
        "78c1acbe7e70468181813038eb98d1d2": {
          "model_module": "@jupyter-widgets/controls",
          "model_name": "DescriptionStyleModel",
          "model_module_version": "1.5.0",
          "state": {
            "_model_module": "@jupyter-widgets/controls",
            "_model_module_version": "1.5.0",
            "_model_name": "DescriptionStyleModel",
            "_view_count": null,
            "_view_module": "@jupyter-widgets/base",
            "_view_module_version": "1.2.0",
            "_view_name": "StyleView",
            "description_width": ""
          }
        },
        "b5bbb087a8f64006b38d1d5475f68d66": {
          "model_module": "@jupyter-widgets/controls",
          "model_name": "HBoxModel",
          "model_module_version": "1.5.0",
          "state": {
            "_dom_classes": [],
            "_model_module": "@jupyter-widgets/controls",
            "_model_module_version": "1.5.0",
            "_model_name": "HBoxModel",
            "_view_count": null,
            "_view_module": "@jupyter-widgets/controls",
            "_view_module_version": "1.5.0",
            "_view_name": "HBoxView",
            "box_style": "",
            "children": [
              "IPY_MODEL_6defa352d3f74eceb36052cea42430e4",
              "IPY_MODEL_1042be4f04334c7cb569288fe0ed7a1d",
              "IPY_MODEL_ba5ee9f1e953490db35100f788f61aa4"
            ],
            "layout": "IPY_MODEL_395aaddbc4794b119db2ad440bc89eda"
          }
        },
        "6defa352d3f74eceb36052cea42430e4": {
          "model_module": "@jupyter-widgets/controls",
          "model_name": "HTMLModel",
          "model_module_version": "1.5.0",
          "state": {
            "_dom_classes": [],
            "_model_module": "@jupyter-widgets/controls",
            "_model_module_version": "1.5.0",
            "_model_name": "HTMLModel",
            "_view_count": null,
            "_view_module": "@jupyter-widgets/controls",
            "_view_module_version": "1.5.0",
            "_view_name": "HTMLView",
            "description": "",
            "description_tooltip": null,
            "layout": "IPY_MODEL_ec3190eb0afa4d4abb11b4710ded8829",
            "placeholder": "​",
            "style": "IPY_MODEL_c9cca9a014964f7cb1f822f6a63f3728",
            "value": "vocab.txt: 100%"
          }
        },
        "1042be4f04334c7cb569288fe0ed7a1d": {
          "model_module": "@jupyter-widgets/controls",
          "model_name": "FloatProgressModel",
          "model_module_version": "1.5.0",
          "state": {
            "_dom_classes": [],
            "_model_module": "@jupyter-widgets/controls",
            "_model_module_version": "1.5.0",
            "_model_name": "FloatProgressModel",
            "_view_count": null,
            "_view_module": "@jupyter-widgets/controls",
            "_view_module_version": "1.5.0",
            "_view_name": "ProgressView",
            "bar_style": "success",
            "description": "",
            "description_tooltip": null,
            "layout": "IPY_MODEL_3341c98cd3124af8bef79c4b7b9dfb3a",
            "max": 231508,
            "min": 0,
            "orientation": "horizontal",
            "style": "IPY_MODEL_07c968f795a04c278083dbf837aa95b5",
            "value": 231508
          }
        },
        "ba5ee9f1e953490db35100f788f61aa4": {
          "model_module": "@jupyter-widgets/controls",
          "model_name": "HTMLModel",
          "model_module_version": "1.5.0",
          "state": {
            "_dom_classes": [],
            "_model_module": "@jupyter-widgets/controls",
            "_model_module_version": "1.5.0",
            "_model_name": "HTMLModel",
            "_view_count": null,
            "_view_module": "@jupyter-widgets/controls",
            "_view_module_version": "1.5.0",
            "_view_name": "HTMLView",
            "description": "",
            "description_tooltip": null,
            "layout": "IPY_MODEL_98a20cbbc92d43f7b594ebb5c868cbbe",
            "placeholder": "​",
            "style": "IPY_MODEL_f34a834e5243401ab1beaf126f517898",
            "value": " 232k/232k [00:00&lt;00:00, 7.09MB/s]"
          }
        },
        "395aaddbc4794b119db2ad440bc89eda": {
          "model_module": "@jupyter-widgets/base",
          "model_name": "LayoutModel",
          "model_module_version": "1.2.0",
          "state": {
            "_model_module": "@jupyter-widgets/base",
            "_model_module_version": "1.2.0",
            "_model_name": "LayoutModel",
            "_view_count": null,
            "_view_module": "@jupyter-widgets/base",
            "_view_module_version": "1.2.0",
            "_view_name": "LayoutView",
            "align_content": null,
            "align_items": null,
            "align_self": null,
            "border": null,
            "bottom": null,
            "display": null,
            "flex": null,
            "flex_flow": null,
            "grid_area": null,
            "grid_auto_columns": null,
            "grid_auto_flow": null,
            "grid_auto_rows": null,
            "grid_column": null,
            "grid_gap": null,
            "grid_row": null,
            "grid_template_areas": null,
            "grid_template_columns": null,
            "grid_template_rows": null,
            "height": null,
            "justify_content": null,
            "justify_items": null,
            "left": null,
            "margin": null,
            "max_height": null,
            "max_width": null,
            "min_height": null,
            "min_width": null,
            "object_fit": null,
            "object_position": null,
            "order": null,
            "overflow": null,
            "overflow_x": null,
            "overflow_y": null,
            "padding": null,
            "right": null,
            "top": null,
            "visibility": null,
            "width": null
          }
        },
        "ec3190eb0afa4d4abb11b4710ded8829": {
          "model_module": "@jupyter-widgets/base",
          "model_name": "LayoutModel",
          "model_module_version": "1.2.0",
          "state": {
            "_model_module": "@jupyter-widgets/base",
            "_model_module_version": "1.2.0",
            "_model_name": "LayoutModel",
            "_view_count": null,
            "_view_module": "@jupyter-widgets/base",
            "_view_module_version": "1.2.0",
            "_view_name": "LayoutView",
            "align_content": null,
            "align_items": null,
            "align_self": null,
            "border": null,
            "bottom": null,
            "display": null,
            "flex": null,
            "flex_flow": null,
            "grid_area": null,
            "grid_auto_columns": null,
            "grid_auto_flow": null,
            "grid_auto_rows": null,
            "grid_column": null,
            "grid_gap": null,
            "grid_row": null,
            "grid_template_areas": null,
            "grid_template_columns": null,
            "grid_template_rows": null,
            "height": null,
            "justify_content": null,
            "justify_items": null,
            "left": null,
            "margin": null,
            "max_height": null,
            "max_width": null,
            "min_height": null,
            "min_width": null,
            "object_fit": null,
            "object_position": null,
            "order": null,
            "overflow": null,
            "overflow_x": null,
            "overflow_y": null,
            "padding": null,
            "right": null,
            "top": null,
            "visibility": null,
            "width": null
          }
        },
        "c9cca9a014964f7cb1f822f6a63f3728": {
          "model_module": "@jupyter-widgets/controls",
          "model_name": "DescriptionStyleModel",
          "model_module_version": "1.5.0",
          "state": {
            "_model_module": "@jupyter-widgets/controls",
            "_model_module_version": "1.5.0",
            "_model_name": "DescriptionStyleModel",
            "_view_count": null,
            "_view_module": "@jupyter-widgets/base",
            "_view_module_version": "1.2.0",
            "_view_name": "StyleView",
            "description_width": ""
          }
        },
        "3341c98cd3124af8bef79c4b7b9dfb3a": {
          "model_module": "@jupyter-widgets/base",
          "model_name": "LayoutModel",
          "model_module_version": "1.2.0",
          "state": {
            "_model_module": "@jupyter-widgets/base",
            "_model_module_version": "1.2.0",
            "_model_name": "LayoutModel",
            "_view_count": null,
            "_view_module": "@jupyter-widgets/base",
            "_view_module_version": "1.2.0",
            "_view_name": "LayoutView",
            "align_content": null,
            "align_items": null,
            "align_self": null,
            "border": null,
            "bottom": null,
            "display": null,
            "flex": null,
            "flex_flow": null,
            "grid_area": null,
            "grid_auto_columns": null,
            "grid_auto_flow": null,
            "grid_auto_rows": null,
            "grid_column": null,
            "grid_gap": null,
            "grid_row": null,
            "grid_template_areas": null,
            "grid_template_columns": null,
            "grid_template_rows": null,
            "height": null,
            "justify_content": null,
            "justify_items": null,
            "left": null,
            "margin": null,
            "max_height": null,
            "max_width": null,
            "min_height": null,
            "min_width": null,
            "object_fit": null,
            "object_position": null,
            "order": null,
            "overflow": null,
            "overflow_x": null,
            "overflow_y": null,
            "padding": null,
            "right": null,
            "top": null,
            "visibility": null,
            "width": null
          }
        },
        "07c968f795a04c278083dbf837aa95b5": {
          "model_module": "@jupyter-widgets/controls",
          "model_name": "ProgressStyleModel",
          "model_module_version": "1.5.0",
          "state": {
            "_model_module": "@jupyter-widgets/controls",
            "_model_module_version": "1.5.0",
            "_model_name": "ProgressStyleModel",
            "_view_count": null,
            "_view_module": "@jupyter-widgets/base",
            "_view_module_version": "1.2.0",
            "_view_name": "StyleView",
            "bar_color": null,
            "description_width": ""
          }
        },
        "98a20cbbc92d43f7b594ebb5c868cbbe": {
          "model_module": "@jupyter-widgets/base",
          "model_name": "LayoutModel",
          "model_module_version": "1.2.0",
          "state": {
            "_model_module": "@jupyter-widgets/base",
            "_model_module_version": "1.2.0",
            "_model_name": "LayoutModel",
            "_view_count": null,
            "_view_module": "@jupyter-widgets/base",
            "_view_module_version": "1.2.0",
            "_view_name": "LayoutView",
            "align_content": null,
            "align_items": null,
            "align_self": null,
            "border": null,
            "bottom": null,
            "display": null,
            "flex": null,
            "flex_flow": null,
            "grid_area": null,
            "grid_auto_columns": null,
            "grid_auto_flow": null,
            "grid_auto_rows": null,
            "grid_column": null,
            "grid_gap": null,
            "grid_row": null,
            "grid_template_areas": null,
            "grid_template_columns": null,
            "grid_template_rows": null,
            "height": null,
            "justify_content": null,
            "justify_items": null,
            "left": null,
            "margin": null,
            "max_height": null,
            "max_width": null,
            "min_height": null,
            "min_width": null,
            "object_fit": null,
            "object_position": null,
            "order": null,
            "overflow": null,
            "overflow_x": null,
            "overflow_y": null,
            "padding": null,
            "right": null,
            "top": null,
            "visibility": null,
            "width": null
          }
        },
        "f34a834e5243401ab1beaf126f517898": {
          "model_module": "@jupyter-widgets/controls",
          "model_name": "DescriptionStyleModel",
          "model_module_version": "1.5.0",
          "state": {
            "_model_module": "@jupyter-widgets/controls",
            "_model_module_version": "1.5.0",
            "_model_name": "DescriptionStyleModel",
            "_view_count": null,
            "_view_module": "@jupyter-widgets/base",
            "_view_module_version": "1.2.0",
            "_view_name": "StyleView",
            "description_width": ""
          }
        },
        "4efa7ea1b09b4f8b8d07645b3ceb0385": {
          "model_module": "@jupyter-widgets/controls",
          "model_name": "HBoxModel",
          "model_module_version": "1.5.0",
          "state": {
            "_dom_classes": [],
            "_model_module": "@jupyter-widgets/controls",
            "_model_module_version": "1.5.0",
            "_model_name": "HBoxModel",
            "_view_count": null,
            "_view_module": "@jupyter-widgets/controls",
            "_view_module_version": "1.5.0",
            "_view_name": "HBoxView",
            "box_style": "",
            "children": [
              "IPY_MODEL_3b7b254e238e4faea5286bd91012e0ff",
              "IPY_MODEL_89d31cd645144ec9893762872ec9d93b",
              "IPY_MODEL_96af3c899dd8444e8d9b62dbd1dcdf05"
            ],
            "layout": "IPY_MODEL_33969f500e3545b3982604866b27302d"
          }
        },
        "3b7b254e238e4faea5286bd91012e0ff": {
          "model_module": "@jupyter-widgets/controls",
          "model_name": "HTMLModel",
          "model_module_version": "1.5.0",
          "state": {
            "_dom_classes": [],
            "_model_module": "@jupyter-widgets/controls",
            "_model_module_version": "1.5.0",
            "_model_name": "HTMLModel",
            "_view_count": null,
            "_view_module": "@jupyter-widgets/controls",
            "_view_module_version": "1.5.0",
            "_view_name": "HTMLView",
            "description": "",
            "description_tooltip": null,
            "layout": "IPY_MODEL_2509ba4c70d344f9a9e60b965c5b5cb3",
            "placeholder": "​",
            "style": "IPY_MODEL_e7c57b1819c049df8576338dcb9f6676",
            "value": "tokenizer.json: 100%"
          }
        },
        "89d31cd645144ec9893762872ec9d93b": {
          "model_module": "@jupyter-widgets/controls",
          "model_name": "FloatProgressModel",
          "model_module_version": "1.5.0",
          "state": {
            "_dom_classes": [],
            "_model_module": "@jupyter-widgets/controls",
            "_model_module_version": "1.5.0",
            "_model_name": "FloatProgressModel",
            "_view_count": null,
            "_view_module": "@jupyter-widgets/controls",
            "_view_module_version": "1.5.0",
            "_view_name": "ProgressView",
            "bar_style": "success",
            "description": "",
            "description_tooltip": null,
            "layout": "IPY_MODEL_e4b7e9358bd74c80b1226a1371552b7e",
            "max": 466062,
            "min": 0,
            "orientation": "horizontal",
            "style": "IPY_MODEL_72e21b43c8924a5f8cf5c85ae2015566",
            "value": 466062
          }
        },
        "96af3c899dd8444e8d9b62dbd1dcdf05": {
          "model_module": "@jupyter-widgets/controls",
          "model_name": "HTMLModel",
          "model_module_version": "1.5.0",
          "state": {
            "_dom_classes": [],
            "_model_module": "@jupyter-widgets/controls",
            "_model_module_version": "1.5.0",
            "_model_name": "HTMLModel",
            "_view_count": null,
            "_view_module": "@jupyter-widgets/controls",
            "_view_module_version": "1.5.0",
            "_view_name": "HTMLView",
            "description": "",
            "description_tooltip": null,
            "layout": "IPY_MODEL_b57458f05be34942b45e09c2c8be42d9",
            "placeholder": "​",
            "style": "IPY_MODEL_2729565c6abf4db2b4706fcc4119cfc2",
            "value": " 466k/466k [00:00&lt;00:00, 9.81MB/s]"
          }
        },
        "33969f500e3545b3982604866b27302d": {
          "model_module": "@jupyter-widgets/base",
          "model_name": "LayoutModel",
          "model_module_version": "1.2.0",
          "state": {
            "_model_module": "@jupyter-widgets/base",
            "_model_module_version": "1.2.0",
            "_model_name": "LayoutModel",
            "_view_count": null,
            "_view_module": "@jupyter-widgets/base",
            "_view_module_version": "1.2.0",
            "_view_name": "LayoutView",
            "align_content": null,
            "align_items": null,
            "align_self": null,
            "border": null,
            "bottom": null,
            "display": null,
            "flex": null,
            "flex_flow": null,
            "grid_area": null,
            "grid_auto_columns": null,
            "grid_auto_flow": null,
            "grid_auto_rows": null,
            "grid_column": null,
            "grid_gap": null,
            "grid_row": null,
            "grid_template_areas": null,
            "grid_template_columns": null,
            "grid_template_rows": null,
            "height": null,
            "justify_content": null,
            "justify_items": null,
            "left": null,
            "margin": null,
            "max_height": null,
            "max_width": null,
            "min_height": null,
            "min_width": null,
            "object_fit": null,
            "object_position": null,
            "order": null,
            "overflow": null,
            "overflow_x": null,
            "overflow_y": null,
            "padding": null,
            "right": null,
            "top": null,
            "visibility": null,
            "width": null
          }
        },
        "2509ba4c70d344f9a9e60b965c5b5cb3": {
          "model_module": "@jupyter-widgets/base",
          "model_name": "LayoutModel",
          "model_module_version": "1.2.0",
          "state": {
            "_model_module": "@jupyter-widgets/base",
            "_model_module_version": "1.2.0",
            "_model_name": "LayoutModel",
            "_view_count": null,
            "_view_module": "@jupyter-widgets/base",
            "_view_module_version": "1.2.0",
            "_view_name": "LayoutView",
            "align_content": null,
            "align_items": null,
            "align_self": null,
            "border": null,
            "bottom": null,
            "display": null,
            "flex": null,
            "flex_flow": null,
            "grid_area": null,
            "grid_auto_columns": null,
            "grid_auto_flow": null,
            "grid_auto_rows": null,
            "grid_column": null,
            "grid_gap": null,
            "grid_row": null,
            "grid_template_areas": null,
            "grid_template_columns": null,
            "grid_template_rows": null,
            "height": null,
            "justify_content": null,
            "justify_items": null,
            "left": null,
            "margin": null,
            "max_height": null,
            "max_width": null,
            "min_height": null,
            "min_width": null,
            "object_fit": null,
            "object_position": null,
            "order": null,
            "overflow": null,
            "overflow_x": null,
            "overflow_y": null,
            "padding": null,
            "right": null,
            "top": null,
            "visibility": null,
            "width": null
          }
        },
        "e7c57b1819c049df8576338dcb9f6676": {
          "model_module": "@jupyter-widgets/controls",
          "model_name": "DescriptionStyleModel",
          "model_module_version": "1.5.0",
          "state": {
            "_model_module": "@jupyter-widgets/controls",
            "_model_module_version": "1.5.0",
            "_model_name": "DescriptionStyleModel",
            "_view_count": null,
            "_view_module": "@jupyter-widgets/base",
            "_view_module_version": "1.2.0",
            "_view_name": "StyleView",
            "description_width": ""
          }
        },
        "e4b7e9358bd74c80b1226a1371552b7e": {
          "model_module": "@jupyter-widgets/base",
          "model_name": "LayoutModel",
          "model_module_version": "1.2.0",
          "state": {
            "_model_module": "@jupyter-widgets/base",
            "_model_module_version": "1.2.0",
            "_model_name": "LayoutModel",
            "_view_count": null,
            "_view_module": "@jupyter-widgets/base",
            "_view_module_version": "1.2.0",
            "_view_name": "LayoutView",
            "align_content": null,
            "align_items": null,
            "align_self": null,
            "border": null,
            "bottom": null,
            "display": null,
            "flex": null,
            "flex_flow": null,
            "grid_area": null,
            "grid_auto_columns": null,
            "grid_auto_flow": null,
            "grid_auto_rows": null,
            "grid_column": null,
            "grid_gap": null,
            "grid_row": null,
            "grid_template_areas": null,
            "grid_template_columns": null,
            "grid_template_rows": null,
            "height": null,
            "justify_content": null,
            "justify_items": null,
            "left": null,
            "margin": null,
            "max_height": null,
            "max_width": null,
            "min_height": null,
            "min_width": null,
            "object_fit": null,
            "object_position": null,
            "order": null,
            "overflow": null,
            "overflow_x": null,
            "overflow_y": null,
            "padding": null,
            "right": null,
            "top": null,
            "visibility": null,
            "width": null
          }
        },
        "72e21b43c8924a5f8cf5c85ae2015566": {
          "model_module": "@jupyter-widgets/controls",
          "model_name": "ProgressStyleModel",
          "model_module_version": "1.5.0",
          "state": {
            "_model_module": "@jupyter-widgets/controls",
            "_model_module_version": "1.5.0",
            "_model_name": "ProgressStyleModel",
            "_view_count": null,
            "_view_module": "@jupyter-widgets/base",
            "_view_module_version": "1.2.0",
            "_view_name": "StyleView",
            "bar_color": null,
            "description_width": ""
          }
        },
        "b57458f05be34942b45e09c2c8be42d9": {
          "model_module": "@jupyter-widgets/base",
          "model_name": "LayoutModel",
          "model_module_version": "1.2.0",
          "state": {
            "_model_module": "@jupyter-widgets/base",
            "_model_module_version": "1.2.0",
            "_model_name": "LayoutModel",
            "_view_count": null,
            "_view_module": "@jupyter-widgets/base",
            "_view_module_version": "1.2.0",
            "_view_name": "LayoutView",
            "align_content": null,
            "align_items": null,
            "align_self": null,
            "border": null,
            "bottom": null,
            "display": null,
            "flex": null,
            "flex_flow": null,
            "grid_area": null,
            "grid_auto_columns": null,
            "grid_auto_flow": null,
            "grid_auto_rows": null,
            "grid_column": null,
            "grid_gap": null,
            "grid_row": null,
            "grid_template_areas": null,
            "grid_template_columns": null,
            "grid_template_rows": null,
            "height": null,
            "justify_content": null,
            "justify_items": null,
            "left": null,
            "margin": null,
            "max_height": null,
            "max_width": null,
            "min_height": null,
            "min_width": null,
            "object_fit": null,
            "object_position": null,
            "order": null,
            "overflow": null,
            "overflow_x": null,
            "overflow_y": null,
            "padding": null,
            "right": null,
            "top": null,
            "visibility": null,
            "width": null
          }
        },
        "2729565c6abf4db2b4706fcc4119cfc2": {
          "model_module": "@jupyter-widgets/controls",
          "model_name": "DescriptionStyleModel",
          "model_module_version": "1.5.0",
          "state": {
            "_model_module": "@jupyter-widgets/controls",
            "_model_module_version": "1.5.0",
            "_model_name": "DescriptionStyleModel",
            "_view_count": null,
            "_view_module": "@jupyter-widgets/base",
            "_view_module_version": "1.2.0",
            "_view_name": "StyleView",
            "description_width": ""
          }
        },
        "bfc882b50cb444959cbf05f9ebef3036": {
          "model_module": "@jupyter-widgets/controls",
          "model_name": "HBoxModel",
          "model_module_version": "1.5.0",
          "state": {
            "_dom_classes": [],
            "_model_module": "@jupyter-widgets/controls",
            "_model_module_version": "1.5.0",
            "_model_name": "HBoxModel",
            "_view_count": null,
            "_view_module": "@jupyter-widgets/controls",
            "_view_module_version": "1.5.0",
            "_view_name": "HBoxView",
            "box_style": "",
            "children": [
              "IPY_MODEL_c3adccde04bf4b7cae57813a02b4567c",
              "IPY_MODEL_a3e61e3a791249cca4b2488e7c001c34",
              "IPY_MODEL_f84707cd3e2f47859b79eb84a23c396b"
            ],
            "layout": "IPY_MODEL_e919114739b9465fbe67ef71d80d62d2"
          }
        },
        "c3adccde04bf4b7cae57813a02b4567c": {
          "model_module": "@jupyter-widgets/controls",
          "model_name": "HTMLModel",
          "model_module_version": "1.5.0",
          "state": {
            "_dom_classes": [],
            "_model_module": "@jupyter-widgets/controls",
            "_model_module_version": "1.5.0",
            "_model_name": "HTMLModel",
            "_view_count": null,
            "_view_module": "@jupyter-widgets/controls",
            "_view_module_version": "1.5.0",
            "_view_name": "HTMLView",
            "description": "",
            "description_tooltip": null,
            "layout": "IPY_MODEL_b2a841fe19d840439679e49ae176c17c",
            "placeholder": "​",
            "style": "IPY_MODEL_7df3d874dbf743e19c03a9fa59bd35f7",
            "value": "config.json: 100%"
          }
        },
        "a3e61e3a791249cca4b2488e7c001c34": {
          "model_module": "@jupyter-widgets/controls",
          "model_name": "FloatProgressModel",
          "model_module_version": "1.5.0",
          "state": {
            "_dom_classes": [],
            "_model_module": "@jupyter-widgets/controls",
            "_model_module_version": "1.5.0",
            "_model_name": "FloatProgressModel",
            "_view_count": null,
            "_view_module": "@jupyter-widgets/controls",
            "_view_module_version": "1.5.0",
            "_view_name": "ProgressView",
            "bar_style": "success",
            "description": "",
            "description_tooltip": null,
            "layout": "IPY_MODEL_d91257dcc6b24250a4b10b32ff36c414",
            "max": 570,
            "min": 0,
            "orientation": "horizontal",
            "style": "IPY_MODEL_d7cdd7667b0843c393ac35e5f5558d38",
            "value": 570
          }
        },
        "f84707cd3e2f47859b79eb84a23c396b": {
          "model_module": "@jupyter-widgets/controls",
          "model_name": "HTMLModel",
          "model_module_version": "1.5.0",
          "state": {
            "_dom_classes": [],
            "_model_module": "@jupyter-widgets/controls",
            "_model_module_version": "1.5.0",
            "_model_name": "HTMLModel",
            "_view_count": null,
            "_view_module": "@jupyter-widgets/controls",
            "_view_module_version": "1.5.0",
            "_view_name": "HTMLView",
            "description": "",
            "description_tooltip": null,
            "layout": "IPY_MODEL_26b8d0d5e5dc41268ffbe8d871424537",
            "placeholder": "​",
            "style": "IPY_MODEL_41ef79313a184ebdb99477ca06312dcf",
            "value": " 570/570 [00:00&lt;00:00, 15.0kB/s]"
          }
        },
        "e919114739b9465fbe67ef71d80d62d2": {
          "model_module": "@jupyter-widgets/base",
          "model_name": "LayoutModel",
          "model_module_version": "1.2.0",
          "state": {
            "_model_module": "@jupyter-widgets/base",
            "_model_module_version": "1.2.0",
            "_model_name": "LayoutModel",
            "_view_count": null,
            "_view_module": "@jupyter-widgets/base",
            "_view_module_version": "1.2.0",
            "_view_name": "LayoutView",
            "align_content": null,
            "align_items": null,
            "align_self": null,
            "border": null,
            "bottom": null,
            "display": null,
            "flex": null,
            "flex_flow": null,
            "grid_area": null,
            "grid_auto_columns": null,
            "grid_auto_flow": null,
            "grid_auto_rows": null,
            "grid_column": null,
            "grid_gap": null,
            "grid_row": null,
            "grid_template_areas": null,
            "grid_template_columns": null,
            "grid_template_rows": null,
            "height": null,
            "justify_content": null,
            "justify_items": null,
            "left": null,
            "margin": null,
            "max_height": null,
            "max_width": null,
            "min_height": null,
            "min_width": null,
            "object_fit": null,
            "object_position": null,
            "order": null,
            "overflow": null,
            "overflow_x": null,
            "overflow_y": null,
            "padding": null,
            "right": null,
            "top": null,
            "visibility": null,
            "width": null
          }
        },
        "b2a841fe19d840439679e49ae176c17c": {
          "model_module": "@jupyter-widgets/base",
          "model_name": "LayoutModel",
          "model_module_version": "1.2.0",
          "state": {
            "_model_module": "@jupyter-widgets/base",
            "_model_module_version": "1.2.0",
            "_model_name": "LayoutModel",
            "_view_count": null,
            "_view_module": "@jupyter-widgets/base",
            "_view_module_version": "1.2.0",
            "_view_name": "LayoutView",
            "align_content": null,
            "align_items": null,
            "align_self": null,
            "border": null,
            "bottom": null,
            "display": null,
            "flex": null,
            "flex_flow": null,
            "grid_area": null,
            "grid_auto_columns": null,
            "grid_auto_flow": null,
            "grid_auto_rows": null,
            "grid_column": null,
            "grid_gap": null,
            "grid_row": null,
            "grid_template_areas": null,
            "grid_template_columns": null,
            "grid_template_rows": null,
            "height": null,
            "justify_content": null,
            "justify_items": null,
            "left": null,
            "margin": null,
            "max_height": null,
            "max_width": null,
            "min_height": null,
            "min_width": null,
            "object_fit": null,
            "object_position": null,
            "order": null,
            "overflow": null,
            "overflow_x": null,
            "overflow_y": null,
            "padding": null,
            "right": null,
            "top": null,
            "visibility": null,
            "width": null
          }
        },
        "7df3d874dbf743e19c03a9fa59bd35f7": {
          "model_module": "@jupyter-widgets/controls",
          "model_name": "DescriptionStyleModel",
          "model_module_version": "1.5.0",
          "state": {
            "_model_module": "@jupyter-widgets/controls",
            "_model_module_version": "1.5.0",
            "_model_name": "DescriptionStyleModel",
            "_view_count": null,
            "_view_module": "@jupyter-widgets/base",
            "_view_module_version": "1.2.0",
            "_view_name": "StyleView",
            "description_width": ""
          }
        },
        "d91257dcc6b24250a4b10b32ff36c414": {
          "model_module": "@jupyter-widgets/base",
          "model_name": "LayoutModel",
          "model_module_version": "1.2.0",
          "state": {
            "_model_module": "@jupyter-widgets/base",
            "_model_module_version": "1.2.0",
            "_model_name": "LayoutModel",
            "_view_count": null,
            "_view_module": "@jupyter-widgets/base",
            "_view_module_version": "1.2.0",
            "_view_name": "LayoutView",
            "align_content": null,
            "align_items": null,
            "align_self": null,
            "border": null,
            "bottom": null,
            "display": null,
            "flex": null,
            "flex_flow": null,
            "grid_area": null,
            "grid_auto_columns": null,
            "grid_auto_flow": null,
            "grid_auto_rows": null,
            "grid_column": null,
            "grid_gap": null,
            "grid_row": null,
            "grid_template_areas": null,
            "grid_template_columns": null,
            "grid_template_rows": null,
            "height": null,
            "justify_content": null,
            "justify_items": null,
            "left": null,
            "margin": null,
            "max_height": null,
            "max_width": null,
            "min_height": null,
            "min_width": null,
            "object_fit": null,
            "object_position": null,
            "order": null,
            "overflow": null,
            "overflow_x": null,
            "overflow_y": null,
            "padding": null,
            "right": null,
            "top": null,
            "visibility": null,
            "width": null
          }
        },
        "d7cdd7667b0843c393ac35e5f5558d38": {
          "model_module": "@jupyter-widgets/controls",
          "model_name": "ProgressStyleModel",
          "model_module_version": "1.5.0",
          "state": {
            "_model_module": "@jupyter-widgets/controls",
            "_model_module_version": "1.5.0",
            "_model_name": "ProgressStyleModel",
            "_view_count": null,
            "_view_module": "@jupyter-widgets/base",
            "_view_module_version": "1.2.0",
            "_view_name": "StyleView",
            "bar_color": null,
            "description_width": ""
          }
        },
        "26b8d0d5e5dc41268ffbe8d871424537": {
          "model_module": "@jupyter-widgets/base",
          "model_name": "LayoutModel",
          "model_module_version": "1.2.0",
          "state": {
            "_model_module": "@jupyter-widgets/base",
            "_model_module_version": "1.2.0",
            "_model_name": "LayoutModel",
            "_view_count": null,
            "_view_module": "@jupyter-widgets/base",
            "_view_module_version": "1.2.0",
            "_view_name": "LayoutView",
            "align_content": null,
            "align_items": null,
            "align_self": null,
            "border": null,
            "bottom": null,
            "display": null,
            "flex": null,
            "flex_flow": null,
            "grid_area": null,
            "grid_auto_columns": null,
            "grid_auto_flow": null,
            "grid_auto_rows": null,
            "grid_column": null,
            "grid_gap": null,
            "grid_row": null,
            "grid_template_areas": null,
            "grid_template_columns": null,
            "grid_template_rows": null,
            "height": null,
            "justify_content": null,
            "justify_items": null,
            "left": null,
            "margin": null,
            "max_height": null,
            "max_width": null,
            "min_height": null,
            "min_width": null,
            "object_fit": null,
            "object_position": null,
            "order": null,
            "overflow": null,
            "overflow_x": null,
            "overflow_y": null,
            "padding": null,
            "right": null,
            "top": null,
            "visibility": null,
            "width": null
          }
        },
        "41ef79313a184ebdb99477ca06312dcf": {
          "model_module": "@jupyter-widgets/controls",
          "model_name": "DescriptionStyleModel",
          "model_module_version": "1.5.0",
          "state": {
            "_model_module": "@jupyter-widgets/controls",
            "_model_module_version": "1.5.0",
            "_model_name": "DescriptionStyleModel",
            "_view_count": null,
            "_view_module": "@jupyter-widgets/base",
            "_view_module_version": "1.2.0",
            "_view_name": "StyleView",
            "description_width": ""
          }
        },
        "9438b6b8ae4a4fb58f9d39a3d069fe5f": {
          "model_module": "@jupyter-widgets/controls",
          "model_name": "HBoxModel",
          "model_module_version": "1.5.0",
          "state": {
            "_dom_classes": [],
            "_model_module": "@jupyter-widgets/controls",
            "_model_module_version": "1.5.0",
            "_model_name": "HBoxModel",
            "_view_count": null,
            "_view_module": "@jupyter-widgets/controls",
            "_view_module_version": "1.5.0",
            "_view_name": "HBoxView",
            "box_style": "",
            "children": [
              "IPY_MODEL_7aae62c0af474f128d90cd40ce0a578c",
              "IPY_MODEL_902a837959c143bcb2aac8a7b9d68059",
              "IPY_MODEL_463591f3758d4721abcf58960c1a6cbc"
            ],
            "layout": "IPY_MODEL_5894938785db4b3e844bfaf55dcb65e2"
          }
        },
        "7aae62c0af474f128d90cd40ce0a578c": {
          "model_module": "@jupyter-widgets/controls",
          "model_name": "HTMLModel",
          "model_module_version": "1.5.0",
          "state": {
            "_dom_classes": [],
            "_model_module": "@jupyter-widgets/controls",
            "_model_module_version": "1.5.0",
            "_model_name": "HTMLModel",
            "_view_count": null,
            "_view_module": "@jupyter-widgets/controls",
            "_view_module_version": "1.5.0",
            "_view_name": "HTMLView",
            "description": "",
            "description_tooltip": null,
            "layout": "IPY_MODEL_b7e557a6d6aa47a98832dc173851add1",
            "placeholder": "​",
            "style": "IPY_MODEL_f42a5708446346f8bced376c9d26dceb",
            "value": "config.json: 100%"
          }
        },
        "902a837959c143bcb2aac8a7b9d68059": {
          "model_module": "@jupyter-widgets/controls",
          "model_name": "FloatProgressModel",
          "model_module_version": "1.5.0",
          "state": {
            "_dom_classes": [],
            "_model_module": "@jupyter-widgets/controls",
            "_model_module_version": "1.5.0",
            "_model_name": "FloatProgressModel",
            "_view_count": null,
            "_view_module": "@jupyter-widgets/controls",
            "_view_module_version": "1.5.0",
            "_view_name": "ProgressView",
            "bar_style": "success",
            "description": "",
            "description_tooltip": null,
            "layout": "IPY_MODEL_02dab93221f24946aa100f9fa36389cb",
            "max": 570,
            "min": 0,
            "orientation": "horizontal",
            "style": "IPY_MODEL_7eedd3cdbc5d4d05b61259fea8906897",
            "value": 570
          }
        },
        "463591f3758d4721abcf58960c1a6cbc": {
          "model_module": "@jupyter-widgets/controls",
          "model_name": "HTMLModel",
          "model_module_version": "1.5.0",
          "state": {
            "_dom_classes": [],
            "_model_module": "@jupyter-widgets/controls",
            "_model_module_version": "1.5.0",
            "_model_name": "HTMLModel",
            "_view_count": null,
            "_view_module": "@jupyter-widgets/controls",
            "_view_module_version": "1.5.0",
            "_view_name": "HTMLView",
            "description": "",
            "description_tooltip": null,
            "layout": "IPY_MODEL_5237c8a9ff0f4a4f85d8d6f5029615b2",
            "placeholder": "​",
            "style": "IPY_MODEL_f95acf9650c24b27997620675ea7d0d0",
            "value": " 570/570 [00:00&lt;00:00, 53.2kB/s]"
          }
        },
        "5894938785db4b3e844bfaf55dcb65e2": {
          "model_module": "@jupyter-widgets/base",
          "model_name": "LayoutModel",
          "model_module_version": "1.2.0",
          "state": {
            "_model_module": "@jupyter-widgets/base",
            "_model_module_version": "1.2.0",
            "_model_name": "LayoutModel",
            "_view_count": null,
            "_view_module": "@jupyter-widgets/base",
            "_view_module_version": "1.2.0",
            "_view_name": "LayoutView",
            "align_content": null,
            "align_items": null,
            "align_self": null,
            "border": null,
            "bottom": null,
            "display": null,
            "flex": null,
            "flex_flow": null,
            "grid_area": null,
            "grid_auto_columns": null,
            "grid_auto_flow": null,
            "grid_auto_rows": null,
            "grid_column": null,
            "grid_gap": null,
            "grid_row": null,
            "grid_template_areas": null,
            "grid_template_columns": null,
            "grid_template_rows": null,
            "height": null,
            "justify_content": null,
            "justify_items": null,
            "left": null,
            "margin": null,
            "max_height": null,
            "max_width": null,
            "min_height": null,
            "min_width": null,
            "object_fit": null,
            "object_position": null,
            "order": null,
            "overflow": null,
            "overflow_x": null,
            "overflow_y": null,
            "padding": null,
            "right": null,
            "top": null,
            "visibility": null,
            "width": null
          }
        },
        "b7e557a6d6aa47a98832dc173851add1": {
          "model_module": "@jupyter-widgets/base",
          "model_name": "LayoutModel",
          "model_module_version": "1.2.0",
          "state": {
            "_model_module": "@jupyter-widgets/base",
            "_model_module_version": "1.2.0",
            "_model_name": "LayoutModel",
            "_view_count": null,
            "_view_module": "@jupyter-widgets/base",
            "_view_module_version": "1.2.0",
            "_view_name": "LayoutView",
            "align_content": null,
            "align_items": null,
            "align_self": null,
            "border": null,
            "bottom": null,
            "display": null,
            "flex": null,
            "flex_flow": null,
            "grid_area": null,
            "grid_auto_columns": null,
            "grid_auto_flow": null,
            "grid_auto_rows": null,
            "grid_column": null,
            "grid_gap": null,
            "grid_row": null,
            "grid_template_areas": null,
            "grid_template_columns": null,
            "grid_template_rows": null,
            "height": null,
            "justify_content": null,
            "justify_items": null,
            "left": null,
            "margin": null,
            "max_height": null,
            "max_width": null,
            "min_height": null,
            "min_width": null,
            "object_fit": null,
            "object_position": null,
            "order": null,
            "overflow": null,
            "overflow_x": null,
            "overflow_y": null,
            "padding": null,
            "right": null,
            "top": null,
            "visibility": null,
            "width": null
          }
        },
        "f42a5708446346f8bced376c9d26dceb": {
          "model_module": "@jupyter-widgets/controls",
          "model_name": "DescriptionStyleModel",
          "model_module_version": "1.5.0",
          "state": {
            "_model_module": "@jupyter-widgets/controls",
            "_model_module_version": "1.5.0",
            "_model_name": "DescriptionStyleModel",
            "_view_count": null,
            "_view_module": "@jupyter-widgets/base",
            "_view_module_version": "1.2.0",
            "_view_name": "StyleView",
            "description_width": ""
          }
        },
        "02dab93221f24946aa100f9fa36389cb": {
          "model_module": "@jupyter-widgets/base",
          "model_name": "LayoutModel",
          "model_module_version": "1.2.0",
          "state": {
            "_model_module": "@jupyter-widgets/base",
            "_model_module_version": "1.2.0",
            "_model_name": "LayoutModel",
            "_view_count": null,
            "_view_module": "@jupyter-widgets/base",
            "_view_module_version": "1.2.0",
            "_view_name": "LayoutView",
            "align_content": null,
            "align_items": null,
            "align_self": null,
            "border": null,
            "bottom": null,
            "display": null,
            "flex": null,
            "flex_flow": null,
            "grid_area": null,
            "grid_auto_columns": null,
            "grid_auto_flow": null,
            "grid_auto_rows": null,
            "grid_column": null,
            "grid_gap": null,
            "grid_row": null,
            "grid_template_areas": null,
            "grid_template_columns": null,
            "grid_template_rows": null,
            "height": null,
            "justify_content": null,
            "justify_items": null,
            "left": null,
            "margin": null,
            "max_height": null,
            "max_width": null,
            "min_height": null,
            "min_width": null,
            "object_fit": null,
            "object_position": null,
            "order": null,
            "overflow": null,
            "overflow_x": null,
            "overflow_y": null,
            "padding": null,
            "right": null,
            "top": null,
            "visibility": null,
            "width": null
          }
        },
        "7eedd3cdbc5d4d05b61259fea8906897": {
          "model_module": "@jupyter-widgets/controls",
          "model_name": "ProgressStyleModel",
          "model_module_version": "1.5.0",
          "state": {
            "_model_module": "@jupyter-widgets/controls",
            "_model_module_version": "1.5.0",
            "_model_name": "ProgressStyleModel",
            "_view_count": null,
            "_view_module": "@jupyter-widgets/base",
            "_view_module_version": "1.2.0",
            "_view_name": "StyleView",
            "bar_color": null,
            "description_width": ""
          }
        },
        "5237c8a9ff0f4a4f85d8d6f5029615b2": {
          "model_module": "@jupyter-widgets/base",
          "model_name": "LayoutModel",
          "model_module_version": "1.2.0",
          "state": {
            "_model_module": "@jupyter-widgets/base",
            "_model_module_version": "1.2.0",
            "_model_name": "LayoutModel",
            "_view_count": null,
            "_view_module": "@jupyter-widgets/base",
            "_view_module_version": "1.2.0",
            "_view_name": "LayoutView",
            "align_content": null,
            "align_items": null,
            "align_self": null,
            "border": null,
            "bottom": null,
            "display": null,
            "flex": null,
            "flex_flow": null,
            "grid_area": null,
            "grid_auto_columns": null,
            "grid_auto_flow": null,
            "grid_auto_rows": null,
            "grid_column": null,
            "grid_gap": null,
            "grid_row": null,
            "grid_template_areas": null,
            "grid_template_columns": null,
            "grid_template_rows": null,
            "height": null,
            "justify_content": null,
            "justify_items": null,
            "left": null,
            "margin": null,
            "max_height": null,
            "max_width": null,
            "min_height": null,
            "min_width": null,
            "object_fit": null,
            "object_position": null,
            "order": null,
            "overflow": null,
            "overflow_x": null,
            "overflow_y": null,
            "padding": null,
            "right": null,
            "top": null,
            "visibility": null,
            "width": null
          }
        },
        "f95acf9650c24b27997620675ea7d0d0": {
          "model_module": "@jupyter-widgets/controls",
          "model_name": "DescriptionStyleModel",
          "model_module_version": "1.5.0",
          "state": {
            "_model_module": "@jupyter-widgets/controls",
            "_model_module_version": "1.5.0",
            "_model_name": "DescriptionStyleModel",
            "_view_count": null,
            "_view_module": "@jupyter-widgets/base",
            "_view_module_version": "1.2.0",
            "_view_name": "StyleView",
            "description_width": ""
          }
        },
        "b6d3a6cb8a04480689eac28e3ee52a04": {
          "model_module": "@jupyter-widgets/controls",
          "model_name": "HBoxModel",
          "model_module_version": "1.5.0",
          "state": {
            "_dom_classes": [],
            "_model_module": "@jupyter-widgets/controls",
            "_model_module_version": "1.5.0",
            "_model_name": "HBoxModel",
            "_view_count": null,
            "_view_module": "@jupyter-widgets/controls",
            "_view_module_version": "1.5.0",
            "_view_name": "HBoxView",
            "box_style": "",
            "children": [
              "IPY_MODEL_d78b2dcab8574c51b54010d44d995940",
              "IPY_MODEL_c68f54a3d17b4c51a48f88c9c8a25426",
              "IPY_MODEL_2265a6ae3c314eacbd1be72d462a2c7f"
            ],
            "layout": "IPY_MODEL_cdd42004086443e8817cf8ec306ea2d4"
          }
        },
        "d78b2dcab8574c51b54010d44d995940": {
          "model_module": "@jupyter-widgets/controls",
          "model_name": "HTMLModel",
          "model_module_version": "1.5.0",
          "state": {
            "_dom_classes": [],
            "_model_module": "@jupyter-widgets/controls",
            "_model_module_version": "1.5.0",
            "_model_name": "HTMLModel",
            "_view_count": null,
            "_view_module": "@jupyter-widgets/controls",
            "_view_module_version": "1.5.0",
            "_view_name": "HTMLView",
            "description": "",
            "description_tooltip": null,
            "layout": "IPY_MODEL_e46db97ddd28423f9e40ac6deec4590e",
            "placeholder": "​",
            "style": "IPY_MODEL_0e6c616b73564aa295c36eed1e0012b3",
            "value": "model.safetensors: 100%"
          }
        },
        "c68f54a3d17b4c51a48f88c9c8a25426": {
          "model_module": "@jupyter-widgets/controls",
          "model_name": "FloatProgressModel",
          "model_module_version": "1.5.0",
          "state": {
            "_dom_classes": [],
            "_model_module": "@jupyter-widgets/controls",
            "_model_module_version": "1.5.0",
            "_model_name": "FloatProgressModel",
            "_view_count": null,
            "_view_module": "@jupyter-widgets/controls",
            "_view_module_version": "1.5.0",
            "_view_name": "ProgressView",
            "bar_style": "success",
            "description": "",
            "description_tooltip": null,
            "layout": "IPY_MODEL_efce03d5ba7648e492bd955dcbbd9b34",
            "max": 440449768,
            "min": 0,
            "orientation": "horizontal",
            "style": "IPY_MODEL_65b427f5d06941609f485979adc1f943",
            "value": 440449768
          }
        },
        "2265a6ae3c314eacbd1be72d462a2c7f": {
          "model_module": "@jupyter-widgets/controls",
          "model_name": "HTMLModel",
          "model_module_version": "1.5.0",
          "state": {
            "_dom_classes": [],
            "_model_module": "@jupyter-widgets/controls",
            "_model_module_version": "1.5.0",
            "_model_name": "HTMLModel",
            "_view_count": null,
            "_view_module": "@jupyter-widgets/controls",
            "_view_module_version": "1.5.0",
            "_view_name": "HTMLView",
            "description": "",
            "description_tooltip": null,
            "layout": "IPY_MODEL_2ff0f06e9ea6423b97cabae868553ee9",
            "placeholder": "​",
            "style": "IPY_MODEL_df32139004a84bdeb457f3321f2dd1ec",
            "value": " 440M/440M [00:06&lt;00:00, 79.9MB/s]"
          }
        },
        "cdd42004086443e8817cf8ec306ea2d4": {
          "model_module": "@jupyter-widgets/base",
          "model_name": "LayoutModel",
          "model_module_version": "1.2.0",
          "state": {
            "_model_module": "@jupyter-widgets/base",
            "_model_module_version": "1.2.0",
            "_model_name": "LayoutModel",
            "_view_count": null,
            "_view_module": "@jupyter-widgets/base",
            "_view_module_version": "1.2.0",
            "_view_name": "LayoutView",
            "align_content": null,
            "align_items": null,
            "align_self": null,
            "border": null,
            "bottom": null,
            "display": null,
            "flex": null,
            "flex_flow": null,
            "grid_area": null,
            "grid_auto_columns": null,
            "grid_auto_flow": null,
            "grid_auto_rows": null,
            "grid_column": null,
            "grid_gap": null,
            "grid_row": null,
            "grid_template_areas": null,
            "grid_template_columns": null,
            "grid_template_rows": null,
            "height": null,
            "justify_content": null,
            "justify_items": null,
            "left": null,
            "margin": null,
            "max_height": null,
            "max_width": null,
            "min_height": null,
            "min_width": null,
            "object_fit": null,
            "object_position": null,
            "order": null,
            "overflow": null,
            "overflow_x": null,
            "overflow_y": null,
            "padding": null,
            "right": null,
            "top": null,
            "visibility": null,
            "width": null
          }
        },
        "e46db97ddd28423f9e40ac6deec4590e": {
          "model_module": "@jupyter-widgets/base",
          "model_name": "LayoutModel",
          "model_module_version": "1.2.0",
          "state": {
            "_model_module": "@jupyter-widgets/base",
            "_model_module_version": "1.2.0",
            "_model_name": "LayoutModel",
            "_view_count": null,
            "_view_module": "@jupyter-widgets/base",
            "_view_module_version": "1.2.0",
            "_view_name": "LayoutView",
            "align_content": null,
            "align_items": null,
            "align_self": null,
            "border": null,
            "bottom": null,
            "display": null,
            "flex": null,
            "flex_flow": null,
            "grid_area": null,
            "grid_auto_columns": null,
            "grid_auto_flow": null,
            "grid_auto_rows": null,
            "grid_column": null,
            "grid_gap": null,
            "grid_row": null,
            "grid_template_areas": null,
            "grid_template_columns": null,
            "grid_template_rows": null,
            "height": null,
            "justify_content": null,
            "justify_items": null,
            "left": null,
            "margin": null,
            "max_height": null,
            "max_width": null,
            "min_height": null,
            "min_width": null,
            "object_fit": null,
            "object_position": null,
            "order": null,
            "overflow": null,
            "overflow_x": null,
            "overflow_y": null,
            "padding": null,
            "right": null,
            "top": null,
            "visibility": null,
            "width": null
          }
        },
        "0e6c616b73564aa295c36eed1e0012b3": {
          "model_module": "@jupyter-widgets/controls",
          "model_name": "DescriptionStyleModel",
          "model_module_version": "1.5.0",
          "state": {
            "_model_module": "@jupyter-widgets/controls",
            "_model_module_version": "1.5.0",
            "_model_name": "DescriptionStyleModel",
            "_view_count": null,
            "_view_module": "@jupyter-widgets/base",
            "_view_module_version": "1.2.0",
            "_view_name": "StyleView",
            "description_width": ""
          }
        },
        "efce03d5ba7648e492bd955dcbbd9b34": {
          "model_module": "@jupyter-widgets/base",
          "model_name": "LayoutModel",
          "model_module_version": "1.2.0",
          "state": {
            "_model_module": "@jupyter-widgets/base",
            "_model_module_version": "1.2.0",
            "_model_name": "LayoutModel",
            "_view_count": null,
            "_view_module": "@jupyter-widgets/base",
            "_view_module_version": "1.2.0",
            "_view_name": "LayoutView",
            "align_content": null,
            "align_items": null,
            "align_self": null,
            "border": null,
            "bottom": null,
            "display": null,
            "flex": null,
            "flex_flow": null,
            "grid_area": null,
            "grid_auto_columns": null,
            "grid_auto_flow": null,
            "grid_auto_rows": null,
            "grid_column": null,
            "grid_gap": null,
            "grid_row": null,
            "grid_template_areas": null,
            "grid_template_columns": null,
            "grid_template_rows": null,
            "height": null,
            "justify_content": null,
            "justify_items": null,
            "left": null,
            "margin": null,
            "max_height": null,
            "max_width": null,
            "min_height": null,
            "min_width": null,
            "object_fit": null,
            "object_position": null,
            "order": null,
            "overflow": null,
            "overflow_x": null,
            "overflow_y": null,
            "padding": null,
            "right": null,
            "top": null,
            "visibility": null,
            "width": null
          }
        },
        "65b427f5d06941609f485979adc1f943": {
          "model_module": "@jupyter-widgets/controls",
          "model_name": "ProgressStyleModel",
          "model_module_version": "1.5.0",
          "state": {
            "_model_module": "@jupyter-widgets/controls",
            "_model_module_version": "1.5.0",
            "_model_name": "ProgressStyleModel",
            "_view_count": null,
            "_view_module": "@jupyter-widgets/base",
            "_view_module_version": "1.2.0",
            "_view_name": "StyleView",
            "bar_color": null,
            "description_width": ""
          }
        },
        "2ff0f06e9ea6423b97cabae868553ee9": {
          "model_module": "@jupyter-widgets/base",
          "model_name": "LayoutModel",
          "model_module_version": "1.2.0",
          "state": {
            "_model_module": "@jupyter-widgets/base",
            "_model_module_version": "1.2.0",
            "_model_name": "LayoutModel",
            "_view_count": null,
            "_view_module": "@jupyter-widgets/base",
            "_view_module_version": "1.2.0",
            "_view_name": "LayoutView",
            "align_content": null,
            "align_items": null,
            "align_self": null,
            "border": null,
            "bottom": null,
            "display": null,
            "flex": null,
            "flex_flow": null,
            "grid_area": null,
            "grid_auto_columns": null,
            "grid_auto_flow": null,
            "grid_auto_rows": null,
            "grid_column": null,
            "grid_gap": null,
            "grid_row": null,
            "grid_template_areas": null,
            "grid_template_columns": null,
            "grid_template_rows": null,
            "height": null,
            "justify_content": null,
            "justify_items": null,
            "left": null,
            "margin": null,
            "max_height": null,
            "max_width": null,
            "min_height": null,
            "min_width": null,
            "object_fit": null,
            "object_position": null,
            "order": null,
            "overflow": null,
            "overflow_x": null,
            "overflow_y": null,
            "padding": null,
            "right": null,
            "top": null,
            "visibility": null,
            "width": null
          }
        },
        "df32139004a84bdeb457f3321f2dd1ec": {
          "model_module": "@jupyter-widgets/controls",
          "model_name": "DescriptionStyleModel",
          "model_module_version": "1.5.0",
          "state": {
            "_model_module": "@jupyter-widgets/controls",
            "_model_module_version": "1.5.0",
            "_model_name": "DescriptionStyleModel",
            "_view_count": null,
            "_view_module": "@jupyter-widgets/base",
            "_view_module_version": "1.2.0",
            "_view_name": "StyleView",
            "description_width": ""
          }
        },
        "939ea35dfd004e51ace38342b87564ef": {
          "model_module": "@jupyter-widgets/controls",
          "model_name": "HBoxModel",
          "model_module_version": "1.5.0",
          "state": {
            "_dom_classes": [],
            "_model_module": "@jupyter-widgets/controls",
            "_model_module_version": "1.5.0",
            "_model_name": "HBoxModel",
            "_view_count": null,
            "_view_module": "@jupyter-widgets/controls",
            "_view_module_version": "1.5.0",
            "_view_name": "HBoxView",
            "box_style": "",
            "children": [
              "IPY_MODEL_15d0f4d0cfca4e559ce1668df7717963",
              "IPY_MODEL_e3dd3a63af5f4ed49ea72d756d10e148",
              "IPY_MODEL_ee2f09e8b80b40bdb24b232ae4d6629e"
            ],
            "layout": "IPY_MODEL_8bb60af01b304dd888c31e30681e47be"
          }
        },
        "15d0f4d0cfca4e559ce1668df7717963": {
          "model_module": "@jupyter-widgets/controls",
          "model_name": "HTMLModel",
          "model_module_version": "1.5.0",
          "state": {
            "_dom_classes": [],
            "_model_module": "@jupyter-widgets/controls",
            "_model_module_version": "1.5.0",
            "_model_name": "HTMLModel",
            "_view_count": null,
            "_view_module": "@jupyter-widgets/controls",
            "_view_module_version": "1.5.0",
            "_view_name": "HTMLView",
            "description": "",
            "description_tooltip": null,
            "layout": "IPY_MODEL_c9b67b90a0d14317a19719c3cc800a81",
            "placeholder": "​",
            "style": "IPY_MODEL_d364c92d7d454aeb9fd42c39ed5db88b",
            "value": "config.json: 100%"
          }
        },
        "e3dd3a63af5f4ed49ea72d756d10e148": {
          "model_module": "@jupyter-widgets/controls",
          "model_name": "FloatProgressModel",
          "model_module_version": "1.5.0",
          "state": {
            "_dom_classes": [],
            "_model_module": "@jupyter-widgets/controls",
            "_model_module_version": "1.5.0",
            "_model_name": "FloatProgressModel",
            "_view_count": null,
            "_view_module": "@jupyter-widgets/controls",
            "_view_module_version": "1.5.0",
            "_view_name": "ProgressView",
            "bar_style": "success",
            "description": "",
            "description_tooltip": null,
            "layout": "IPY_MODEL_1938ad76b3b04bdfb82b5154a4943af0",
            "max": 483,
            "min": 0,
            "orientation": "horizontal",
            "style": "IPY_MODEL_8b8c34b09f5f466987151b7f62fdaa58",
            "value": 483
          }
        },
        "ee2f09e8b80b40bdb24b232ae4d6629e": {
          "model_module": "@jupyter-widgets/controls",
          "model_name": "HTMLModel",
          "model_module_version": "1.5.0",
          "state": {
            "_dom_classes": [],
            "_model_module": "@jupyter-widgets/controls",
            "_model_module_version": "1.5.0",
            "_model_name": "HTMLModel",
            "_view_count": null,
            "_view_module": "@jupyter-widgets/controls",
            "_view_module_version": "1.5.0",
            "_view_name": "HTMLView",
            "description": "",
            "description_tooltip": null,
            "layout": "IPY_MODEL_21365738bab54d99a9b6021622fb33ef",
            "placeholder": "​",
            "style": "IPY_MODEL_ce1cc2568c99492880076adff31cce72",
            "value": " 483/483 [00:00&lt;00:00, 40.4kB/s]"
          }
        },
        "8bb60af01b304dd888c31e30681e47be": {
          "model_module": "@jupyter-widgets/base",
          "model_name": "LayoutModel",
          "model_module_version": "1.2.0",
          "state": {
            "_model_module": "@jupyter-widgets/base",
            "_model_module_version": "1.2.0",
            "_model_name": "LayoutModel",
            "_view_count": null,
            "_view_module": "@jupyter-widgets/base",
            "_view_module_version": "1.2.0",
            "_view_name": "LayoutView",
            "align_content": null,
            "align_items": null,
            "align_self": null,
            "border": null,
            "bottom": null,
            "display": null,
            "flex": null,
            "flex_flow": null,
            "grid_area": null,
            "grid_auto_columns": null,
            "grid_auto_flow": null,
            "grid_auto_rows": null,
            "grid_column": null,
            "grid_gap": null,
            "grid_row": null,
            "grid_template_areas": null,
            "grid_template_columns": null,
            "grid_template_rows": null,
            "height": null,
            "justify_content": null,
            "justify_items": null,
            "left": null,
            "margin": null,
            "max_height": null,
            "max_width": null,
            "min_height": null,
            "min_width": null,
            "object_fit": null,
            "object_position": null,
            "order": null,
            "overflow": null,
            "overflow_x": null,
            "overflow_y": null,
            "padding": null,
            "right": null,
            "top": null,
            "visibility": null,
            "width": null
          }
        },
        "c9b67b90a0d14317a19719c3cc800a81": {
          "model_module": "@jupyter-widgets/base",
          "model_name": "LayoutModel",
          "model_module_version": "1.2.0",
          "state": {
            "_model_module": "@jupyter-widgets/base",
            "_model_module_version": "1.2.0",
            "_model_name": "LayoutModel",
            "_view_count": null,
            "_view_module": "@jupyter-widgets/base",
            "_view_module_version": "1.2.0",
            "_view_name": "LayoutView",
            "align_content": null,
            "align_items": null,
            "align_self": null,
            "border": null,
            "bottom": null,
            "display": null,
            "flex": null,
            "flex_flow": null,
            "grid_area": null,
            "grid_auto_columns": null,
            "grid_auto_flow": null,
            "grid_auto_rows": null,
            "grid_column": null,
            "grid_gap": null,
            "grid_row": null,
            "grid_template_areas": null,
            "grid_template_columns": null,
            "grid_template_rows": null,
            "height": null,
            "justify_content": null,
            "justify_items": null,
            "left": null,
            "margin": null,
            "max_height": null,
            "max_width": null,
            "min_height": null,
            "min_width": null,
            "object_fit": null,
            "object_position": null,
            "order": null,
            "overflow": null,
            "overflow_x": null,
            "overflow_y": null,
            "padding": null,
            "right": null,
            "top": null,
            "visibility": null,
            "width": null
          }
        },
        "d364c92d7d454aeb9fd42c39ed5db88b": {
          "model_module": "@jupyter-widgets/controls",
          "model_name": "DescriptionStyleModel",
          "model_module_version": "1.5.0",
          "state": {
            "_model_module": "@jupyter-widgets/controls",
            "_model_module_version": "1.5.0",
            "_model_name": "DescriptionStyleModel",
            "_view_count": null,
            "_view_module": "@jupyter-widgets/base",
            "_view_module_version": "1.2.0",
            "_view_name": "StyleView",
            "description_width": ""
          }
        },
        "1938ad76b3b04bdfb82b5154a4943af0": {
          "model_module": "@jupyter-widgets/base",
          "model_name": "LayoutModel",
          "model_module_version": "1.2.0",
          "state": {
            "_model_module": "@jupyter-widgets/base",
            "_model_module_version": "1.2.0",
            "_model_name": "LayoutModel",
            "_view_count": null,
            "_view_module": "@jupyter-widgets/base",
            "_view_module_version": "1.2.0",
            "_view_name": "LayoutView",
            "align_content": null,
            "align_items": null,
            "align_self": null,
            "border": null,
            "bottom": null,
            "display": null,
            "flex": null,
            "flex_flow": null,
            "grid_area": null,
            "grid_auto_columns": null,
            "grid_auto_flow": null,
            "grid_auto_rows": null,
            "grid_column": null,
            "grid_gap": null,
            "grid_row": null,
            "grid_template_areas": null,
            "grid_template_columns": null,
            "grid_template_rows": null,
            "height": null,
            "justify_content": null,
            "justify_items": null,
            "left": null,
            "margin": null,
            "max_height": null,
            "max_width": null,
            "min_height": null,
            "min_width": null,
            "object_fit": null,
            "object_position": null,
            "order": null,
            "overflow": null,
            "overflow_x": null,
            "overflow_y": null,
            "padding": null,
            "right": null,
            "top": null,
            "visibility": null,
            "width": null
          }
        },
        "8b8c34b09f5f466987151b7f62fdaa58": {
          "model_module": "@jupyter-widgets/controls",
          "model_name": "ProgressStyleModel",
          "model_module_version": "1.5.0",
          "state": {
            "_model_module": "@jupyter-widgets/controls",
            "_model_module_version": "1.5.0",
            "_model_name": "ProgressStyleModel",
            "_view_count": null,
            "_view_module": "@jupyter-widgets/base",
            "_view_module_version": "1.2.0",
            "_view_name": "StyleView",
            "bar_color": null,
            "description_width": ""
          }
        },
        "21365738bab54d99a9b6021622fb33ef": {
          "model_module": "@jupyter-widgets/base",
          "model_name": "LayoutModel",
          "model_module_version": "1.2.0",
          "state": {
            "_model_module": "@jupyter-widgets/base",
            "_model_module_version": "1.2.0",
            "_model_name": "LayoutModel",
            "_view_count": null,
            "_view_module": "@jupyter-widgets/base",
            "_view_module_version": "1.2.0",
            "_view_name": "LayoutView",
            "align_content": null,
            "align_items": null,
            "align_self": null,
            "border": null,
            "bottom": null,
            "display": null,
            "flex": null,
            "flex_flow": null,
            "grid_area": null,
            "grid_auto_columns": null,
            "grid_auto_flow": null,
            "grid_auto_rows": null,
            "grid_column": null,
            "grid_gap": null,
            "grid_row": null,
            "grid_template_areas": null,
            "grid_template_columns": null,
            "grid_template_rows": null,
            "height": null,
            "justify_content": null,
            "justify_items": null,
            "left": null,
            "margin": null,
            "max_height": null,
            "max_width": null,
            "min_height": null,
            "min_width": null,
            "object_fit": null,
            "object_position": null,
            "order": null,
            "overflow": null,
            "overflow_x": null,
            "overflow_y": null,
            "padding": null,
            "right": null,
            "top": null,
            "visibility": null,
            "width": null
          }
        },
        "ce1cc2568c99492880076adff31cce72": {
          "model_module": "@jupyter-widgets/controls",
          "model_name": "DescriptionStyleModel",
          "model_module_version": "1.5.0",
          "state": {
            "_model_module": "@jupyter-widgets/controls",
            "_model_module_version": "1.5.0",
            "_model_name": "DescriptionStyleModel",
            "_view_count": null,
            "_view_module": "@jupyter-widgets/base",
            "_view_module_version": "1.2.0",
            "_view_name": "StyleView",
            "description_width": ""
          }
        },
        "bd9a6b15d8a94f778065b0a358905939": {
          "model_module": "@jupyter-widgets/controls",
          "model_name": "HBoxModel",
          "model_module_version": "1.5.0",
          "state": {
            "_dom_classes": [],
            "_model_module": "@jupyter-widgets/controls",
            "_model_module_version": "1.5.0",
            "_model_name": "HBoxModel",
            "_view_count": null,
            "_view_module": "@jupyter-widgets/controls",
            "_view_module_version": "1.5.0",
            "_view_name": "HBoxView",
            "box_style": "",
            "children": [
              "IPY_MODEL_623d57eb781d4c21a05c15213cce72f1",
              "IPY_MODEL_27b6a47b7be74f81a50b74ae997d7820",
              "IPY_MODEL_2c9b6b2a5faf4f64a5cb5874972813fd"
            ],
            "layout": "IPY_MODEL_4418ca1b70224047bea787bc91ddb9c9"
          }
        },
        "623d57eb781d4c21a05c15213cce72f1": {
          "model_module": "@jupyter-widgets/controls",
          "model_name": "HTMLModel",
          "model_module_version": "1.5.0",
          "state": {
            "_dom_classes": [],
            "_model_module": "@jupyter-widgets/controls",
            "_model_module_version": "1.5.0",
            "_model_name": "HTMLModel",
            "_view_count": null,
            "_view_module": "@jupyter-widgets/controls",
            "_view_module_version": "1.5.0",
            "_view_name": "HTMLView",
            "description": "",
            "description_tooltip": null,
            "layout": "IPY_MODEL_fc50ffddfff24656bd8235e7da61237e",
            "placeholder": "​",
            "style": "IPY_MODEL_463fe9b585f14ba8ba9f11878d94454c",
            "value": "model.safetensors: 100%"
          }
        },
        "27b6a47b7be74f81a50b74ae997d7820": {
          "model_module": "@jupyter-widgets/controls",
          "model_name": "FloatProgressModel",
          "model_module_version": "1.5.0",
          "state": {
            "_dom_classes": [],
            "_model_module": "@jupyter-widgets/controls",
            "_model_module_version": "1.5.0",
            "_model_name": "FloatProgressModel",
            "_view_count": null,
            "_view_module": "@jupyter-widgets/controls",
            "_view_module_version": "1.5.0",
            "_view_name": "ProgressView",
            "bar_style": "success",
            "description": "",
            "description_tooltip": null,
            "layout": "IPY_MODEL_0cf7783b922c4a6cb613f001e220f5b7",
            "max": 267954768,
            "min": 0,
            "orientation": "horizontal",
            "style": "IPY_MODEL_38b4a4f04c8e4a13a5f453420594e317",
            "value": 267954768
          }
        },
        "2c9b6b2a5faf4f64a5cb5874972813fd": {
          "model_module": "@jupyter-widgets/controls",
          "model_name": "HTMLModel",
          "model_module_version": "1.5.0",
          "state": {
            "_dom_classes": [],
            "_model_module": "@jupyter-widgets/controls",
            "_model_module_version": "1.5.0",
            "_model_name": "HTMLModel",
            "_view_count": null,
            "_view_module": "@jupyter-widgets/controls",
            "_view_module_version": "1.5.0",
            "_view_name": "HTMLView",
            "description": "",
            "description_tooltip": null,
            "layout": "IPY_MODEL_cc2edd550e374659994f25de4450275e",
            "placeholder": "​",
            "style": "IPY_MODEL_7f658e06147446f1a71853d91a939631",
            "value": " 268M/268M [00:01&lt;00:00, 231MB/s]"
          }
        },
        "4418ca1b70224047bea787bc91ddb9c9": {
          "model_module": "@jupyter-widgets/base",
          "model_name": "LayoutModel",
          "model_module_version": "1.2.0",
          "state": {
            "_model_module": "@jupyter-widgets/base",
            "_model_module_version": "1.2.0",
            "_model_name": "LayoutModel",
            "_view_count": null,
            "_view_module": "@jupyter-widgets/base",
            "_view_module_version": "1.2.0",
            "_view_name": "LayoutView",
            "align_content": null,
            "align_items": null,
            "align_self": null,
            "border": null,
            "bottom": null,
            "display": null,
            "flex": null,
            "flex_flow": null,
            "grid_area": null,
            "grid_auto_columns": null,
            "grid_auto_flow": null,
            "grid_auto_rows": null,
            "grid_column": null,
            "grid_gap": null,
            "grid_row": null,
            "grid_template_areas": null,
            "grid_template_columns": null,
            "grid_template_rows": null,
            "height": null,
            "justify_content": null,
            "justify_items": null,
            "left": null,
            "margin": null,
            "max_height": null,
            "max_width": null,
            "min_height": null,
            "min_width": null,
            "object_fit": null,
            "object_position": null,
            "order": null,
            "overflow": null,
            "overflow_x": null,
            "overflow_y": null,
            "padding": null,
            "right": null,
            "top": null,
            "visibility": null,
            "width": null
          }
        },
        "fc50ffddfff24656bd8235e7da61237e": {
          "model_module": "@jupyter-widgets/base",
          "model_name": "LayoutModel",
          "model_module_version": "1.2.0",
          "state": {
            "_model_module": "@jupyter-widgets/base",
            "_model_module_version": "1.2.0",
            "_model_name": "LayoutModel",
            "_view_count": null,
            "_view_module": "@jupyter-widgets/base",
            "_view_module_version": "1.2.0",
            "_view_name": "LayoutView",
            "align_content": null,
            "align_items": null,
            "align_self": null,
            "border": null,
            "bottom": null,
            "display": null,
            "flex": null,
            "flex_flow": null,
            "grid_area": null,
            "grid_auto_columns": null,
            "grid_auto_flow": null,
            "grid_auto_rows": null,
            "grid_column": null,
            "grid_gap": null,
            "grid_row": null,
            "grid_template_areas": null,
            "grid_template_columns": null,
            "grid_template_rows": null,
            "height": null,
            "justify_content": null,
            "justify_items": null,
            "left": null,
            "margin": null,
            "max_height": null,
            "max_width": null,
            "min_height": null,
            "min_width": null,
            "object_fit": null,
            "object_position": null,
            "order": null,
            "overflow": null,
            "overflow_x": null,
            "overflow_y": null,
            "padding": null,
            "right": null,
            "top": null,
            "visibility": null,
            "width": null
          }
        },
        "463fe9b585f14ba8ba9f11878d94454c": {
          "model_module": "@jupyter-widgets/controls",
          "model_name": "DescriptionStyleModel",
          "model_module_version": "1.5.0",
          "state": {
            "_model_module": "@jupyter-widgets/controls",
            "_model_module_version": "1.5.0",
            "_model_name": "DescriptionStyleModel",
            "_view_count": null,
            "_view_module": "@jupyter-widgets/base",
            "_view_module_version": "1.2.0",
            "_view_name": "StyleView",
            "description_width": ""
          }
        },
        "0cf7783b922c4a6cb613f001e220f5b7": {
          "model_module": "@jupyter-widgets/base",
          "model_name": "LayoutModel",
          "model_module_version": "1.2.0",
          "state": {
            "_model_module": "@jupyter-widgets/base",
            "_model_module_version": "1.2.0",
            "_model_name": "LayoutModel",
            "_view_count": null,
            "_view_module": "@jupyter-widgets/base",
            "_view_module_version": "1.2.0",
            "_view_name": "LayoutView",
            "align_content": null,
            "align_items": null,
            "align_self": null,
            "border": null,
            "bottom": null,
            "display": null,
            "flex": null,
            "flex_flow": null,
            "grid_area": null,
            "grid_auto_columns": null,
            "grid_auto_flow": null,
            "grid_auto_rows": null,
            "grid_column": null,
            "grid_gap": null,
            "grid_row": null,
            "grid_template_areas": null,
            "grid_template_columns": null,
            "grid_template_rows": null,
            "height": null,
            "justify_content": null,
            "justify_items": null,
            "left": null,
            "margin": null,
            "max_height": null,
            "max_width": null,
            "min_height": null,
            "min_width": null,
            "object_fit": null,
            "object_position": null,
            "order": null,
            "overflow": null,
            "overflow_x": null,
            "overflow_y": null,
            "padding": null,
            "right": null,
            "top": null,
            "visibility": null,
            "width": null
          }
        },
        "38b4a4f04c8e4a13a5f453420594e317": {
          "model_module": "@jupyter-widgets/controls",
          "model_name": "ProgressStyleModel",
          "model_module_version": "1.5.0",
          "state": {
            "_model_module": "@jupyter-widgets/controls",
            "_model_module_version": "1.5.0",
            "_model_name": "ProgressStyleModel",
            "_view_count": null,
            "_view_module": "@jupyter-widgets/base",
            "_view_module_version": "1.2.0",
            "_view_name": "StyleView",
            "bar_color": null,
            "description_width": ""
          }
        },
        "cc2edd550e374659994f25de4450275e": {
          "model_module": "@jupyter-widgets/base",
          "model_name": "LayoutModel",
          "model_module_version": "1.2.0",
          "state": {
            "_model_module": "@jupyter-widgets/base",
            "_model_module_version": "1.2.0",
            "_model_name": "LayoutModel",
            "_view_count": null,
            "_view_module": "@jupyter-widgets/base",
            "_view_module_version": "1.2.0",
            "_view_name": "LayoutView",
            "align_content": null,
            "align_items": null,
            "align_self": null,
            "border": null,
            "bottom": null,
            "display": null,
            "flex": null,
            "flex_flow": null,
            "grid_area": null,
            "grid_auto_columns": null,
            "grid_auto_flow": null,
            "grid_auto_rows": null,
            "grid_column": null,
            "grid_gap": null,
            "grid_row": null,
            "grid_template_areas": null,
            "grid_template_columns": null,
            "grid_template_rows": null,
            "height": null,
            "justify_content": null,
            "justify_items": null,
            "left": null,
            "margin": null,
            "max_height": null,
            "max_width": null,
            "min_height": null,
            "min_width": null,
            "object_fit": null,
            "object_position": null,
            "order": null,
            "overflow": null,
            "overflow_x": null,
            "overflow_y": null,
            "padding": null,
            "right": null,
            "top": null,
            "visibility": null,
            "width": null
          }
        },
        "7f658e06147446f1a71853d91a939631": {
          "model_module": "@jupyter-widgets/controls",
          "model_name": "DescriptionStyleModel",
          "model_module_version": "1.5.0",
          "state": {
            "_model_module": "@jupyter-widgets/controls",
            "_model_module_version": "1.5.0",
            "_model_name": "DescriptionStyleModel",
            "_view_count": null,
            "_view_module": "@jupyter-widgets/base",
            "_view_module_version": "1.2.0",
            "_view_name": "StyleView",
            "description_width": ""
          }
        }
      }
    }
  },
  "cells": [
    {
      "cell_type": "code",
      "execution_count": null,
      "metadata": {
        "id": "50mjuevO1aOX"
      },
      "outputs": [],
      "source": [
        "# !pip install torch\n",
        "# !pip install transformers"
      ]
    },
    {
      "cell_type": "code",
      "execution_count": 1,
      "metadata": {
        "id": "61ce02dd"
      },
      "outputs": [],
      "source": [
        "import json\n",
        "import os\n",
        "import random\n",
        "import re\n",
        "import torch\n",
        "import torch.nn as nn\n",
        "import numpy as np\n",
        "from collections import Counter\n",
        "import matplotlib.pyplot as plt\n",
        "import seaborn as sns\n",
        "\n",
        "from sklearn.model_selection import train_test_split\n",
        "from sklearn.metrics import precision_score, recall_score, f1_score, classification_report, confusion_matrix\n",
        "\n",
        "from torch.utils.data import DataLoader, TensorDataset\n",
        "from transformers import BertTokenizer, BertForSequenceClassification, AutoTokenizer, DistilBertForSequenceClassification, AdamW\n",
        "from torch.nn.utils.rnn import pad_sequence\n",
        "from torch.cuda.amp import autocast, GradScaler\n",
        "\n",
        "from imblearn.over_sampling import RandomOverSampler\n",
        "from imblearn.under_sampling import RandomUnderSampler"
      ]
    },
    {
      "cell_type": "code",
      "source": [
        "file_paths = [\"dataset.json\"]\n",
        "\n",
        "dataset = []\n",
        "\n",
        "for file_path in file_paths:\n",
        "    with open(file_path, \"r\") as file:\n",
        "        data = json.load(file)\n",
        "\n",
        "random.shuffle(data)\n",
        "len(data)"
      ],
      "metadata": {
        "id": "XYnDR8vwtrmU",
        "colab": {
          "base_uri": "https://localhost:8080/"
        },
        "outputId": "9c9b0ae4-05fc-4663-b505-a57d226d444e"
      },
      "execution_count": 2,
      "outputs": [
        {
          "output_type": "execute_result",
          "data": {
            "text/plain": [
              "47136"
            ]
          },
          "metadata": {},
          "execution_count": 2
        }
      ]
    },
    {
      "cell_type": "code",
      "source": [
        "dataset = []\n",
        "\n",
        "for i in range(0, len(data)):\n",
        "    item = data[i].copy()\n",
        "    item.pop('judgments', None)\n",
        "    dataset.append(item)\n",
        "\n",
        "for i in range(0, len(dataset)):\n",
        "  dataset[i]['evidences'] = dataset[i]['evidences'][0].get('snippet')\n",
        "\n",
        "dataset[0]"
      ],
      "metadata": {
        "colab": {
          "base_uri": "https://localhost:8080/"
        },
        "id": "b3OrJfARolgH",
        "outputId": "011d1afb-d5e3-46fc-b30c-1366c73c433d"
      },
      "execution_count": 3,
      "outputs": [
        {
          "output_type": "execute_result",
          "data": {
            "text/plain": [
              "{'pred': '/people/deceased_person/place_of_death',\n",
              " 'sub': 'Thomas Jones, Baron Maelor',\n",
              " 'obj': 'Ponciau',\n",
              " 'evidences': 'He was a poet and a member of the Gorsedd of Bards at the National Eisteddfod of Wales and served as President of the International Eisteddfod at Llangollen. Lord Maelor, a lifelong heavy smoker, died in an overnight fire at his home in Ponciau in 1984 which was thought to be started by a smouldering cigarette.'}"
            ]
          },
          "metadata": {},
          "execution_count": 3
        }
      ]
    },
    {
      "cell_type": "code",
      "source": [
        "map_pred2label ={\n",
        "    '/people/person/education./education/education/institution': \"educated in\",\n",
        "    '/people/deceased_person/place_of_death': \"died in\",\n",
        "    '/people/person/place_of_birth': \"born in\",\n",
        "    '/people/person/date_of_birth': \"born on\",\n",
        "    '/people/person/education./education/education/degree': \"has degree\"\n",
        "}\n",
        "\n",
        "for i in range(0, len(dataset)):\n",
        "  dataset[i]['pred'] = map_pred2label[dataset[i]['pred']]\n",
        "\n",
        "dataset[0]"
      ],
      "metadata": {
        "colab": {
          "base_uri": "https://localhost:8080/"
        },
        "id": "ijEa7XKouUx9",
        "outputId": "17fd1a45-9551-4c9d-bdf1-02a2139790c1"
      },
      "execution_count": 4,
      "outputs": [
        {
          "output_type": "execute_result",
          "data": {
            "text/plain": [
              "{'pred': 'died in',\n",
              " 'sub': 'Thomas Jones, Baron Maelor',\n",
              " 'obj': 'Ponciau',\n",
              " 'evidences': 'He was a poet and a member of the Gorsedd of Bards at the National Eisteddfod of Wales and served as President of the International Eisteddfod at Llangollen. Lord Maelor, a lifelong heavy smoker, died in an overnight fire at his home in Ponciau in 1984 which was thought to be started by a smouldering cigarette.'}"
            ]
          },
          "metadata": {},
          "execution_count": 4
        }
      ]
    },
    {
      "cell_type": "code",
      "execution_count": 5,
      "metadata": {
        "colab": {
          "base_uri": "https://localhost:8080/"
        },
        "id": "57933d29",
        "outputId": "29933ddf-bcb1-4aaa-dd43-32b6db14daf3"
      },
      "outputs": [
        {
          "output_type": "stream",
          "name": "stdout",
          "text": [
            "['died in', 'educated in', 'born in', 'born on', 'has degree']\n",
            "Counter({'educated in': 31991, 'born in': 8389, 'died in': 2745, 'born on': 2282, 'has degree': 1729})\n"
          ]
        }
      ],
      "source": [
        "\n",
        "preds = []\n",
        "for i in range(0,len(dataset)):\n",
        "  for key, value in dataset[i].items():\n",
        "    if key == \"pred\" and value not in preds:\n",
        "      preds.append(value)\n",
        "\n",
        "print(preds)\n",
        "\n",
        "\n",
        "# count the number of data points related to each attribute\n",
        "pred_counts = Counter(entry['pred'] for entry in dataset)\n",
        "print(pred_counts)"
      ]
    },
    {
      "cell_type": "code",
      "source": [
        "pie_chart = plt.pie(pred_counts.values(), labels= preds, autopct='%1.1f%%')\n",
        "plt.show(pie_chart)"
      ],
      "metadata": {
        "id": "lSN90zm0s4QK",
        "colab": {
          "base_uri": "https://localhost:8080/",
          "height": 406
        },
        "outputId": "12617436-1dd9-4390-b5ff-27c9317fd31c"
      },
      "execution_count": 6,
      "outputs": [
        {
          "output_type": "display_data",
          "data": {
            "text/plain": [
              "<Figure size 640x480 with 1 Axes>"
            ],
            "image/png": "[encoded data removed]"
          },
          "metadata": {}
        }
      ]
    },
    {
      "cell_type": "code",
      "source": [
        "for data in dataset:\n",
        "  data['text_length'] = len(data['evidences'])\n",
        "\n",
        "length_frequency = Counter(entry['text_length'] for entry in dataset)\n",
        "\n",
        "# Extract lengths and frequencies for plotting\n",
        "lengths = list(length_frequency.keys())\n",
        "frequencies = list(length_frequency.values())\n",
        "\n",
        "# Plotting\n",
        "plt.bar(lengths, frequencies)\n",
        "plt.xlabel('Text Length')\n",
        "plt.ylabel('Frequency')\n",
        "plt.title('Text Length Frequency')\n",
        "plt.show()"
      ],
      "metadata": {
        "colab": {
          "base_uri": "https://localhost:8080/",
          "height": 472
        },
        "id": "_jSZvAWcwylz",
        "outputId": "ad358b72-1ec4-493d-d6c6-1f9b0686d320"
      },
      "execution_count": 7,
      "outputs": [
        {
          "output_type": "display_data",
          "data": {
            "text/plain": [
              "<Figure size 640x480 with 1 Axes>"
            ],
            "image/png": "[encoded data removed]"
          },
          "metadata": {}
        }
      ]
    },
    {
      "cell_type": "code",
      "source": [
        "# filter the dataset based on the text length\n",
        "for data in dataset:\n",
        "  if data['text_length'] > 600 or data['text_length'] < 20:\n",
        "    dataset.remove(data)\n",
        "\n",
        "len(dataset)"
      ],
      "metadata": {
        "colab": {
          "base_uri": "https://localhost:8080/"
        },
        "id": "VFmocl4BxufW",
        "outputId": "f5df6327-5a07-47f7-ad08-a0002c0473e9"
      },
      "execution_count": 8,
      "outputs": [
        {
          "output_type": "execute_result",
          "data": {
            "text/plain": [
              "38219"
            ]
          },
          "metadata": {},
          "execution_count": 8
        }
      ]
    },
    {
      "cell_type": "code",
      "source": [
        "Counter(data['pred'] for data in dataset)"
      ],
      "metadata": {
        "colab": {
          "base_uri": "https://localhost:8080/"
        },
        "id": "flkrC018ySoR",
        "outputId": "da47d456-3948-457d-939f-b917b7e60cc2"
      },
      "execution_count": 9,
      "outputs": [
        {
          "output_type": "execute_result",
          "data": {
            "text/plain": [
              "Counter({'died in': 2372,\n",
              "         'educated in': 25163,\n",
              "         'born in': 7271,\n",
              "         'born on': 2005,\n",
              "         'has degree': 1408})"
            ]
          },
          "metadata": {},
          "execution_count": 9
        }
      ]
    },
    {
      "cell_type": "code",
      "source": [
        "sampling_strategy= {'born in': 2200,\n",
        "                    'educated in':2200,\n",
        "                    'died in': 2200,\n",
        "                    'born on': 1990,\n",
        "                    'has degree':1408\n",
        "}\n",
        "\n",
        "X = [list(data.values()) for data in dataset]\n",
        "y = [data['pred'] for data in dataset]\n",
        "\n",
        "# Apply UnderSampling\n",
        "under_sampling = RandomUnderSampler(sampling_strategy=sampling_strategy, random_state=42)\n",
        "X_undersample, y_undersample = under_sampling.fit_resample(X, y)\n",
        "\n",
        "# Apply oversampling\n",
        "over_sampling = RandomOverSampler(sampling_strategy='not majority', random_state=42)\n",
        "X_balanced, y_balanced = over_sampling.fit_resample(X_undersample, y_undersample)\n",
        "\n",
        "print(Counter(y_balanced))"
      ],
      "metadata": {
        "colab": {
          "base_uri": "https://localhost:8080/"
        },
        "id": "N5d0lfnfydch",
        "outputId": "3d77fc69-9a40-4f73-a775-ca4769af3a94"
      },
      "execution_count": 10,
      "outputs": [
        {
          "output_type": "stream",
          "name": "stdout",
          "text": [
            "Counter({'born in': 2200, 'born on': 2200, 'died in': 2200, 'educated in': 2200, 'has degree': 2200})\n"
          ]
        }
      ]
    },
    {
      "cell_type": "code",
      "source": [
        "degree_type =[]\n",
        "for x in X_balanced:\n",
        "  if x[0] == 'has degree':\n",
        "    degree_type.append(x[2])\n",
        "\n",
        "degree_count = Counter(degree_type)\n",
        "degree_count = sorted(degree_count.items(), key=lambda item: item[1], reverse=True)\n",
        "print(degree_count[0:5])\n",
        "print(len(degree_count))"
      ],
      "metadata": {
        "colab": {
          "base_uri": "https://localhost:8080/"
        },
        "id": "42lnWwXg4FMy",
        "outputId": "b9a3d279-65fe-4524-d669-0e51518e48ae"
      },
      "execution_count": 11,
      "outputs": [
        {
          "output_type": "stream",
          "name": "stdout",
          "text": [
            "[('Bachelor of Arts', 1095), ('Bachelor of Science', 382), ('Bachelor of Laws', 119), ('Bachelor of Fine Arts', 71), ('Master of Arts', 65)]\n",
            "67\n"
          ]
        }
      ]
    },
    {
      "cell_type": "code",
      "source": [
        "# Mapping list of degree categories to their corresponding degree abbreviations\n",
        "degree_mapping = {\n",
        "    \"Bachelor of Laws\": \"B.L.\",\n",
        "    \"Bachelor of Arts\": \"B.A.\",\n",
        "    \"Bachelor of Science\": \"B.Sc\",\n",
        "    \"Bachelor of Fine Arts\": \"BFA\",\n",
        "    \"Bachelor of Philosophy\": \"Ph.B.\",\n",
        "    \"Master of Arts\": \"M.A.\",\n",
        "    \"Doctor of Medicine\": \"M.D.\",\n",
        "    \"Master of Business Administration\": \"MBA\",\n",
        "    \"Juris Doctor\": \"J.D.\",\n",
        "    \"Bachelor of Technology\": \"B.Tech\",\n",
        "    \"Bachelor of Music\": \"Mus.B.\",\n",
        "    \"Bachelor of Engineering\": \"BSEE\",\n",
        "    \"Doctor of Philosophy\": \"Ph.D\",\n",
        "    \"Master of Science\": \"M.Sc.\",\n",
        "    \"Business administration\": \"B.B.A.\",\n",
        "    \"Legum Doctor\": \"LL.D.\",\n",
        "    \"Master of Social Work\": \"M.S.W.\",\n",
        "    \"Bachelor of Theology\": \"Th.B.\",\n",
        "    \"Bachelor of Education\": \"B.Ed\",\n",
        "    \"Doctor of Divinity\": \"D.D.\",\n",
        "    \"Doctor of Education\": \"Ed.D.\",\n",
        "    \"Bachelor of Electrical Engineering\": \"B.E.E.\",\n",
        "    \"Master of Laws\": \"LL.M.\"\n",
        "}\n",
        "\n",
        "\n",
        "def extract_degree(text, degree_object):\n",
        "    marked_text = text\n",
        "    # Find the corresponding degree abbreviation for the given degree object\n",
        "    degree_abbr = degree_mapping.get(degree_object)\n",
        "    if degree_abbr:\n",
        "        degree_abbr_escaped = re.escape(degree_abbr)\n",
        "        pattern = r'\\b' + degree_abbr_escaped + r'\\W'\n",
        "\n",
        "        match = re.search(pattern, marked_text)\n",
        "        if match:\n",
        "            marked_text = re.sub(pattern, f'{degree_object}', marked_text)\n",
        "    return marked_text\n"
      ],
      "metadata": {
        "id": "W_dwTArkWNZk"
      },
      "execution_count": 12,
      "outputs": []
    },
    {
      "cell_type": "code",
      "source": [
        "def extract_year(date):\n",
        "    # Match year in YYYY-MM-DD format\n",
        "    year_pattern = r'(\\b\\d{4}\\b)-\\d{2}-\\d{2}'\n",
        "    match = re.search(year_pattern, date)\n",
        "    if match:\n",
        "        # Extract year and convert to YY format\n",
        "        full_year = match.group(1)\n",
        "        return full_year[-4:]\n",
        "    else:\n",
        "        return date\n"
      ],
      "metadata": {
        "id": "SGcW_vGt8fvQ"
      },
      "execution_count": 13,
      "outputs": []
    },
    {
      "cell_type": "code",
      "source": [
        "def mark_entities(data):\n",
        "\n",
        "    relation, subject, obj, text, length = data\n",
        "\n",
        "    if relation == 'has degree':\n",
        "      text = extract_degree(text, obj)\n",
        "\n",
        "    if obj == 'born on':\n",
        "      obj = extract_year(obj)\n",
        "\n",
        "    # Extract first and last name of the subject\n",
        "    subject_parts = subject.split()\n",
        "\n",
        "    # Try to replace the most specific subject mention first\n",
        "    subject_found = False\n",
        "    if subject in text:\n",
        "        text = text.replace(subject, f\"[E1]{subject}[/E1]\")\n",
        "        subject_found = True\n",
        "\n",
        "    else:\n",
        "      for name in subject_parts:\n",
        "        if name in text:\n",
        "          text = text.replace(name, f\"[E1]{name}[/E1]\")\n",
        "          subject_found = True\n",
        "\n",
        "    # Mark the object in the sentence\n",
        "    if obj in text:\n",
        "        text = text.replace(obj, f\"[E2]{obj}[/E2]\")\n",
        "\n",
        "    text = text.replace('.', '.[SEP]')\n",
        "\n",
        "    # Split the text into segments using [SEP]\n",
        "    segments = text.split(\"[SEP]\")\n",
        "\n",
        "    # Keep only segments that contain [E1] or [E2]\n",
        "    filtered_segments = [segment.strip() for segment in segments if \"[E1]\" in segment or \"[E2]\" in segment]\n",
        "\n",
        "    cleaned_text = \" [SEP] \".join(filtered_segments)\n",
        "\n",
        "    item = [subject, obj, relation, cleaned_text]\n",
        "\n",
        "    return item\n"
      ],
      "metadata": {
        "id": "Brjcallkjy72"
      },
      "execution_count": 14,
      "outputs": []
    },
    {
      "cell_type": "code",
      "source": [
        "text_list = []\n",
        "for item in X_balanced:\n",
        "  text_list.append(mark_entities(item))\n",
        "\n",
        "text_list[0:2]"
      ],
      "metadata": {
        "colab": {
          "base_uri": "https://localhost:8080/"
        },
        "collapsed": true,
        "id": "0i1VQC5isgaU",
        "outputId": "a58c7379-39bd-4154-8e95-7cf7e4c46d63"
      },
      "execution_count": 15,
      "outputs": [
        {
          "output_type": "execute_result",
          "data": {
            "text/plain": [
              "[['Thomas Summers West',\n",
              "  'Peterhead',\n",
              "  'born in',\n",
              "  'He was born in 1927 in [E2]Peterhead[/E2], Scotland and educated at Old Tarbat Public School in Portmahomack and then Tain Royal Academy.'],\n",
              " ['Romuald Giegiel',\n",
              "  'Warsaw',\n",
              "  'born in',\n",
              "  '[E1]Romuald Giegiel[/E1] (born 8 May 1957 in [E2]Warsaw[/E2]) is a retired hurdler from Poland.']]"
            ]
          },
          "metadata": {},
          "execution_count": 15
        }
      ]
    },
    {
      "cell_type": "code",
      "source": [
        "from sklearn.preprocessing import LabelEncoder\n",
        "\n",
        "# Initialize the label encoder\n",
        "label_encoder = LabelEncoder()\n",
        "\n",
        "# Define the mapping between labels and encoded numbers\n",
        "label_mapping = {\n",
        "    'educated in': 0,\n",
        "    'died in': 1,\n",
        "    'born in': 2,\n",
        "    'born on': 3,\n",
        "    'has degree': 4\n",
        "}\n",
        "\n",
        "# Fit the label encoder with the specified mapping\n",
        "label_encoder.fit(list(label_mapping.values()))\n",
        "\n",
        "# Extract the labels from X_balanced\n",
        "classes = [entry[2] for entry in text_list]\n",
        "\n",
        "# Transform the labels using the fitted label encoder\n",
        "encoded_labels = [label_mapping[label] for label in classes]\n",
        "\n",
        "# Update the labels in X_balanced\n",
        "for i, entry in enumerate(text_list):\n",
        "    entry.append(encoded_labels[i])\n"
      ],
      "metadata": {
        "id": "qhFm3BuFyE-1"
      },
      "execution_count": 16,
      "outputs": []
    },
    {
      "cell_type": "code",
      "source": [
        "# Initialize the BERT tokenizer\n",
        "tokenizer = BertTokenizer.from_pretrained(\"google-bert/bert-base-uncased\", pad_token= '[PAD]')\n",
        "\n",
        "\n",
        "# Define a function to pad or truncate sequences\n",
        "def pad_sequences(seq, max_length):\n",
        "    if len(seq) < max_length:\n",
        "        # Pad with [PAD] tokens if the sequence is shorter than max_length\n",
        "        padding = ['[PAD]'] * (max_length - len(seq))\n",
        "        return seq + padding\n",
        "    else:\n",
        "        # Truncate if the sequence is longer than max_length\n",
        "        return seq[:max_length]\n"
      ],
      "metadata": {
        "id": "J299kgULRivR",
        "colab": {
          "base_uri": "https://localhost:8080/",
          "height": 145,
          "referenced_widgets": [
            "f4a70fadeeb3409a864bcbcde6ecc736",
            "ac9a768b19744f79b0ea122a2c4e9ae3",
            "859d93a7e28142239f1a21d497dd9b65",
            "f65a1e5293ee4c259931ffcb4d7861bc",
            "a7434fa98fbc479680c4b772c3472bba",
            "128733d3af774d608542180a4961ec79",
            "52c92b87a73144479d2b3f68ead2c6bf",
            "8b9218dad8a64f8b9e0a45776d1d6635",
            "3edf56068e7743f3b27140c35d11b629",
            "4ed5117d3f214a3abcb478c44d445f8a",
            "78c1acbe7e70468181813038eb98d1d2",
            "b5bbb087a8f64006b38d1d5475f68d66",
            "6defa352d3f74eceb36052cea42430e4",
            "1042be4f04334c7cb569288fe0ed7a1d",
            "ba5ee9f1e953490db35100f788f61aa4",
            "395aaddbc4794b119db2ad440bc89eda",
            "ec3190eb0afa4d4abb11b4710ded8829",
            "c9cca9a014964f7cb1f822f6a63f3728",
            "3341c98cd3124af8bef79c4b7b9dfb3a",
            "07c968f795a04c278083dbf837aa95b5",
            "98a20cbbc92d43f7b594ebb5c868cbbe",
            "f34a834e5243401ab1beaf126f517898",
            "4efa7ea1b09b4f8b8d07645b3ceb0385",
            "3b7b254e238e4faea5286bd91012e0ff",
            "89d31cd645144ec9893762872ec9d93b",
            "96af3c899dd8444e8d9b62dbd1dcdf05",
            "33969f500e3545b3982604866b27302d",
            "2509ba4c70d344f9a9e60b965c5b5cb3",
            "e7c57b1819c049df8576338dcb9f6676",
            "e4b7e9358bd74c80b1226a1371552b7e",
            "72e21b43c8924a5f8cf5c85ae2015566",
            "b57458f05be34942b45e09c2c8be42d9",
            "2729565c6abf4db2b4706fcc4119cfc2",
            "bfc882b50cb444959cbf05f9ebef3036",
            "c3adccde04bf4b7cae57813a02b4567c",
            "a3e61e3a791249cca4b2488e7c001c34",
            "f84707cd3e2f47859b79eb84a23c396b",
            "e919114739b9465fbe67ef71d80d62d2",
            "b2a841fe19d840439679e49ae176c17c",
            "7df3d874dbf743e19c03a9fa59bd35f7",
            "d91257dcc6b24250a4b10b32ff36c414",
            "d7cdd7667b0843c393ac35e5f5558d38",
            "26b8d0d5e5dc41268ffbe8d871424537",
            "41ef79313a184ebdb99477ca06312dcf"
          ]
        },
        "outputId": "a9957ace-9520-4ab7-e65e-659207e3f629"
      },
      "execution_count": 18,
      "outputs": [
        {
          "output_type": "display_data",
          "data": {
            "text/plain": [
              "tokenizer_config.json:   0%|          | 0.00/48.0 [00:00<?, ?B/s]"
            ],
            "application/vnd.jupyter.widget-view+json": {
              "version_major": 2,
              "version_minor": 0,
              "model_id": "f4a70fadeeb3409a864bcbcde6ecc736"
            }
          },
          "metadata": {}
        },
        {
          "output_type": "display_data",
          "data": {
            "text/plain": [
              "vocab.txt:   0%|          | 0.00/232k [00:00<?, ?B/s]"
            ],
            "application/vnd.jupyter.widget-view+json": {
              "version_major": 2,
              "version_minor": 0,
              "model_id": "b5bbb087a8f64006b38d1d5475f68d66"
            }
          },
          "metadata": {}
        },
        {
          "output_type": "display_data",
          "data": {
            "text/plain": [
              "tokenizer.json:   0%|          | 0.00/466k [00:00<?, ?B/s]"
            ],
            "application/vnd.jupyter.widget-view+json": {
              "version_major": 2,
              "version_minor": 0,
              "model_id": "4efa7ea1b09b4f8b8d07645b3ceb0385"
            }
          },
          "metadata": {}
        },
        {
          "output_type": "display_data",
          "data": {
            "text/plain": [
              "config.json:   0%|          | 0.00/570 [00:00<?, ?B/s]"
            ],
            "application/vnd.jupyter.widget-view+json": {
              "version_major": 2,
              "version_minor": 0,
              "model_id": "bfc882b50cb444959cbf05f9ebef3036"
            }
          },
          "metadata": {}
        }
      ]
    },
    {
      "cell_type": "code",
      "source": [
        "token_text= []\n",
        "token_len = []\n",
        "\n",
        "for data_point in text_list:\n",
        "    text = data_point[3]\n",
        "\n",
        "    # Tokenize the subject, object, and text using BERT tokenizer\n",
        "    tokenized_text = tokenizer.tokenize(text)\n",
        "    token_text.append(tokenized_text)\n",
        "    token_len.append(len(tokenized_text))\n",
        "\n",
        "# Count the frequency of each text length\n",
        "token_length_freq = Counter(token_len)\n",
        "\n",
        "# Extract lengths and frequencies for plotting\n",
        "lengths = list(token_length_freq.keys())\n",
        "frequencies = list(token_length_freq.values())\n",
        "\n",
        "# Plotting\n",
        "plt.bar(lengths, frequencies)\n",
        "plt.xlabel('Token Length')\n",
        "plt.ylabel('Frequency')\n",
        "plt.title('Token Length Frequency')\n",
        "plt.show()\n"
      ],
      "metadata": {
        "colab": {
          "base_uri": "https://localhost:8080/",
          "height": 472
        },
        "id": "ufc_NrSSA4oR",
        "outputId": "07cc029e-b3b5-414c-dbf6-909e1d4c860b"
      },
      "execution_count": 19,
      "outputs": [
        {
          "output_type": "display_data",
          "data": {
            "text/plain": [
              "<Figure size 640x480 with 1 Axes>"
            ],
            "image/png": "[encoded data removed]"
          },
          "metadata": {}
        }
      ]
    },
    {
      "cell_type": "code",
      "source": [
        "# Define your max sequence length\n",
        "max_seq_length = 128\n",
        "\n",
        "inputs_text = []\n",
        "labels = []\n",
        "\n",
        "for data_point in text_list:\n",
        "    text = data_point[3]\n",
        "\n",
        "    tokenized_text = tokenizer.tokenize(text)\n",
        "    tokenized_text = tokenized_text[:max_seq_length - 2]\n",
        "    tokenized_text = ['[CLS]'] + tokenized_text + ['[SEP]']\n",
        "    paded_text = pad_sequences(tokenized_text, max_seq_length)\n",
        "\n",
        "    # Convert the tokenized subject, object, and text to input IDs\n",
        "    input_ids_text = tokenizer.convert_tokens_to_ids(paded_text)\n",
        "    inputs_text.append(input_ids_text)\n",
        "\n",
        "    # Label the relevant entities and their relationships\n",
        "    label = data_point[4]\n",
        "    labels.append(label)\n"
      ],
      "metadata": {
        "id": "JOSsp7UGJjfC"
      },
      "execution_count": 20,
      "outputs": []
    },
    {
      "cell_type": "code",
      "source": [
        "inputs_tns = torch.tensor(inputs_text)\n",
        "labels_tns = torch.tensor(labels)\n",
        "\n",
        "# Split the data into training, validation, and test sets\n",
        "train_input, val_input, train_labels, val_labels = train_test_split(inputs_tns, labels_tns, test_size=0.3,stratify= labels ,random_state=42)\n",
        "val_input, test_input, val_labels, test_labels = train_test_split(val_input, val_labels, test_size=0.5, random_state=42)\n"
      ],
      "metadata": {
        "id": "ODczstLchpbq"
      },
      "execution_count": 21,
      "outputs": []
    },
    {
      "cell_type": "code",
      "source": [
        "# Create a TensorDataset from the input tensors and labels\n",
        "train_dataset = TensorDataset(train_input, train_labels)\n",
        "\n",
        "val_dataset = TensorDataset(val_input, val_labels)\n",
        "\n",
        "test_dataset = TensorDataset(test_input, test_labels)\n",
        "\n",
        "# Define batch size and create DataLoader instances\n",
        "batch_size = 64\n",
        "train_dataloader = DataLoader(train_dataset, batch_size=batch_size, shuffle=False)\n",
        "val_dataloader = DataLoader(val_dataset, batch_size=batch_size)\n",
        "test_dataloader = DataLoader(test_dataset, batch_size=batch_size, shuffle=False)"
      ],
      "metadata": {
        "id": "jJz5gkjUi2Nl"
      },
      "execution_count": 22,
      "outputs": []
    },
    {
      "cell_type": "code",
      "source": [
        "model_bert = BertForSequenceClassification.from_pretrained(\"bert-base-uncased\", num_labels=5)\n",
        "\n",
        "# Optional: Freeze BERT layers if desired\n",
        "for param in model_bert.base_model.parameters():\n",
        "    param.requires_grad = False\n",
        "\n",
        "# Move the model to GPU if available\n",
        "device = torch.device(\"cuda\" if torch.cuda.is_available() else \"cpu\")\n",
        "model_bert.to(device)\n",
        "\n",
        "# Wrap the model with DataParallel\n",
        "if torch.cuda.device_count() > 1:\n",
        "    model_bert = torch.nn.DataParallel(model_bert)"
      ],
      "metadata": {
        "colab": {
          "base_uri": "https://localhost:8080/",
          "height": 137,
          "referenced_widgets": [
            "9438b6b8ae4a4fb58f9d39a3d069fe5f",
            "7aae62c0af474f128d90cd40ce0a578c",
            "902a837959c143bcb2aac8a7b9d68059",
            "463591f3758d4721abcf58960c1a6cbc",
            "5894938785db4b3e844bfaf55dcb65e2",
            "b7e557a6d6aa47a98832dc173851add1",
            "f42a5708446346f8bced376c9d26dceb",
            "02dab93221f24946aa100f9fa36389cb",
            "7eedd3cdbc5d4d05b61259fea8906897",
            "5237c8a9ff0f4a4f85d8d6f5029615b2",
            "f95acf9650c24b27997620675ea7d0d0",
            "b6d3a6cb8a04480689eac28e3ee52a04",
            "d78b2dcab8574c51b54010d44d995940",
            "c68f54a3d17b4c51a48f88c9c8a25426",
            "2265a6ae3c314eacbd1be72d462a2c7f",
            "cdd42004086443e8817cf8ec306ea2d4",
            "e46db97ddd28423f9e40ac6deec4590e",
            "0e6c616b73564aa295c36eed1e0012b3",
            "efce03d5ba7648e492bd955dcbbd9b34",
            "65b427f5d06941609f485979adc1f943",
            "2ff0f06e9ea6423b97cabae868553ee9",
            "df32139004a84bdeb457f3321f2dd1ec"
          ]
        },
        "id": "jqN6ywHRBxAR",
        "outputId": "cb938fef-701c-486f-a36e-65bdc17aa7dc"
      },
      "execution_count": 23,
      "outputs": [
        {
          "output_type": "display_data",
          "data": {
            "text/plain": [
              "config.json:   0%|          | 0.00/570 [00:00<?, ?B/s]"
            ],
            "application/vnd.jupyter.widget-view+json": {
              "version_major": 2,
              "version_minor": 0,
              "model_id": "9438b6b8ae4a4fb58f9d39a3d069fe5f"
            }
          },
          "metadata": {}
        },
        {
          "output_type": "display_data",
          "data": {
            "text/plain": [
              "model.safetensors:   0%|          | 0.00/440M [00:00<?, ?B/s]"
            ],
            "application/vnd.jupyter.widget-view+json": {
              "version_major": 2,
              "version_minor": 0,
              "model_id": "b6d3a6cb8a04480689eac28e3ee52a04"
            }
          },
          "metadata": {}
        },
        {
          "output_type": "stream",
          "name": "stderr",
          "text": [
            "Some weights of BertForSequenceClassification were not initialized from the model checkpoint at bert-base-uncased and are newly initialized: ['classifier.bias', 'classifier.weight']\n",
            "You should probably TRAIN this model on a down-stream task to be able to use it for predictions and inference.\n"
          ]
        }
      ]
    },
    {
      "cell_type": "code",
      "source": [
        "model_distilbert = DistilBertForSequenceClassification.from_pretrained(\"distilbert-base-uncased\", num_labels=5)\n",
        "\n",
        "# Optional: Freeze BERT layers if desired\n",
        "for param in model_bert.base_model.parameters():\n",
        "    param.requires_grad = False\n",
        "\n",
        "# Move the model to GPU if available\n",
        "device = torch.device(\"cuda\" if torch.cuda.is_available() else \"cpu\")\n",
        "model_bert.to(device)\n",
        "\n",
        "# Wrap the model with DataParallel\n",
        "if torch.cuda.device_count() > 1:\n",
        "    model_bert = torch.nn.DataParallel(model_bert)\n",
        "\n",
        "# print(model_bert)"
      ],
      "metadata": {
        "colab": {
          "base_uri": "https://localhost:8080/",
          "height": 137,
          "referenced_widgets": [
            "939ea35dfd004e51ace38342b87564ef",
            "15d0f4d0cfca4e559ce1668df7717963",
            "e3dd3a63af5f4ed49ea72d756d10e148",
            "ee2f09e8b80b40bdb24b232ae4d6629e",
            "8bb60af01b304dd888c31e30681e47be",
            "c9b67b90a0d14317a19719c3cc800a81",
            "d364c92d7d454aeb9fd42c39ed5db88b",
            "1938ad76b3b04bdfb82b5154a4943af0",
            "8b8c34b09f5f466987151b7f62fdaa58",
            "21365738bab54d99a9b6021622fb33ef",
            "ce1cc2568c99492880076adff31cce72",
            "bd9a6b15d8a94f778065b0a358905939",
            "623d57eb781d4c21a05c15213cce72f1",
            "27b6a47b7be74f81a50b74ae997d7820",
            "2c9b6b2a5faf4f64a5cb5874972813fd",
            "4418ca1b70224047bea787bc91ddb9c9",
            "fc50ffddfff24656bd8235e7da61237e",
            "463fe9b585f14ba8ba9f11878d94454c",
            "0cf7783b922c4a6cb613f001e220f5b7",
            "38b4a4f04c8e4a13a5f453420594e317",
            "cc2edd550e374659994f25de4450275e",
            "7f658e06147446f1a71853d91a939631"
          ]
        },
        "id": "huWSUrmWZTH3",
        "outputId": "d9416100-28a6-4bb4-9aac-fb2320bf3aab"
      },
      "execution_count": 24,
      "outputs": [
        {
          "output_type": "display_data",
          "data": {
            "text/plain": [
              "config.json:   0%|          | 0.00/483 [00:00<?, ?B/s]"
            ],
            "application/vnd.jupyter.widget-view+json": {
              "version_major": 2,
              "version_minor": 0,
              "model_id": "939ea35dfd004e51ace38342b87564ef"
            }
          },
          "metadata": {}
        },
        {
          "output_type": "display_data",
          "data": {
            "text/plain": [
              "model.safetensors:   0%|          | 0.00/268M [00:00<?, ?B/s]"
            ],
            "application/vnd.jupyter.widget-view+json": {
              "version_major": 2,
              "version_minor": 0,
              "model_id": "bd9a6b15d8a94f778065b0a358905939"
            }
          },
          "metadata": {}
        },
        {
          "output_type": "stream",
          "name": "stderr",
          "text": [
            "Some weights of DistilBertForSequenceClassification were not initialized from the model checkpoint at distilbert-base-uncased and are newly initialized: ['classifier.bias', 'classifier.weight', 'pre_classifier.bias', 'pre_classifier.weight']\n",
            "You should probably TRAIN this model on a down-stream task to be able to use it for predictions and inference.\n"
          ]
        }
      ]
    },
    {
      "cell_type": "code",
      "source": [
        "# Step 5: Fine-tune the BERT model\n",
        "\n",
        "loss_fn = torch.nn.CrossEntropyLoss()\n",
        "optimizer = AdamW(model_bert.parameters(), lr=3e-5)\n",
        "num_epochs = 50\n",
        "scaler = GradScaler()\n",
        "\n",
        "# Create an array to save train and validation loss (will be used in the plot)\n",
        "train_loss_array = []\n",
        "val_loss_array = []\n",
        "\n",
        "# Training loop\n",
        "for epoch in range(num_epochs):\n",
        "    model_bert.train()\n",
        "    total_loss = 0\n",
        "\n",
        "    for step, batch in enumerate(train_dataloader):\n",
        "        inputs_text, labels = batch\n",
        "        inputs_text, labels = inputs_text.to(device), labels.to(device)\n",
        "\n",
        "        optimizer.zero_grad()\n",
        "\n",
        "        with autocast():\n",
        "            outputs = model_bert(inputs_text, labels= labels)\n",
        "            logits = outputs.logits\n",
        "\n",
        "            # Use the Focal Loss function here\n",
        "            loss = loss_fn(logits, labels)\n",
        "\n",
        "        scaler.scale(loss).backward()\n",
        "        scaler.step(optimizer)\n",
        "        scaler.update()\n",
        "\n",
        "        total_loss += loss.item()\n",
        "\n",
        "    # Calculate average training loss for the epoch\n",
        "    avg_train_loss = total_loss / len(train_dataloader)\n",
        "\n",
        "    # Validation loop\n",
        "    model_bert.eval()\n",
        "    val_loss = 0\n",
        "    num_val_steps = 0\n",
        "\n",
        "    with torch.no_grad():\n",
        "        for batch in val_dataloader:\n",
        "            inputs_text,  labels = batch\n",
        "            inputs_text, labels = inputs_text.to(device), labels.to(device)\n",
        "\n",
        "            outputs = model_bert(inputs_text)\n",
        "            logits = outputs.logits\n",
        "\n",
        "            loss = loss_fn(logits, labels)\n",
        "            val_loss += loss.item()\n",
        "            num_val_steps += 1\n",
        "\n",
        "    avg_val_loss = val_loss / num_val_steps\n",
        "\n",
        "    if epoch % 5 ==0:\n",
        "      print(f\"Epoch {epoch}/{num_epochs}, Train_Loss: {avg_train_loss:.4f}, Val_Loss: {avg_val_loss:.4f}\")\n",
        "\n",
        "    train_loss_array.append(avg_train_loss)\n",
        "    val_loss_array.append(avg_val_loss)\n"
      ],
      "metadata": {
        "colab": {
          "base_uri": "https://localhost:8080/"
        },
        "outputId": "a4aa02ee-423b-41ca-b23a-1a9184d6eb47",
        "id": "m2Sw2BVgDuio"
      },
      "execution_count": 26,
      "outputs": [
        {
          "output_type": "stream",
          "name": "stderr",
          "text": [
            "<ipython-input-26-c4f85286d0c0>:6: FutureWarning: `torch.cuda.amp.GradScaler(args...)` is deprecated. Please use `torch.amp.GradScaler('cuda', args...)` instead.\n",
            "  scaler = GradScaler()\n",
            "<ipython-input-26-c4f85286d0c0>:23: FutureWarning: `torch.cuda.amp.autocast(args...)` is deprecated. Please use `torch.amp.autocast('cuda', args...)` instead.\n",
            "  with autocast():\n"
          ]
        },
        {
          "output_type": "stream",
          "name": "stdout",
          "text": [
            "Epoch 0/50, Train_Loss: 1.6126, Val_Loss: 1.5986\n",
            "Epoch 5/50, Train_Loss: 1.5882, Val_Loss: 1.5687\n",
            "Epoch 10/50, Train_Loss: 1.5736, Val_Loss: 1.5527\n",
            "Epoch 15/50, Train_Loss: 1.5643, Val_Loss: 1.5414\n",
            "Epoch 20/50, Train_Loss: 1.5606, Val_Loss: 1.5301\n",
            "Epoch 25/50, Train_Loss: 1.5480, Val_Loss: 1.5206\n",
            "Epoch 30/50, Train_Loss: 1.5441, Val_Loss: 1.5124\n",
            "Epoch 35/50, Train_Loss: 1.5319, Val_Loss: 1.5047\n",
            "Epoch 40/50, Train_Loss: 1.5272, Val_Loss: 1.4977\n",
            "Epoch 45/50, Train_Loss: 1.5186, Val_Loss: 1.4906\n"
          ]
        }
      ]
    },
    {
      "cell_type": "code",
      "source": [
        "plt.plot(train_loss_array)\n",
        "plt.plot(val_loss_array)\n",
        "plt.title('Training and Validation Loss Over Time')\n",
        "plt.xlabel('Epoch Number')\n",
        "plt.ylabel('Loss')\n",
        "\n",
        "plt.show()\n"
      ],
      "metadata": {
        "colab": {
          "base_uri": "https://localhost:8080/",
          "height": 472
        },
        "outputId": "076a0197-70cc-4f04-ea51-4e0ed7794485",
        "id": "PaHFgdv6EHqU"
      },
      "execution_count": 27,
      "outputs": [
        {
          "output_type": "display_data",
          "data": {
            "text/plain": [
              "<Figure size 640x480 with 1 Axes>"
            ],
            "image/png": "[encoded data removed]"
          },
          "metadata": {}
        }
      ]
    },
    {
      "cell_type": "code",
      "source": [
        "def compute_accuracy(predictions, labels):\n",
        "    predicted_labels = torch.argmax(predictions, dim=1)\n",
        "    correct_predictions = torch.eq(predicted_labels, labels).sum().item()\n",
        "    accuracy = correct_predictions / len(labels)\n",
        "    return accuracy\n",
        "\n"
      ],
      "metadata": {
        "id": "Kaht8oheEHqV"
      },
      "execution_count": 28,
      "outputs": []
    },
    {
      "cell_type": "code",
      "execution_count": 29,
      "metadata": {
        "colab": {
          "base_uri": "https://localhost:8080/"
        },
        "outputId": "1e584ea1-29c4-473e-d569-784b9d88fe4b",
        "id": "6i5oP7fZEHqV"
      },
      "outputs": [
        {
          "output_type": "stream",
          "name": "stdout",
          "text": [
            "Validation Accuracy: 0.3891\n"
          ]
        }
      ],
      "source": [
        "# evaluate the model by computing  accuracy, precision, recall, and F1-score\n",
        "model_bert.eval()\n",
        "val_accuracy = 0\n",
        "num_val_steps = 0\n",
        "\n",
        "with torch.no_grad():\n",
        "    for batch in val_dataloader:\n",
        "        inputs_text, labels = batch\n",
        "        inputs_text, labels = inputs_text.to(device), labels.to(device)\n",
        "\n",
        "        outputs = model_bert(inputs_text)\n",
        "        val_accuracy += compute_accuracy(outputs.logits, labels)\n",
        "        num_val_steps += 1\n",
        "\n",
        "avg_val_accuracy = val_accuracy / num_val_steps\n",
        "\n",
        "print(f\"Validation Accuracy: {avg_val_accuracy:.4f}\")\n"
      ]
    },
    {
      "cell_type": "code",
      "source": [
        "# Evaluation loop\n",
        "model_bert.eval()\n",
        "predictions = []\n",
        "true_labels = []\n",
        "\n",
        "with torch.no_grad():\n",
        "    for batch in test_dataloader:\n",
        "        inputs_text, labels = batch\n",
        "        inputs_text, labels = inputs_text.to(device), labels.to(device)\n",
        "\n",
        "        outputs = model_bert(inputs_text)\n",
        "        predicted_labels = torch.argmax(outputs.logits, dim=1)\n",
        "\n",
        "        predictions.extend(predicted_labels.tolist())\n",
        "        true_labels.extend(labels.tolist())\n"
      ],
      "metadata": {
        "id": "05bMWKbuEHqV"
      },
      "execution_count": 30,
      "outputs": []
    },
    {
      "cell_type": "code",
      "source": [
        "# Classification report\n",
        "print(classification_report(true_labels, predictions))\n"
      ],
      "metadata": {
        "colab": {
          "base_uri": "https://localhost:8080/"
        },
        "outputId": "a5f1ba32-920a-4125-ed95-b3a105329da4",
        "id": "QOaCKLlyEHqW"
      },
      "execution_count": 31,
      "outputs": [
        {
          "output_type": "stream",
          "name": "stdout",
          "text": [
            "              precision    recall  f1-score   support\n",
            "\n",
            "           0       0.60      0.19      0.29       368\n",
            "           1       0.58      0.61      0.60       318\n",
            "           2       0.33      0.59      0.42       307\n",
            "           3       0.33      0.52      0.40       347\n",
            "           4       0.67      0.21      0.32       310\n",
            "\n",
            "    accuracy                           0.42      1650\n",
            "   macro avg       0.50      0.42      0.41      1650\n",
            "weighted avg       0.50      0.42      0.40      1650\n",
            "\n"
          ]
        }
      ]
    },
    {
      "cell_type": "code",
      "source": [
        "# Generate confusion matrix\n",
        "conf_matrix = confusion_matrix(true_labels, predictions)\n",
        "\n",
        "# Display the confusion matrix using a heatmap\n",
        "plt.figure(figsize=(6, 5))\n",
        "sns.heatmap(conf_matrix, annot=True, fmt=\"d\", cmap=\"Blues\", xticklabels=['institution', 'died in', 'born in', 'born on', 'has degree'], yticklabels=['institution', 'died in', 'born in', 'born on', 'has degree'])\n",
        "plt.title(\"Confusion Matrix\")\n",
        "plt.xlabel(\"Predicted Label\")\n",
        "plt.ylabel(\"True Label\")\n",
        "plt.show()"
      ],
      "metadata": {
        "colab": {
          "base_uri": "https://localhost:8080/",
          "height": 487
        },
        "outputId": "de432dc6-dae9-414a-823a-0c735fb7c40c",
        "id": "RnbK5dUfEHqX"
      },
      "execution_count": 32,
      "outputs": [
        {
          "output_type": "display_data",
          "data": {
            "text/plain": [
              "<Figure size 600x500 with 2 Axes>"
            ],
            "image/png": "[encoded data removed]"
          },
          "metadata": {}
        }
      ]
    },
    {
      "cell_type": "code",
      "source": [
        "# Step 5: Fine-tune the DistilBERT model\n",
        "\n",
        "loss_fn = torch.nn.CrossEntropyLoss()\n",
        "optimizer = AdamW(model_distilbert.parameters(), lr=3e-5)\n",
        "num_epochs = 50\n",
        "scaler = GradScaler()\n",
        "\n",
        "# Create an array to save train and validation loss (will be used in the plot)\n",
        "train_loss_array = []\n",
        "val_loss_array = []\n",
        "\n",
        "# Training loop\n",
        "for epoch in range(num_epochs):\n",
        "    model_distilbert.train()\n",
        "    total_loss = 0\n",
        "\n",
        "    for step, batch in enumerate(train_dataloader):\n",
        "        inputs_text, labels = batch\n",
        "        inputs_text, labels = inputs_text.to(device), labels.to(device)\n",
        "\n",
        "        optimizer.zero_grad()\n",
        "\n",
        "        with autocast():\n",
        "            outputs = model_distilbert(inputs_text, labels= labels)\n",
        "            logits = outputs.logits\n",
        "\n",
        "            # Use the Focal Loss function here\n",
        "            loss = loss_fn(logits, labels)\n",
        "\n",
        "        scaler.scale(loss).backward()\n",
        "        scaler.step(optimizer)\n",
        "        scaler.update()\n",
        "\n",
        "        total_loss += loss.item()\n",
        "\n",
        "    # Calculate average training loss for the epoch\n",
        "    avg_train_loss = total_loss / len(train_dataloader)\n",
        "\n",
        "    # Validation loop\n",
        "    model_distilbert.eval()\n",
        "    val_loss = 0\n",
        "    num_val_steps = 0\n",
        "\n",
        "    with torch.no_grad():\n",
        "        for batch in val_dataloader:\n",
        "            inputs_text,  labels = batch\n",
        "            inputs_text, labels = inputs_text.to(device), labels.to(device)\n",
        "\n",
        "            outputs = model_distilbert(inputs_text)\n",
        "            logits = outputs.logits\n",
        "\n",
        "            loss = loss_fn(logits, labels)\n",
        "            val_loss += loss.item()\n",
        "            num_val_steps += 1\n",
        "\n",
        "    avg_val_loss = val_loss / num_val_steps\n",
        "\n",
        "    if epoch % 5 ==0:\n",
        "      print(f\"Epoch {epoch}/{num_epochs}, Train_Loss: {avg_train_loss:.4f}, Val_Loss: {avg_val_loss:.4f}\")\n",
        "\n",
        "    train_loss_array.append(avg_train_loss)\n",
        "    val_loss_array.append(avg_val_loss)\n"
      ],
      "metadata": {
        "colab": {
          "base_uri": "https://localhost:8080/"
        },
        "id": "VzLVnSQTDeJL",
        "outputId": "30350007-2e4e-46cf-dc32-0b4460367c70"
      },
      "execution_count": null,
      "outputs": [
        {
          "output_type": "stream",
          "name": "stderr",
          "text": [
            "/usr/local/lib/python3.11/dist-packages/transformers/optimization.py:591: FutureWarning: This implementation of AdamW is deprecated and will be removed in a future version. Use the PyTorch implementation torch.optim.AdamW instead, or set `no_deprecation_warning=True` to disable this warning\n",
            "  warnings.warn(\n",
            "<ipython-input-72-c4f85286d0c0>:6: FutureWarning: `torch.cuda.amp.GradScaler(args...)` is deprecated. Please use `torch.amp.GradScaler('cuda', args...)` instead.\n",
            "  scaler = GradScaler()\n",
            "<ipython-input-72-c4f85286d0c0>:23: FutureWarning: `torch.cuda.amp.autocast(args...)` is deprecated. Please use `torch.amp.autocast('cuda', args...)` instead.\n",
            "  with autocast():\n",
            "We strongly recommend passing in an `attention_mask` since your input_ids may be padded. See https://huggingface.co/docs/transformers/troubleshooting#incorrect-output-when-padding-tokens-arent-masked.\n"
          ]
        },
        {
          "output_type": "stream",
          "name": "stdout",
          "text": [
            "Epoch 0/50, Train_Loss: 1.5431, Val_Loss: 1.4415\n",
            "Epoch 5/50, Train_Loss: 0.9816, Val_Loss: 0.9048\n",
            "Epoch 10/50, Train_Loss: 0.8150, Val_Loss: 0.7584\n",
            "Epoch 15/50, Train_Loss: 0.7425, Val_Loss: 0.6881\n",
            "Epoch 20/50, Train_Loss: 0.6972, Val_Loss: 0.6476\n",
            "Epoch 25/50, Train_Loss: 0.6636, Val_Loss: 0.6183\n",
            "Epoch 30/50, Train_Loss: 0.6390, Val_Loss: 0.5977\n",
            "Epoch 35/50, Train_Loss: 0.6181, Val_Loss: 0.5801\n",
            "Epoch 40/50, Train_Loss: 0.6041, Val_Loss: 0.5656\n",
            "Epoch 45/50, Train_Loss: 0.5861, Val_Loss: 0.5506\n"
          ]
        }
      ]
    },
    {
      "cell_type": "code",
      "source": [
        "plt.plot(train_loss_array)\n",
        "plt.plot(val_loss_array)\n",
        "plt.title('Training and Validation Loss Over Time')\n",
        "plt.xlabel('Epoch Number')\n",
        "plt.ylabel('Loss')\n",
        "\n",
        "plt.show()\n"
      ],
      "metadata": {
        "colab": {
          "base_uri": "https://localhost:8080/",
          "height": 472
        },
        "id": "gq7kCmkwEOP6",
        "outputId": "84829b52-8faa-4424-b837-194aab508087"
      },
      "execution_count": null,
      "outputs": [
        {
          "output_type": "display_data",
          "data": {
            "text/plain": [
              "<Figure size 640x480 with 1 Axes>"
            ],
            "image/png": "[encoded data removed]"
          },
          "metadata": {}
        }
      ]
    },
    {
      "cell_type": "code",
      "execution_count": null,
      "metadata": {
        "colab": {
          "base_uri": "https://localhost:8080/"
        },
        "id": "e853c665",
        "outputId": "1fe9fb85-dd60-4570-918c-fd329dbf2da8"
      },
      "outputs": [
        {
          "output_type": "stream",
          "name": "stdout",
          "text": [
            "Validation Accuracy: 0.7943\n"
          ]
        }
      ],
      "source": [
        "# evaluate the model by computing  accuracy, precision, recall, and F1-score\n",
        "model_distilbert.eval()\n",
        "val_accuracy = 0\n",
        "num_val_steps = 0\n",
        "\n",
        "with torch.no_grad():\n",
        "    for batch in val_dataloader:\n",
        "        inputs_text, labels = batch\n",
        "        inputs_text, labels = inputs_text.to(device), labels.to(device)\n",
        "\n",
        "        outputs = model_distilbert(inputs_text)\n",
        "        val_accuracy += compute_accuracy(outputs.logits, labels)\n",
        "        num_val_steps += 1\n",
        "\n",
        "avg_val_accuracy = val_accuracy / num_val_steps\n",
        "\n",
        "print(f\"Validation Accuracy: {avg_val_accuracy:.4f}\")\n"
      ]
    },
    {
      "cell_type": "code",
      "source": [
        "# Evaluation loop\n",
        "model_distilbert.eval()\n",
        "predictions = []\n",
        "true_labels = []\n",
        "\n",
        "with torch.no_grad():\n",
        "    for batch in test_dataloader:\n",
        "        inputs_text, labels = batch\n",
        "        inputs_text, labels = inputs_text.to(device), labels.to(device)\n",
        "\n",
        "        outputs = model_distilbert(inputs_text)\n",
        "        predicted_labels = torch.argmax(outputs.logits, dim=1)\n",
        "\n",
        "        predictions.extend(predicted_labels.tolist())\n",
        "        true_labels.extend(labels.tolist())\n"
      ],
      "metadata": {
        "id": "lo1bd4rJgFqG"
      },
      "execution_count": null,
      "outputs": []
    },
    {
      "cell_type": "code",
      "source": [
        "# Classification report\n",
        "print(classification_report(true_labels, predictions))\n"
      ],
      "metadata": {
        "colab": {
          "base_uri": "https://localhost:8080/"
        },
        "id": "ogl0i5UBjRB9",
        "outputId": "bf5b2f80-f756-4a64-915b-7f9ca83af48b"
      },
      "execution_count": null,
      "outputs": [
        {
          "output_type": "stream",
          "name": "stdout",
          "text": [
            "              precision    recall  f1-score   support\n",
            "\n",
            "           0       0.76      0.75      0.76       368\n",
            "           1       0.93      0.90      0.91       318\n",
            "           2       0.67      0.63      0.65       307\n",
            "           3       0.70      0.76      0.73       347\n",
            "           4       0.88      0.91      0.89       310\n",
            "\n",
            "    accuracy                           0.79      1650\n",
            "   macro avg       0.79      0.79      0.79      1650\n",
            "weighted avg       0.79      0.79      0.79      1650\n",
            "\n"
          ]
        }
      ]
    },
    {
      "cell_type": "code",
      "source": [
        "# Generate confusion matrix\n",
        "conf_matrix = confusion_matrix(true_labels, predictions)\n",
        "\n",
        "# Display the confusion matrix using a heatmap\n",
        "plt.figure(figsize=(6, 5))\n",
        "sns.heatmap(conf_matrix, annot=True, fmt=\"d\", cmap=\"Blues\", xticklabels=['institution', 'died in', 'born in', 'born on', 'has degree'], yticklabels=['institution', 'died in', 'born in', 'born on', 'has degree'])\n",
        "plt.title(\"Confusion Matrix\")\n",
        "plt.xlabel(\"Predicted Label\")\n",
        "plt.ylabel(\"True Label\")\n",
        "plt.show()"
      ],
      "metadata": {
        "colab": {
          "base_uri": "https://localhost:8080/",
          "height": 487
        },
        "id": "9szEF_-iUl79",
        "outputId": "c6710b4f-ee24-4301-fa7a-854327655f71"
      },
      "execution_count": null,
      "outputs": [
        {
          "output_type": "display_data",
          "data": {
            "text/plain": [
              "<Figure size 600x500 with 2 Axes>"
            ],
            "image/png": "[encoded data removed]"
          },
          "metadata": {}
        }
      ]
    }
  ]
}